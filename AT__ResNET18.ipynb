{
  "cells": [
    {
      "cell_type": "markdown",
      "metadata": {
        "id": "atqZGIIyNSBb"
      },
      "source": [
        "#**Практическое задание №1**"
      ]
    },
    {
      "cell_type": "markdown",
      "metadata": {
        "id": "ga5g3lUhNNBy"
      },
      "source": [
        "Установка необходимых пакетов:"
      ]
    },
    {
      "cell_type": "code",
      "execution_count": null,
      "metadata": {
        "id": "TGBk36LpukIu",
        "colab": {
          "base_uri": "https://localhost:8080/"
        },
        "outputId": "0b36b00b-3608-4110-88e6-8b4e59b83d65"
      },
      "outputs": [
        {
          "output_type": "stream",
          "name": "stdout",
          "text": [
            "Requirement already satisfied: gdown in /usr/local/lib/python3.10/dist-packages (5.2.0)\n",
            "Requirement already satisfied: beautifulsoup4 in /usr/local/lib/python3.10/dist-packages (from gdown) (4.12.3)\n",
            "Requirement already satisfied: filelock in /usr/local/lib/python3.10/dist-packages (from gdown) (3.16.1)\n",
            "Requirement already satisfied: requests[socks] in /usr/local/lib/python3.10/dist-packages (from gdown) (2.32.3)\n",
            "Requirement already satisfied: tqdm in /usr/local/lib/python3.10/dist-packages (from gdown) (4.66.6)\n",
            "Requirement already satisfied: soupsieve>1.2 in /usr/local/lib/python3.10/dist-packages (from beautifulsoup4->gdown) (2.6)\n",
            "Requirement already satisfied: charset-normalizer<4,>=2 in /usr/local/lib/python3.10/dist-packages (from requests[socks]->gdown) (3.4.0)\n",
            "Requirement already satisfied: idna<4,>=2.5 in /usr/local/lib/python3.10/dist-packages (from requests[socks]->gdown) (3.10)\n",
            "Requirement already satisfied: urllib3<3,>=1.21.1 in /usr/local/lib/python3.10/dist-packages (from requests[socks]->gdown) (2.2.3)\n",
            "Requirement already satisfied: certifi>=2017.4.17 in /usr/local/lib/python3.10/dist-packages (from requests[socks]->gdown) (2024.8.30)\n",
            "Requirement already satisfied: PySocks!=1.5.7,>=1.5.6 in /usr/local/lib/python3.10/dist-packages (from requests[socks]->gdown) (1.7.1)\n"
          ]
        }
      ],
      "source": [
        "!pip install -q tqdm\n",
        "!pip install --upgrade --no-cache-dir gdown"
      ]
    },
    {
      "cell_type": "markdown",
      "metadata": {
        "id": "2vQDLyHEO1Ux"
      },
      "source": [
        "Монтирование Вашего Google Drive к текущему окружению:"
      ]
    },
    {
      "cell_type": "code",
      "execution_count": null,
      "metadata": {
        "id": "5G5KkA1Nu5M9",
        "colab": {
          "base_uri": "https://localhost:8080/"
        },
        "outputId": "6a0b1e9b-2e79-48d9-f22b-1ee6a4304958"
      },
      "outputs": [
        {
          "output_type": "stream",
          "name": "stdout",
          "text": [
            "Mounted at /content/drive\n"
          ]
        }
      ],
      "source": [
        "from google.colab import drive\n",
        "drive.mount('/content/drive', force_remount=True)"
      ]
    },
    {
      "cell_type": "markdown",
      "metadata": {
        "id": "0Num5lHV6912"
      },
      "source": [
        "Константы, которые пригодятся в коде далее, и ссылки (gdrive идентификаторы) на предоставляемые наборы данных:"
      ]
    },
    {
      "cell_type": "code",
      "execution_count": null,
      "metadata": {
        "id": "ab2yCwDm7Fqb"
      },
      "outputs": [],
      "source": [
        "EVALUATE_ONLY = True\n",
        "TEST_ON_LARGE_DATASET = True\n",
        "TISSUE_CLASSES = ('ADI', 'BACK', 'DEB', 'LYM', 'MUC', 'MUS', 'NORM', 'STR', 'TUM')\n",
        "DATASETS_LINKS = { #собственные ссылки на наборы, т.к. советывали так сделать\n",
        "    'train': \"1T5z6OPLoYUANn-_B14PSngZFm0mIOgsU\",\n",
        "    'train_small': \"18v_U5xFYI3V9lIeewZ8WEUcX5Gwbn0hH\",\n",
        "    'train_tiny': \"1CD-hIDZ8eWjSC4lz7Z6jy61OSUczujkC\",\n",
        "    'test': \"1yrhk65_BzfPHDQpGPCZN4h8qwIeEmil2\",\n",
        "    'test_small': \"1E2oMNP7YeS0Bs-xvRugAgYdEp-TvuDaW\",\n",
        "    'test_tiny': \"1F0ve7Cl7c7Ln-7hoQLbFauaAjsVAh1g7\"\n",
        "}"
      ]
    },
    {
      "cell_type": "markdown",
      "metadata": {
        "id": "fgY-ux5qOI0k"
      },
      "source": [
        "Импорт необходимых зависимостей:"
      ]
    },
    {
      "cell_type": "code",
      "execution_count": null,
      "metadata": {
        "id": "kLHQhqiSIyvK"
      },
      "outputs": [],
      "source": [
        "from pathlib import Path\n",
        "import numpy as np\n",
        "from typing import List\n",
        "from tqdm.notebook import tqdm\n",
        "from time import sleep\n",
        "from PIL import Image\n",
        "import IPython.display\n",
        "from sklearn.metrics import balanced_accuracy_score\n",
        "import gdown\n",
        "import time\n",
        "import torch\n",
        "from torch import nn\n",
        "from torch.nn import functional as F\n",
        "import torchvision\n",
        "import torchvision.models as models\n",
        "from torchvision.models import ResNet18_Weights\n",
        "from torchvision.transforms import v2\n",
        "import matplotlib as mpl\n",
        "import matplotlib.pyplot as plt\n",
        "import seaborn as sns\n",
        "import warnings; warnings.filterwarnings(action='once')\n",
        "from sklearn.metrics import confusion_matrix\n",
        "from torch.optim.lr_scheduler import ReduceLROnPlateau"
      ]
    },
    {
      "cell_type": "markdown",
      "metadata": {
        "id": "zKLI3lUyMYO9"
      },
      "source": [
        "---\n",
        "### Класс Dataset\n",
        "\n",
        "Предназначен для работы с наборами данных, обеспечивает чтение изображений и соответствующих меток, а также формирование пакетов (батчей)."
      ]
    },
    {
      "cell_type": "code",
      "execution_count": null,
      "metadata": {
        "id": "8N169efsw1ej"
      },
      "outputs": [],
      "source": [
        "class Dataset:\n",
        "\n",
        "    def __init__(self, name):\n",
        "        self.name = name\n",
        "        self.is_loaded = False\n",
        "        url = f\"https://drive.google.com/uc?export=download&confirm=pbef&id={DATASETS_LINKS[name]}\"\n",
        "        output = f'{name}.npz'\n",
        "        gdown.download(url, output, quiet=False)\n",
        "        print(f'Loading dataset {self.name} from npz.')\n",
        "        np_obj = np.load(f'{name}.npz')\n",
        "        self.images = np_obj['data']\n",
        "        self.labels = np_obj['labels']\n",
        "        self.n_files = self.images.shape[0]\n",
        "        self.is_loaded = True\n",
        "        print(f'Done. Dataset {name} consists of {self.n_files} images.')\n",
        "\n",
        "    def image(self, i):\n",
        "        # read i-th image in dataset and return it as numpy array\n",
        "        if self.is_loaded:\n",
        "            return self.images[i, :, :, :]\n",
        "\n",
        "    def images_seq(self, n=None):\n",
        "        # sequential access to images inside dataset (is needed for testing)\n",
        "        for i in range(self.n_files if not n else n):\n",
        "            yield self.image(i)\n",
        "\n",
        "    def random_image_with_label(self):\n",
        "        # get random image with label from dataset\n",
        "        i = np.random.randint(self.n_files)\n",
        "        return self.image(i), self.labels[i]\n",
        "\n",
        "    def random_batch_with_labels(self, n):\n",
        "        # create random batch of images with labels (is needed for training)\n",
        "        indices = np.random.choice(self.n_files, n)\n",
        "        imgs = []\n",
        "        for i in indices:\n",
        "            img = self.image(i)\n",
        "            imgs.append(self.image(i))\n",
        "        logits = np.array([self.labels[i] for i in indices])\n",
        "        return np.stack(imgs), logits\n",
        "\n",
        "    def image_with_label(self, i: int):\n",
        "        # return i-th image with label from dataset\n",
        "        return self.image(i), self.labels[i]"
      ]
    },
    {
      "cell_type": "markdown",
      "metadata": {
        "id": "M-LvGqeHYgus"
      },
      "source": [
        "### Пример использвания класса Dataset\n",
        "Загрузим обучающий набор данных, получим произвольное изображение с меткой. После чего визуализируем изображение, выведем метку. В будущем, этот кусок кода можно закомментировать или убрать."
      ]
    },
    {
      "cell_type": "code",
      "execution_count": null,
      "metadata": {
        "id": "HhObWEjGJ1um",
        "colab": {
          "base_uri": "https://localhost:8080/",
          "height": 519
        },
        "outputId": "01edc419-11b1-4b36-fc8c-532b0f9520ff"
      },
      "outputs": [
        {
          "output_type": "stream",
          "name": "stderr",
          "text": [
            "<frozen importlib._bootstrap>:914: ImportWarning: _PyDrive2ImportHook.find_spec() not found; falling back to find_module()\n",
            "<frozen importlib._bootstrap>:914: ImportWarning: _PyDriveImportHook.find_spec() not found; falling back to find_module()\n",
            "<frozen importlib._bootstrap>:914: ImportWarning: _GenerativeAIImportHook.find_spec() not found; falling back to find_module()\n",
            "<frozen importlib._bootstrap>:914: ImportWarning: _OpenCVImportHook.find_spec() not found; falling back to find_module()\n",
            "<frozen importlib._bootstrap>:914: ImportWarning: APICoreClientInfoImportHook.find_spec() not found; falling back to find_module()\n",
            "<frozen importlib._bootstrap>:914: ImportWarning: _BokehImportHook.find_spec() not found; falling back to find_module()\n",
            "<frozen importlib._bootstrap>:914: ImportWarning: _AltairImportHook.find_spec() not found; falling back to find_module()\n",
            "Downloading...\n",
            "From: https://drive.google.com/uc?export=download&confirm=pbef&id=1CD-hIDZ8eWjSC4lz7Z6jy61OSUczujkC\n",
            "To: /content/train_tiny.npz\n",
            "100%|██████████| 105M/105M [00:00<00:00, 110MB/s]\n"
          ]
        },
        {
          "output_type": "stream",
          "name": "stdout",
          "text": [
            "Loading dataset train_tiny from npz.\n",
            "Done. Dataset train_tiny consists of 900 images.\n",
            "\n",
            "Got numpy array of shape (224, 224, 3), and label with code 6.\n",
            "Label code corresponds to NORM class.\n"
          ]
        },
        {
          "output_type": "display_data",
          "data": {
            "text/plain": [
              "<PIL.Image.Image image mode=RGB size=224x224>"
            ],
            "image/png": "[encoded data removed]",
            "image/jpeg": "[encoded data removed]"
          },
          "metadata": {}
        }
      ],
      "source": [
        "d_train_tiny = Dataset('train_tiny')\n",
        "\n",
        "img, lbl = d_train_tiny.random_image_with_label()\n",
        "print()\n",
        "print(f'Got numpy array of shape {img.shape}, and label with code {lbl}.')\n",
        "print(f'Label code corresponds to {TISSUE_CLASSES[lbl]} class.')\n",
        "\n",
        "pil_img = Image.fromarray(img)\n",
        "IPython.display.display(pil_img)"
      ]
    },
    {
      "cell_type": "markdown",
      "metadata": {
        "id": "qaBXXCWeVLYb"
      },
      "source": [
        "---\n",
        "### Класс Metrics\n",
        "\n",
        "Реализует метрики точности, используемые для оценивания модели:\n",
        "1. точность,\n",
        "2. сбалансированную точность."
      ]
    },
    {
      "cell_type": "code",
      "execution_count": null,
      "metadata": {
        "id": "5unQ7azTinCZ"
      },
      "outputs": [],
      "source": [
        "class Metrics:\n",
        "\n",
        "    @staticmethod\n",
        "    def accuracy(gt: List[int], pred: List[int]):\n",
        "        assert len(gt) == len(pred), 'gt and prediction should be of equal length'\n",
        "        return sum(int(i[0] == i[1]) for i in zip(gt, pred)) / len(gt)\n",
        "\n",
        "    @staticmethod\n",
        "    def accuracy_balanced(gt: List[int], pred: List[int]):\n",
        "        return balanced_accuracy_score(gt, pred)\n",
        "\n",
        "    @staticmethod\n",
        "    def print_all(gt: List[int], pred: List[int], info: str):\n",
        "        print(f'metrics for {info}:')\n",
        "        print('\\t accuracy {:.4f}:'.format(Metrics.accuracy(gt, pred)))\n",
        "        print('\\t balanced accuracy {:.4f}:'.format(Metrics.accuracy_balanced(gt, pred)))"
      ]
    },
    {
      "cell_type": "markdown",
      "metadata": {
        "id": "N1AHzTJVGU5k"
      },
      "source": [
        "---\n",
        "### Класс Model\n",
        "\n",
        "Класс, хранящий в себе всю информацию о модели.\n",
        "\n",
        "Вам необходимо реализовать методы save, load для сохранения и заргрузки модели. Особенно актуально это будет во время тестирования на дополнительных наборах данных.\n",
        "\n",
        "> *Пожалуйста, убедитесь, что сохранение и загрузка модели работает корректно. Для этого обучите модель, протестируйте, сохраните ее в файл, перезапустите среду выполнения, загрузите обученную модель из файла, вновь протестируйте ее на тестовой выборке и убедитесь в том, что получаемые метрики совпадают с полученными для тестовой выбрки ранее.*\n",
        "\n",
        "\n",
        "Также, Вы можете реализовать дополнительные функции, такие как:\n",
        "1. валидацию модели на части обучающей выборки;\n",
        "2. использование кроссвалидации;\n",
        "3. автоматическое сохранение модели при обучении;\n",
        "4. загрузку модели с какой-то конкретной итерации обучения (если используется итеративное обучение);\n",
        "5. вывод различных показателей в процессе обучения (например, значение функции потерь на каждой эпохе);\n",
        "6. построение графиков, визуализирующих процесс обучения (например, график зависимости функции потерь от номера эпохи обучения);\n",
        "7. автоматическое тестирование на тестовом наборе/наборах данных после каждой эпохи обучения (при использовании итеративного обучения);\n",
        "8. автоматический выбор гиперпараметров модели во время обучения;\n",
        "9. сохранение и визуализацию результатов тестирования;\n",
        "10. Использование аугментации и других способов синтетического расширения набора данных (дополнительным плюсом будет обоснование необходимости и обоснование выбора конкретных типов аугментации)\n",
        "11. и т.д.\n",
        "\n",
        "Полный список опций и дополнений приведен в презентации с описанием задания.\n",
        "\n",
        "При реализации дополнительных функций допускается добавление параметров в существующие методы и добавление новых методов в класс модели."
      ]
    },
    {
      "cell_type": "markdown",
      "source": [],
      "metadata": {
        "id": "daG9R9i2g7Mm"
      }
    },
    {
      "cell_type": "markdown",
      "source": [
        "#Функция **k_folds**\n",
        "\n",
        "Проверка входных данных:\n",
        "Проверяет, чтобы количество фолдов было хотя бы 2, и чтобы общее количество объектов было больше или равно количеству фолдов\n",
        "\n",
        "Определение размера фолдов:\n",
        "Равномерно делит количество объектов на фолды\n",
        "Если объекты не делятся нацело на количество фолдов, остаток добавляется к первичным фолдам\n",
        "\n",
        "Создание индексов для фолдов:\n",
        "Генерирует массив индексов объектов\n",
        "Делит объекты на фолды\n",
        "для каждого фолда создаются два массива\n",
        "Обучающие индексы (train_indices)\n",
        "Все объекты, за исключением объектов текущего фолда\n",
        "Тестовые индексы (test_indices) Объекты текущего фолда\n",
        "\n",
        "Возврат:\n",
        "Возвращает список кортежей, где каждый кортеж содержит два массива:\n",
        "Обучающие индексы,\n",
        "Тестовые индексы.\n",
        "\n",
        "\n",
        "Пример разбиения для 10 объектов и 3 фолдов:\n",
        "Размеры фолдов [4, 3, 3]\n",
        "Индексы объектов [0, 1, 2, 3, 4, 5, 6, 7, 8, 9]\n",
        "\n",
        "Разбиение:\n",
        "Фолд 1: обучающие индексы [4, 5, 6, 7, 8, 9], тестовые индексы [0, 1, 2, 3]\n",
        "Фолд 2: обучающие индексы [0, 1, 2, 3, 7, 8, 9], тестовые индексы [4, 5, 6]\n",
        "Фолд 3: обучающие индексы [0, 1, 2, 3, 4, 5, 6], тестовые индексы [7, 8, 9]"
      ],
      "metadata": {
        "id": "uzFMXJj8sAfk"
      }
    },
    {
      "cell_type": "code",
      "source": [
        "#функция для разбиения данных на фолды\n",
        "def k_folds(num_objects: int, num_folds: int) -> list[tuple[np.ndarray, np.ndarray]]:\n",
        "    if num_folds < 2:\n",
        "        raise ValueError(\"Split count must be at least 2\")\n",
        "    if num_objects < num_folds:\n",
        "        raise ValueError(\"Total items must be greater than or equal to the number of splits\")\n",
        "\n",
        "    fold_sizes = [num_objects // num_folds] * num_folds\n",
        "    for i in range(num_objects % num_folds):\n",
        "        fold_sizes[i] += 1\n",
        "\n",
        "    indices = np.arange(num_objects, dtype=np.int32)\n",
        "    splits = []\n",
        "    start = 0\n",
        "    for fold_size in fold_sizes:\n",
        "        test_indices = indices[start:start + fold_size]\n",
        "        train_indices = np.concatenate((indices[:start], indices[start + fold_size:]))\n",
        "        splits.append((train_indices, test_indices))\n",
        "        start += fold_size\n",
        "\n",
        "    return splits"
      ],
      "metadata": {
        "id": "n9URMctZG3Md"
      },
      "execution_count": null,
      "outputs": []
    },
    {
      "cell_type": "markdown",
      "source": [],
      "metadata": {
        "id": "Wq8e1qFeg711"
      }
    },
    {
      "cell_type": "code",
      "source": [
        "#определение архитектуры модели ResNet18 для классификации изображений\n",
        "def create_model(base_model, num_ftrs, num_classes):\n",
        "    for param in base_model.parameters():\n",
        "        param.requires_grad = False\n",
        "\n",
        "    num_ftrs = base_model.fc.in_features\n",
        "    base_model.fc = torch.nn.Linear(num_ftrs, num_classes)\n",
        "    return base_model"
      ],
      "metadata": {
        "id": "hFUcLwANG3WN"
      },
      "execution_count": null,
      "outputs": []
    },
    {
      "cell_type": "markdown",
      "source": [
        "# класс **Dataloader**\n",
        "\n",
        "Аргументы конструктора:\n",
        "dataset: Датасет, который предоставляет изображения и метки\n",
        "\n",
        "indices: Индексы объектов в датасете, которые будут использованы для создания выборки\n",
        "\n",
        "batch_size: Размер пакета(батча), который будет извлечён из выборки за одну итерацию\n",
        "\n",
        "transforms: Преобразования, которые будут применяться к изображениям\n",
        "\n",
        "augmenting_transforms: Аугментации для увеличения разнообразия данных\n",
        "\n",
        "limit: Процент данных, который нужно использовать(от 0 до 1)\n",
        "\n",
        "\n",
        "Итератор:\n",
        "iter: Метод, который возвращает сам объект и инициализирует итерацию, перемешивая индексы данных для каждой новой итерации\n",
        "\n",
        "next: Метод, который извлекает следующий батч данных, используя индексы\n",
        "Каждое изображение:\n",
        "  Загружается из датасета\n",
        "  Применяются аугментации и трансформации, если они заданы\n",
        "\n",
        "Обработка батчей:\n",
        "Тензоры batch_images и batch_labels заполняются для каждого индекса в текущем батче\n",
        "\n",
        "Преобразования и аугментации могут применяться в любом порядке, в зависимости от того, как они передаются в конструктор\n",
        "\n",
        "Сохранение изображений в нужном формате:\n",
        "Изображения преобразуются в тензоры с размерностью (batch_size, 3, 224, 224) что соответствует формату, используемому в большинстве CNN\n",
        "\n",
        "Перемешивание индексов:\n",
        "В iter индексы перемешиваются перед каждой итерацией, что помогает улучшить обобщающую способность модели за счет случайности в выборке данных"
      ],
      "metadata": {
        "id": "zyxGliQTg8Xm"
      }
    },
    {
      "cell_type": "code",
      "source": [
        "class Dataloader:\n",
        "    def __init__(self, dataset: Dataset, indices: np.ndarray, batch_size: int, transforms=None, augmenting_transforms=None, limit=1.0):\n",
        "        if not (0 < limit <= 1.0):\n",
        "            raise ValueError(\"Data limit must be between 0 and 1\")\n",
        "\n",
        "        self.dataset = dataset\n",
        "        self.indices = indices[:int(len(indices) * limit)]\n",
        "        self.batch_size = batch_size\n",
        "        self.transforms = transforms\n",
        "        self.augmenting_transforms = augmenting_transforms\n",
        "        self.num_batches = len(self.indices) // batch_size\n",
        "        self.current_batch_idx = 0\n",
        "\n",
        "    def __iter__(self):\n",
        "        self.current_batch_idx = 0\n",
        "        np.random.shuffle(self.indices)\n",
        "        return self\n",
        "\n",
        "    def __next__(self):\n",
        "        if self.current_batch_idx < self.num_batches:\n",
        "            batch_start = self.current_batch_idx * self.batch_size\n",
        "            batch_end = batch_start + self.batch_size\n",
        "            selected_indices = self.indices[batch_start:batch_end]\n",
        "\n",
        "            batch_images = torch.empty((self.batch_size, 3, 224, 224), dtype=torch.float32)\n",
        "            batch_labels = torch.empty(self.batch_size, dtype=torch.long)\n",
        "\n",
        "            for idx, data_idx in enumerate(selected_indices):\n",
        "                image, label = self.dataset.image_with_label(data_idx)\n",
        "                image = torch.from_numpy(image).permute(2, 0, 1)\n",
        "\n",
        "                if self.augmenting_transforms:\n",
        "                    image = self.augmenting_transforms(image)\n",
        "                if self.transforms:\n",
        "                    image = self.transforms(image)\n",
        "\n",
        "                batch_images[idx] = image\n",
        "                batch_labels[idx] = torch.tensor(label)\n",
        "\n",
        "            self.current_batch_idx += 1\n",
        "            return batch_images, batch_labels\n",
        "        else:\n",
        "            raise StopIteration"
      ],
      "metadata": {
        "id": "NapK2MAOG_nj"
      },
      "execution_count": null,
      "outputs": []
    },
    {
      "cell_type": "markdown",
      "source": [
        "# класс **CrossValidator**\n",
        "\n",
        "Аргументы конструктора init:\n",
        "dataset: набор данных, который будет разделён на фолды\n",
        "\n",
        "batch_size: размер батча для обучения и валидации\n",
        "\n",
        "num_folds: число фолдов для кросс-валидации. Должно быть не менее 2\n",
        "\n",
        "transforms: преобразования, применяемые к данным в процессе обучения\n",
        "\n",
        "augmenting_transforms: аугментации для увеличения разнообразия данных\n",
        "\n",
        "seed: фиксация случайности для воспроизводимости\n",
        "\n",
        "limit: ограничения размера данных для обучающей и валидационной выборов(значения в диапазоне (0, 1])"
      ],
      "metadata": {
        "id": "5JT2BdsMg9Pl"
      }
    },
    {
      "cell_type": "code",
      "source": [
        "#LBL2\n",
        "class CrossValidator:\n",
        "    def __init__(self, dataset: Dataset, batch_size: int, num_folds: int, transforms=None, augmenting_transforms=None, seed=42, limit=(1.0, 1.0)):\n",
        "        if num_folds < 2:\n",
        "            raise ValueError(\"Number of folds must be at least 2\")\n",
        "        if len(limit) != 2 or not all(0 < value <= 1 for value in limit):\n",
        "            raise ValueError(\"Data limits must be within the range 0 and 1\")\n",
        "\n",
        "        self.dataset = dataset\n",
        "        self.batch_size = batch_size\n",
        "        self.num_folds = num_folds\n",
        "        self.transforms = transforms\n",
        "        self.augmenting_transforms = augmenting_transforms\n",
        "        self.limit = limit\n",
        "\n",
        "        self.indices = np.arange(dataset.n_files)\n",
        "        np.random.seed(seed)\n",
        "        np.random.shuffle(self.indices)\n",
        "\n",
        "        self.fold_indices = k_folds(len(self.indices), num_folds)\n",
        "        self.current_fold = 0\n",
        "\n",
        "    def get_train_val(self):\n",
        "        train_idx = self.indices[self.fold_indices[self.current_fold][0]]\n",
        "        val_idx = self.indices[self.fold_indices[self.current_fold][1]]\n",
        "\n",
        "        self.current_fold = (self.current_fold + 1) % self.num_folds\n",
        "\n",
        "        return (\n",
        "            Dataloader(self.dataset, train_idx, self.batch_size,\n",
        "                       self.transforms, self.augmenting_transforms, limit=self.limit[0]),\n",
        "            Dataloader(self.dataset, val_idx, self.batch_size,\n",
        "                       self.transforms, self.augmenting_transforms, limit=self.limit[1])\n",
        "        )\n",
        "\n",
        "device = torch.device(\"cuda\" if torch.cuda.is_available() else \"cpu\")"
      ],
      "metadata": {
        "id": "bH3lVhh2HIh2"
      },
      "execution_count": null,
      "outputs": []
    },
    {
      "cell_type": "markdown",
      "source": [],
      "metadata": {
        "id": "2-OtkXs7g-EW"
      }
    },
    {
      "cell_type": "code",
      "source": [
        "#LBL8 #LBL6 #LBL4\n",
        "def plot_train_process(train_loss, val_loss, train_accuracy, val_accuracy, title_suffix=''):\n",
        "    fig, axes = plt.subplots(1, 2, figsize=(15, 5))\n",
        "\n",
        "    axes[0].set_title(\" \".join([\"Loss\", title_suffix]))\n",
        "    axes[0].plot(train_loss, label=\"train\")\n",
        "    axes[0].plot(val_loss, label=\"validation\")\n",
        "    axes[0].legend()\n",
        "\n",
        "    axes[1].set_title(' '.join([\"Validation accuracy\", title_suffix]))\n",
        "    axes[1].plot(train_accuracy, label=\"train\")\n",
        "    axes[1].plot(val_accuracy, label=\"validation\")\n",
        "    axes[1].legend()\n",
        "    plt.show()"
      ],
      "metadata": {
        "id": "GROVVzDwHMYt"
      },
      "execution_count": null,
      "outputs": []
    },
    {
      "cell_type": "markdown",
      "source": [
        "# Матрица Ошибок\n",
        "\n",
        "матрицы ошибок, которая показывает, как предсказания модели соотносятся с истинными метками классов.\n",
        "Функция также вычисляет True Positive (TP) и False Positive (FP) для каждого класса.\n",
        "\n",
        "Используем confusion_matrix из библиотеки sklearn для подсчёта количества совпадений между предсказанными и истинными метками классов.\n",
        "\n",
        "Визуализируем матрицу ошибок:\n",
        "Построение тепловой карты (heatmap) с использованием библиотеки seaborn для наглядного отображения.\n",
        "\n",
        "Вычисляет метрики для каждого класса:\n",
        "TP (True Positive): Количество правильных предсказаний для данного класса.\n",
        "FP (False Positive): Количество случаев, когда данный класс был предсказан неправильно.\n",
        "Выводит метрики в табличной форме.\n"
      ],
      "metadata": {
        "id": "xfIDfcwJg-2m"
      }
    },
    {
      "cell_type": "code",
      "source": [
        "def confi_matrix(gt: List[int], pred: List[int], class_names: List[str]):\n",
        "    matrix = confusion_matrix(gt, pred)\n",
        "\n",
        "    plt.figure(figsize=(10, 8), dpi=100)\n",
        "    sns.heatmap(matrix,\n",
        "                xticklabels=class_names,\n",
        "                yticklabels=class_names,\n",
        "                cmap='RdYlGn',\n",
        "                center=0,\n",
        "                annot=True,\n",
        "                fmt=\"d\",\n",
        "                cbar_kws={'label': 'Number of Samples'})\n",
        "\n",
        "    plt.title('Confusion Matrix', fontsize=22, pad=20)\n",
        "    plt.xlabel('Predicted Labels', fontsize=16, labelpad=10)\n",
        "    plt.ylabel('True Labels', fontsize=16, labelpad=10)\n",
        "    plt.xticks(fontsize=12, rotation=45)\n",
        "    plt.yticks(fontsize=12)\n",
        "    plt.show()\n",
        "\n",
        "    TP = np.diag(matrix)\n",
        "    FP = matrix.sum(axis=0) - TP\n",
        "\n",
        "    print(f\"{'Class':<15}{'True Positive (TP)':<20}{'False Positive (FP)':<20}\")\n",
        "    print(\"-\" * 55)\n",
        "    for i, class_name in enumerate(class_names):\n",
        "        print(f\"{class_name:<15}{TP[i]:<20}{FP[i]:<20}\")"
      ],
      "metadata": {
        "id": "s3yQsofop81U"
      },
      "execution_count": null,
      "outputs": []
    },
    {
      "cell_type": "markdown",
      "source": [
        "## **Почему так**\n",
        "Изначально я пытался сделать с помощью классического МЛ'ля, но перенабивание ОЗУ я не осилил.\n",
        "По советам уже знающих людей, решил сделать именно свертку, да и примеров на том же Гитхабе и кагле было достаточно, что бы человек в первые который с этим знакомится мог что-то и написать, ну, я брал идеи и части кода других, но в основном все делалось с моей руки и могу даже защитить данную работу.\n",
        "\n",
        "Я использую предобученную модель ResNet18 и дообучаю ее на новом наборе данных, чтобы она научилась классифицировать изображения на заданных классах.\n",
        "Даже попытался предотвратить переобучение, но, не знаю, наверное надо было брать меньше эпох.\n",
        "\n",
        "На чем тестировал:\n",
        "На полном тесте:\n",
        "accuracy 0.9847,\n",
        "balanced accuracy 0.9847\n",
        "\n",
        "На маленьком тесте:\n",
        "accuracy 0.9667,\n",
        "balanced accuracy 0.9667"
      ],
      "metadata": {
        "id": "eawUk1uOg_j8"
      }
    },
    {
      "cell_type": "code",
      "execution_count": null,
      "metadata": {
        "id": "0pkMiB6mJ7JQ"
      },
      "outputs": [],
      "source": [
        "class Model:\n",
        "    def __init__(self):\n",
        "        self.model = create_model(torchvision.models.resnet18(pretrained=True), 6, 9).to(device)\n",
        "        self.transforms = v2.Compose([\n",
        "            v2.ToDtype(torch.float32, scale=True),\n",
        "            v2.Normalize([0.485, 0.456, 0.406], [0.229, 0.224, 0.225]),])\n",
        "\n",
        "    def save(self, name: str):\n",
        "        torch.save(self.model.state_dict(), f'/content/drive/MyDrive/DP/{name}.pth')\n",
        "\n",
        "    def load(self, name: str):\n",
        "        name_to_id_dict = {\n",
        "            \"best\": '1-KG_C4OaeYnh9DpB4GH0_fdUoLK706Fg'\n",
        "        }\n",
        "        output = f\"{name}.pth\"\n",
        "        gdown.download(f'https://drive.google.com/uc?id={name_to_id_dict[name]}', output, quiet=False)\n",
        "\n",
        "        self.model.load_state_dict(torch.load(output))\n",
        "        self.model.to(device)\n",
        "        self.model.eval()\n",
        "    #LBL1\n",
        "    def evaluate(self, dataloader: Dataloader, loss_fn, weights):\n",
        "        losses = []\n",
        "        num_correct = np.zeros(9, dtype=int)\n",
        "        num_elements = np.zeros(9, dtype=int)\n",
        "\n",
        "        for batch in dataloader:\n",
        "            X_batch, y_batch = batch\n",
        "            with torch.no_grad():\n",
        "                logits = self.model(X_batch.to(device))\n",
        "                loss = loss_fn(logits, y_batch.to(device))\n",
        "                losses.append(loss.item())\n",
        "\n",
        "                y_pred = torch.argmax(logits, dim=1).cpu()\n",
        "                num_elements += (y_batch.numpy()[:, None] == np.arange(9)).sum(axis=0)\n",
        "                num_correct += ((y_pred.numpy()[:, None] == np.arange(9)) & (y_pred.numpy()[:, None] == y_batch.numpy()[:, None])).sum(axis=0)\n",
        "\n",
        "        acc = num_correct / num_elements\n",
        "        weights = torch.from_numpy(acc ** 6).float()\n",
        "\n",
        "        accuracy = num_correct.sum() / num_elements.sum()\n",
        "        return accuracy, np.mean(losses), weights\n",
        "\n",
        "    def train(self, dataset: Dataset):\n",
        "        optim = torch.optim.AdamW\n",
        "        lossF = torch.nn.CrossEntropyLoss\n",
        "        learning_rate = 1e-4\n",
        "        weight_decay = 1e-4\n",
        "\n",
        "        #LBL9\n",
        "        optimizer = optim(self.model.parameters(), lr=learning_rate, weight_decay=weight_decay)\n",
        "        scheduler = torch.optim.lr_scheduler.ReduceLROnPlateau(optimizer, \"min\", patience=5, threshold=0.01, threshold_mode=\"rel\")\n",
        "\n",
        "        augmenting_transforms = v2.Compose([\n",
        "            v2.RandomHorizontalFlip(),\n",
        "            v2.RandomVerticalFlip(),\n",
        "            v2.RandomRotation(degrees=10),\n",
        "            v2.RandomResizedCrop(size=(224, 224), scale=(0.8, 1.0))])\n",
        "\n",
        "        batch_size = 32\n",
        "        folds = 10\n",
        "        limit = (0.3, 1.0)\n",
        "        dataloader = CrossValidator(dataset, batch_size, folds, self.transforms, augmenting_transforms, limit=limit)\n",
        "\n",
        "        history = \"\"\n",
        "        train_loss_history, train_acc_history = [], []\n",
        "        val_loss_history, val_acc_history = [], []\n",
        "\n",
        "        local_train_loss_history, local_train_acc_history = [], []\n",
        "\n",
        "        n_epoch = 60\n",
        "        eval_every = 30\n",
        "\n",
        "        weights = torch.ones(9).to(device)\n",
        "\n",
        "        #LBL3\n",
        "        for epoch in range(n_epoch):\n",
        "            print(f\"Epoch {epoch+1}/{n_epoch}\")\n",
        "            history += f\"Epoch {epoch+1}\\n\"\n",
        "            loss_fn = lossF(weight=weights.type(torch.FloatTensor).to(device))\n",
        "\n",
        "            train, val = dataloader.get_train_val()\n",
        "\n",
        "            self.model.train()\n",
        "\n",
        "            for i, batch in enumerate(train):\n",
        "                start_time = time.time()\n",
        "                X_batch, y_batch = batch\n",
        "\n",
        "                logits = self.model(X_batch.to(device))\n",
        "\n",
        "                loss = loss_fn(logits, y_batch.to(device))\n",
        "                loss.backward()\n",
        "                optimizer.step()\n",
        "                optimizer.zero_grad()\n",
        "\n",
        "                model_answers = torch.argmax(logits, dim=1)\n",
        "                train_accuracy = torch.sum(y_batch == model_answers.cpu()) / len(y_batch)\n",
        "\n",
        "                local_train_loss_history.append(loss.item())\n",
        "                local_train_acc_history.append(train_accuracy)\n",
        "\n",
        "                if (i + 1) % eval_every == 0:\n",
        "                    history += f\"avg train loss {eval_every} iterations: {np.mean(local_train_loss_history)} accuracy: {np.mean(local_train_acc_history)} \\n\"\n",
        "                    print(f\"avg train loss {eval_every} iterations: {np.mean(local_train_loss_history)} accuracy: {np.mean(local_train_acc_history)}\")\n",
        "            self.model.eval()\n",
        "\n",
        "            val_accuracy, val_loss, weights = self.evaluate(val, loss_fn, weights)\n",
        "            scheduler.step(val_loss)\n",
        "\n",
        "            train_loss_history.append(np.mean(local_train_loss_history))\n",
        "            train_acc_history.append(np.mean(local_train_acc_history))\n",
        "            val_loss_history.append(val_loss)\n",
        "            val_acc_history.append(val_accuracy)\n",
        "\n",
        "            IPython.display.clear_output(wait=True)\n",
        "            plot_train_process(train_loss_history, val_loss_history, train_acc_history, val_acc_history)\n",
        "\n",
        "            history += f\"Epoch {epoch+1}/{n_epoch}: val loss: {val_loss} accuracy: {val_accuracy} \\n\"\n",
        "            history += f\"New weights {weights} \\n\"\n",
        "            history += f\"Learning rate {optimizer.state_dict()['param_groups'][0]['lr']} \\n\"\n",
        "            print(history)\n",
        "        print(\"train done\")\n",
        "\n",
        "    def test_on_dataset(self, dataset: Dataset, limit=None):\n",
        "        predictions = []\n",
        "        n = dataset.n_files if not limit else int(dataset.n_files * limit)\n",
        "        for img in tqdm(dataset.images_seq(n), total=n):\n",
        "            predictions.append(self.test_on_image(img))\n",
        "        return predictions\n",
        "\n",
        "    def test_on_image(self, img: np.ndarray):\n",
        "        img_tensor = self.transforms(torch.from_numpy(img).permute(2, 0, 1)).unsqueeze(0).to(device)\n",
        "        prediction = self.model(img_tensor)\n",
        "        return int(torch.argmax(prediction, dim=1).cpu()[0])"
      ]
    },
    {
      "cell_type": "markdown",
      "metadata": {
        "id": "ZMpTB6lMr00A"
      },
      "source": [
        "---\n",
        "### Классификация изображений\n",
        "\n",
        "Используя введенные выше классы можем перейти уже непосредственно к обучению модели классификации изображений. Пример общего пайплайна решения задачи приведен ниже. Вы можете его расширять и улучшать. В данном примере используются наборы данных 'train_small' и 'test_small'."
      ]
    },
    {
      "cell_type": "code",
      "execution_count": null,
      "metadata": {
        "id": "5cTOuZD01Up6",
        "colab": {
          "base_uri": "https://localhost:8080/"
        },
        "outputId": "7822bbdc-73c4-440f-fcd2-2c5e020cb892"
      },
      "outputs": [
        {
          "output_type": "stream",
          "name": "stderr",
          "text": [
            "Downloading...\n",
            "From: https://drive.google.com/uc?export=download&confirm=pbef&id=1T5z6OPLoYUANn-_B14PSngZFm0mIOgsU\n",
            "To: /content/train.npz\n",
            "100%|██████████| 2.10G/2.10G [00:23<00:00, 88.7MB/s]\n"
          ]
        },
        {
          "output_type": "stream",
          "name": "stdout",
          "text": [
            "Loading dataset train from npz.\n",
            "Done. Dataset train consists of 18000 images.\n"
          ]
        },
        {
          "output_type": "stream",
          "name": "stderr",
          "text": [
            "Downloading...\n",
            "From: https://drive.google.com/uc?export=download&confirm=pbef&id=1yrhk65_BzfPHDQpGPCZN4h8qwIeEmil2\n",
            "To: /content/test.npz\n",
            "100%|██████████| 525M/525M [00:04<00:00, 124MB/s]\n"
          ]
        },
        {
          "output_type": "stream",
          "name": "stdout",
          "text": [
            "Loading dataset test from npz.\n",
            "Done. Dataset test consists of 4500 images.\n"
          ]
        }
      ],
      "source": [
        "d_train = Dataset(\"train\")\n",
        "d_test = Dataset(\"test\")"
      ]
    },
    {
      "cell_type": "code",
      "source": [
        "model = Model()"
      ],
      "metadata": {
        "id": "_iLI4DF-ZSQ_"
      },
      "execution_count": null,
      "outputs": []
    },
    {
      "cell_type": "code",
      "execution_count": null,
      "metadata": {
        "id": "wBi0XpXg8_wq"
      },
      "outputs": [],
      "source": [
        "for i, layer in enumerate(model.model.children()):\n",
        "    if i < 3:\n",
        "        for param in layer.parameters():\n",
        "            param.requires_grad = False\n",
        "    else:\n",
        "        for param in layer.parameters():\n",
        "            param.requires_grad = True"
      ]
    },
    {
      "cell_type": "code",
      "source": [
        "model.train(d_train)\n",
        "model.save(\"best\")"
      ],
      "metadata": {
        "colab": {
          "base_uri": "https://localhost:8080/",
          "height": 1000
        },
        "id": "Gse9psnfZqNW",
        "outputId": "3545e175-1ca8-4f2d-dcf2-6f7bab72f90a"
      },
      "execution_count": null,
      "outputs": [
        {
          "output_type": "display_data",
          "data": {
            "text/plain": [
              "<Figure size 1500x500 with 2 Axes>"
            ],
            "image/png": "[encoded data removed]"
          },
          "metadata": {}
        },
        {
          "output_type": "stream",
          "name": "stdout",
          "text": [
            "Epoch 1\n",
            "avg train loss 30 iterations: 0.3265902534127235 accuracy: 0.893750011920929 \n",
            "avg train loss 30 iterations: 0.31767323339978853 accuracy: 0.9005208611488342 \n",
            "avg train loss 30 iterations: 0.29132012592421636 accuracy: 0.9083333611488342 \n",
            "avg train loss 30 iterations: 0.2784990563367804 accuracy: 0.9117187261581421 \n",
            "avg train loss 30 iterations: 0.2569602446382244 accuracy: 0.9191666841506958 \n",
            "Epoch 1/60: val loss: 0.1528935681895486 accuracy: 0.9475446428571429 \n",
            "New weights tensor([0.9004, 1.0000, 0.4247, 0.9724, 0.7038, 0.8030, 0.9120, 0.3791, 0.7032]) \n",
            "Learning rate 0.0001 \n",
            "Epoch 2\n",
            "avg train loss 30 iterations: 0.23684837002286596 accuracy: 0.924723744392395 \n",
            "avg train loss 30 iterations: 0.22731804558168656 accuracy: 0.9265402555465698 \n",
            "avg train loss 30 iterations: 0.21132242223982123 accuracy: 0.9306275844573975 \n",
            "avg train loss 30 iterations: 0.20040630466026355 accuracy: 0.933002769947052 \n",
            "avg train loss 30 iterations: 0.19260817749481463 accuracy: 0.9350082874298096 \n",
            "Epoch 2/60: val loss: 0.06999929747377921 accuracy: 0.9720982142857143 \n",
            "New weights tensor([1.0000, 1.0000, 0.7542, 0.8597, 0.9403, 0.9129, 0.8880, 0.6702, 0.6105]) \n",
            "Learning rate 0.0001 \n",
            "Epoch 3\n",
            "avg train loss 30 iterations: 0.18454415875442146 accuracy: 0.9376882314682007 \n",
            "avg train loss 30 iterations: 0.17662811427613853 accuracy: 0.940348744392395 \n",
            "avg train loss 30 iterations: 0.17281110587468065 accuracy: 0.94140625 \n",
            "avg train loss 30 iterations: 0.16906937908588673 accuracy: 0.9423133730888367 \n",
            "avg train loss 30 iterations: 0.16413018414318 accuracy: 0.9437915086746216 \n",
            "Epoch 3/60: val loss: 0.06066995052554246 accuracy: 0.9815848214285714 \n",
            "New weights tensor([0.9702, 1.0000, 0.8842, 0.9129, 0.9199, 0.6443, 0.8367, 0.9720, 0.9412]) \n",
            "Learning rate 0.0001 \n",
            "Epoch 4\n",
            "avg train loss 30 iterations: 0.1587704548537037 accuracy: 0.9453933835029602 \n",
            "avg train loss 30 iterations: 0.15443484159368026 accuracy: 0.9469420313835144 \n",
            "avg train loss 30 iterations: 0.15146758355471282 accuracy: 0.9478591084480286 \n",
            "avg train loss 30 iterations: 0.14817551768630302 accuracy: 0.9495527744293213 \n",
            "avg train loss 30 iterations: 0.14447856707047443 accuracy: 0.9506633281707764 \n",
            "Epoch 4/60: val loss: 0.11794914906412098 accuracy: 0.9631696428571429 \n",
            "New weights tensor([0.9701, 0.9698, 0.7778, 0.9385, 0.8629, 0.9080, 0.7882, 0.3714, 0.8905]) \n",
            "Learning rate 0.0001 \n",
            "Epoch 5\n",
            "avg train loss 30 iterations: 0.14034303072884044 accuracy: 0.9518434405326843 \n",
            "avg train loss 30 iterations: 0.136237700512571 accuracy: 0.953125 \n",
            "avg train loss 30 iterations: 0.13336930174839493 accuracy: 0.9541606903076172 \n",
            "avg train loss 30 iterations: 0.13040718713579752 accuracy: 0.95524001121521 \n",
            "avg train loss 30 iterations: 0.1274312095017486 accuracy: 0.9563162922859192 \n",
            "Epoch 5/60: val loss: 0.064429230514049 accuracy: 0.97265625 \n",
            "New weights tensor([0.9695, 1.0000, 0.9437, 0.9098, 0.9701, 0.8543, 0.9420, 0.4857, 0.6639]) \n",
            "Learning rate 0.0001 \n",
            "Epoch 6\n",
            "avg train loss 30 iterations: 0.12503400536426076 accuracy: 0.9570859670639038 \n",
            "avg train loss 30 iterations: 0.12174338187702412 accuracy: 0.9581671953201294 \n",
            "avg train loss 30 iterations: 0.11973875655335259 accuracy: 0.9586908221244812 \n",
            "avg train loss 30 iterations: 0.11767784655732767 accuracy: 0.9591428637504578 \n",
            "avg train loss 30 iterations: 0.11667699678466548 accuracy: 0.9595304131507874 \n",
            "Epoch 6/60: val loss: 0.10839391321600747 accuracy: 0.9720982142857143 \n",
            "New weights tensor([1.0000, 0.9702, 0.6702, 0.9664, 0.8672, 0.9445, 0.6992, 0.6717, 0.8745]) \n",
            "Learning rate 0.0001 \n",
            "Epoch 7\n",
            "avg train loss 30 iterations: 0.11433793157169946 accuracy: 0.960403323173523 \n",
            "avg train loss 30 iterations: 0.11228209750714285 accuracy: 0.9611477851867676 \n",
            "avg train loss 30 iterations: 0.11038330346827459 accuracy: 0.9620042443275452 \n",
            "avg train loss 30 iterations: 0.10887341405656262 accuracy: 0.9624756574630737 \n",
            "avg train loss 30 iterations: 0.10706420034760165 accuracy: 0.9630385637283325 \n",
            "Epoch 7/60: val loss: 0.09889261914317363 accuracy: 0.9620535714285714 \n",
            "New weights tensor([1.0000, 1.0000, 0.8306, 0.9712, 0.7171, 0.8783, 0.7875, 0.3691, 0.7767]) \n",
            "Learning rate 0.0001 \n",
            "Epoch 8\n",
            "avg train loss 30 iterations: 0.10511450399601834 accuracy: 0.9636039733886719 \n",
            "avg train loss 30 iterations: 0.10325244527131706 accuracy: 0.9642737507820129 \n",
            "avg train loss 30 iterations: 0.10152957942876753 accuracy: 0.9648812413215637 \n",
            "avg train loss 30 iterations: 0.09984158400838646 accuracy: 0.9652187824249268 \n",
            "avg train loss 30 iterations: 0.09810593285402645 accuracy: 0.9658502340316772 \n",
            "Epoch 8/60: val loss: 0.0662521438145112 accuracy: 0.9743303571428571 \n",
            "New weights tensor([1.0000, 1.0000, 0.8557, 1.0000, 0.9654, 0.8497, 1.0000, 0.5388, 0.6353]) \n",
            "Learning rate 0.0001 \n",
            "Epoch 9\n",
            "avg train loss 30 iterations: 0.09663539184806552 accuracy: 0.966251015663147 \n",
            "avg train loss 30 iterations: 0.09530922858527793 accuracy: 0.9666551947593689 \n",
            "avg train loss 30 iterations: 0.09426472361023051 accuracy: 0.9669684171676636 \n",
            "avg train loss 30 iterations: 0.09265563665473335 accuracy: 0.9674792885780334 \n",
            "avg train loss 30 iterations: 0.09164092824693196 accuracy: 0.9677374958992004 \n",
            "Epoch 9/60: val loss: 0.07662267701899898 accuracy: 0.9704241071428571 \n",
            "New weights tensor([0.8847, 1.0000, 0.9051, 1.0000, 0.8169, 0.8425, 0.9699, 0.5745, 0.6425]) \n",
            "Learning rate 1e-05 \n",
            "Epoch 10\n",
            "avg train loss 30 iterations: 0.09042816899780216 accuracy: 0.9681875705718994 \n",
            "avg train loss 30 iterations: 0.08915432115304307 accuracy: 0.968661904335022 \n",
            "avg train loss 30 iterations: 0.08761306364049723 accuracy: 0.9691813588142395 \n",
            "avg train loss 30 iterations: 0.08639712550707584 accuracy: 0.9696162939071655 \n",
            "avg train loss 30 iterations: 0.08521507076391083 accuracy: 0.9700339436531067 \n",
            "Epoch 10/60: val loss: 0.04486510725733491 accuracy: 0.9854910714285714 \n",
            "New weights tensor([1.0000, 0.9385, 0.8858, 1.0000, 1.0000, 0.8847, 0.9719, 0.7138, 0.8666]) \n",
            "Learning rate 1e-05 \n",
            "Epoch 11\n",
            "avg train loss 30 iterations: 0.08462615796559878 accuracy: 0.9702922105789185 \n",
            "avg train loss 30 iterations: 0.0836938544099403 accuracy: 0.9706408977508545 \n",
            "avg train loss 30 iterations: 0.08282533496916585 accuracy: 0.9709374904632568 \n",
            "avg train loss 30 iterations: 0.08194457316889707 accuracy: 0.9712806940078735 \n",
            "avg train loss 30 iterations: 0.08092621281940815 accuracy: 0.9716491103172302 \n",
            "Epoch 11/60: val loss: 0.005999669882450169 accuracy: 0.9983258928571429 \n",
            "New weights tensor([1.0000, 1.0000, 1.0000, 1.0000, 1.0000, 0.9391, 1.0000, 1.0000, 0.9693]) \n",
            "Learning rate 1e-05 \n",
            "Epoch 12\n",
            "avg train loss 30 iterations: 0.0800875094836266 accuracy: 0.9719840288162231 \n",
            "avg train loss 30 iterations: 0.07909392714373256 accuracy: 0.9723634719848633 \n",
            "avg train loss 30 iterations: 0.07839996948346777 accuracy: 0.9726406335830688 \n",
            "avg train loss 30 iterations: 0.0776782326120125 accuracy: 0.972838282585144 \n",
            "avg train loss 30 iterations: 0.07670097362281203 accuracy: 0.9732019305229187 \n",
            "Epoch 12/60: val loss: 0.004500384974692549 accuracy: 0.9994419642857143 \n",
            "New weights tensor([1.0000, 1.0000, 1.0000, 1.0000, 1.0000, 1.0000, 1.0000, 1.0000, 0.9688]) \n",
            "Learning rate 1e-05 \n",
            "Epoch 13\n",
            "avg train loss 30 iterations: 0.07573437227715357 accuracy: 0.9735511541366577 \n",
            "avg train loss 30 iterations: 0.07490533326740544 accuracy: 0.9738581776618958 \n",
            "avg train loss 30 iterations: 0.07405680464660223 accuracy: 0.9741719365119934 \n",
            "avg train loss 30 iterations: 0.07314844594149528 accuracy: 0.9745244383811951 \n",
            "avg train loss 30 iterations: 0.07228200259062136 accuracy: 0.9748502969741821 \n",
            "Epoch 13/60: val loss: 0.009929785473754496 accuracy: 0.9972098214285714 \n",
            "New weights tensor([1.0000, 1.0000, 0.9406, 1.0000, 1.0000, 1.0000, 0.9712, 0.9720, 0.9704]) \n",
            "Learning rate 1e-05 \n",
            "Epoch 14\n",
            "avg train loss 30 iterations: 0.07146028578022053 accuracy: 0.9751316905021667 \n",
            "avg train loss 30 iterations: 0.07062763313492838 accuracy: 0.9754541516304016 \n",
            "avg train loss 30 iterations: 0.06984670403677946 accuracy: 0.9757062792778015 \n",
            "avg train loss 30 iterations: 0.06911684715340385 accuracy: 0.9759811758995056 \n",
            "avg train loss 30 iterations: 0.06826965267987287 accuracy: 0.9763073921203613 \n",
            "Epoch 14/60: val loss: 0.028033147172079356 accuracy: 0.98828125 \n",
            "New weights tensor([1.0000, 1.0000, 0.9695, 0.9687, 0.8890, 0.8223, 0.9041, 0.9492, 0.8910]) \n",
            "Learning rate 1e-05 \n",
            "Epoch 15\n",
            "avg train loss 30 iterations: 0.06745889273536962 accuracy: 0.9766062498092651 \n",
            "avg train loss 30 iterations: 0.06666410400786757 accuracy: 0.9769290685653687 \n",
            "avg train loss 30 iterations: 0.06595009732552523 accuracy: 0.9772005677223206 \n",
            "avg train loss 30 iterations: 0.0652881598104704 accuracy: 0.9774227738380432 \n",
            "avg train loss 30 iterations: 0.06469831859842358 accuracy: 0.97762531042099 \n",
            "Epoch 15/60: val loss: 0.03669829175071625 accuracy: 0.9899553571428571 \n",
            "New weights tensor([1.0000, 1.0000, 0.8900, 1.0000, 0.9406, 0.9107, 0.9707, 0.8543, 0.9116]) \n",
            "Learning rate 1e-05 \n",
            "Epoch 16\n",
            "avg train loss 30 iterations: 0.06395258928391949 accuracy: 0.9779003262519836 \n",
            "avg train loss 30 iterations: 0.06332579202772248 accuracy: 0.9781183004379272 \n",
            "avg train loss 30 iterations: 0.06278052028382766 accuracy: 0.9782776236534119 \n",
            "avg train loss 30 iterations: 0.062131084088969245 accuracy: 0.9785246253013611 \n",
            "avg train loss 30 iterations: 0.061532361014369166 accuracy: 0.9787266850471497 \n",
            "Epoch 16/60: val loss: 0.06231858510935646 accuracy: 0.9815848214285714 \n",
            "New weights tensor([1.0000, 0.9701, 0.8944, 1.0000, 0.9180, 0.8648, 0.7767, 0.7714, 0.8739]) \n",
            "Learning rate 1e-05 \n",
            "Epoch 17\n",
            "avg train loss 30 iterations: 0.06091896481661127 accuracy: 0.9789451956748962 \n",
            "avg train loss 30 iterations: 0.06032900575087921 accuracy: 0.9791498184204102 \n",
            "avg train loss 30 iterations: 0.059812406387345654 accuracy: 0.9793495535850525 \n",
            "avg train loss 30 iterations: 0.059270585117179385 accuracy: 0.9795322418212891 \n",
            "avg train loss 30 iterations: 0.05875280023472312 accuracy: 0.9797471761703491 \n",
            "Epoch 17/60: val loss: 0.03245937498702135 accuracy: 0.9866071428571429 \n",
            "New weights tensor([1.0000, 1.0000, 0.9400, 1.0000, 0.9426, 0.7974, 0.8885, 0.8040, 0.9397]) \n",
            "Learning rate 1e-05 \n",
            "Epoch 18\n",
            "avg train loss 30 iterations: 0.058235822687236004 accuracy: 0.9799407720565796 \n",
            "avg train loss 30 iterations: 0.05772720539236137 accuracy: 0.9801222681999207 \n",
            "avg train loss 30 iterations: 0.05717684139646241 accuracy: 0.9803231954574585 \n",
            "avg train loss 30 iterations: 0.05672294753566161 accuracy: 0.9804731011390686 \n",
            "avg train loss 30 iterations: 0.05622287881802923 accuracy: 0.9806657433509827 \n",
            "Epoch 18/60: val loss: 0.03188250181067685 accuracy: 0.9899553571428571 \n",
            "New weights tensor([1.0000, 1.0000, 0.9112, 1.0000, 0.8992, 0.9478, 0.8847, 0.8836, 0.9431]) \n",
            "Learning rate 1.0000000000000002e-06 \n",
            "Epoch 19\n",
            "avg train loss 30 iterations: 0.05572712357552968 accuracy: 0.9808383584022522 \n",
            "avg train loss 30 iterations: 0.05530592554550049 accuracy: 0.9809890389442444 \n",
            "avg train loss 30 iterations: 0.054822277250521675 accuracy: 0.9811587333679199 \n",
            "avg train loss 30 iterations: 0.054368120446464246 accuracy: 0.9813358783721924 \n",
            "avg train loss 30 iterations: 0.05392894589208754 accuracy: 0.9814766645431519 \n",
            "Epoch 19/60: val loss: 0.04286966848979189 accuracy: 0.98828125 \n",
            "New weights tensor([1.0000, 1.0000, 0.9051, 0.9732, 0.9348, 0.8930, 0.9409, 0.8629, 0.8910]) \n",
            "Learning rate 1.0000000000000002e-06 \n",
            "Epoch 20\n",
            "avg train loss 30 iterations: 0.053490499499452386 accuracy: 0.9816315770149231 \n",
            "avg train loss 30 iterations: 0.0530299652046307 accuracy: 0.9817984104156494 \n",
            "avg train loss 30 iterations: 0.052635859545003875 accuracy: 0.9819512367248535 \n",
            "avg train loss 30 iterations: 0.05218097201554008 accuracy: 0.9821323752403259 \n",
            "avg train loss 30 iterations: 0.05174897515065788 accuracy: 0.9822892546653748 \n",
            "Epoch 20/60: val loss: 0.03904132094183816 accuracy: 0.9866071428571429 \n",
            "New weights tensor([1.0000, 0.9391, 0.9129, 1.0000, 0.9412, 0.8564, 0.8910, 0.7648, 1.0000]) \n",
            "Learning rate 1.0000000000000002e-06 \n",
            "Epoch 21\n",
            "avg train loss 30 iterations: 0.05149309595339725 accuracy: 0.9823770523071289 \n",
            "avg train loss 30 iterations: 0.05123357384257939 accuracy: 0.9824573993682861 \n",
            "avg train loss 30 iterations: 0.05085857713497147 accuracy: 0.9825763702392578 \n",
            "avg train loss 30 iterations: 0.050546046508693765 accuracy: 0.9826831221580505 \n",
            "avg train loss 30 iterations: 0.05016878702338456 accuracy: 0.9828075766563416 \n",
            "Epoch 21/60: val loss: 0.002191469389539894 accuracy: 1.0 \n",
            "New weights tensor([1., 1., 1., 1., 1., 1., 1., 1., 1.]) \n",
            "Learning rate 1.0000000000000002e-06 \n",
            "Epoch 22\n",
            "avg train loss 30 iterations: 0.04986912216545309 accuracy: 0.9829252362251282 \n",
            "avg train loss 30 iterations: 0.049609722557334396 accuracy: 0.9830354452133179 \n",
            "avg train loss 30 iterations: 0.0493467547492033 accuracy: 0.9831435680389404 \n",
            "avg train loss 30 iterations: 0.0491515376139892 accuracy: 0.9832118153572083 \n",
            "avg train loss 30 iterations: 0.04886003200643623 accuracy: 0.9833070039749146 \n",
            "Epoch 22/60: val loss: 0.0018539890227527525 accuracy: 1.0 \n",
            "New weights tensor([1., 1., 1., 1., 1., 1., 1., 1., 1.]) \n",
            "Learning rate 1.0000000000000002e-06 \n",
            "Epoch 23\n",
            "avg train loss 30 iterations: 0.04858257437493613 accuracy: 0.9834147691726685 \n",
            "avg train loss 30 iterations: 0.048278962875960646 accuracy: 0.9835249185562134 \n",
            "avg train loss 30 iterations: 0.04802191572581215 accuracy: 0.9836422801017761 \n",
            "avg train loss 30 iterations: 0.04771146717442623 accuracy: 0.9837576150894165 \n",
            "avg train loss 30 iterations: 0.047455641754215135 accuracy: 0.9838529825210571 \n",
            "Epoch 23/60: val loss: 0.006241410445259784 accuracy: 0.9988839285714286 \n",
            "New weights tensor([1.0000, 1.0000, 0.9698, 1.0000, 1.0000, 1.0000, 1.0000, 1.0000, 0.9707]) \n",
            "Learning rate 1.0000000000000002e-06 \n",
            "Epoch 24\n",
            "avg train loss 30 iterations: 0.04712828288053092 accuracy: 0.9839690923690796 \n",
            "avg train loss 30 iterations: 0.046798358358490694 accuracy: 0.9840875267982483 \n",
            "avg train loss 30 iterations: 0.04648604372325887 accuracy: 0.9842039942741394 \n",
            "avg train loss 30 iterations: 0.04619133439062729 accuracy: 0.9843097925186157 \n",
            "avg train loss 30 iterations: 0.04589697190057626 accuracy: 0.9844224452972412 \n",
            "Epoch 24/60: val loss: 0.0280255439470888 accuracy: 0.9888392857142857 \n",
            "New weights tensor([1.0000, 1.0000, 0.9107, 0.9687, 0.8890, 0.9080, 0.9030, 0.9252, 0.9169]) \n",
            "Learning rate 1.0000000000000002e-06 \n",
            "Epoch 25\n",
            "avg train loss 30 iterations: 0.04557868405356913 accuracy: 0.9845374822616577 \n",
            "avg train loss 30 iterations: 0.04535255704526065 accuracy: 0.9846294522285461 \n",
            "avg train loss 30 iterations: 0.04505155924041413 accuracy: 0.9847368001937866 \n",
            "avg train loss 30 iterations: 0.04474920880301607 accuracy: 0.9848507642745972 \n",
            "avg train loss 30 iterations: 0.04451737142744726 accuracy: 0.9849380850791931 \n",
            "Epoch 25/60: val loss: 0.024470670015164484 accuracy: 0.9927455357142857 \n",
            "New weights tensor([1.0000, 1.0000, 0.9165, 1.0000, 0.9403, 0.9400, 1.0000, 0.9107, 0.9116]) \n",
            "Learning rate 1.0000000000000002e-06 \n",
            "Epoch 26\n",
            "avg train loss 30 iterations: 0.044254204598382425 accuracy: 0.9850361347198486 \n",
            "avg train loss 30 iterations: 0.04396371029564325 accuracy: 0.9851369261741638 \n",
            "avg train loss 30 iterations: 0.043715467066454364 accuracy: 0.9852280020713806 \n",
            "avg train loss 30 iterations: 0.04342873224771739 accuracy: 0.9853417873382568 \n",
            "avg train loss 30 iterations: 0.04316293419871901 accuracy: 0.9854378700256348 \n",
            "Epoch 26/60: val loss: 0.06069443895830773 accuracy: 0.98046875 \n",
            "New weights tensor([1.0000, 0.9704, 0.8695, 1.0000, 0.8925, 0.8404, 0.7767, 0.7693, 0.9041]) \n",
            "Learning rate 1.0000000000000002e-06 \n",
            "Epoch 27\n",
            "avg train loss 30 iterations: 0.0429163356862282 accuracy: 0.9855204224586487 \n",
            "avg train loss 30 iterations: 0.0426554884573704 accuracy: 0.9856137037277222 \n",
            "avg train loss 30 iterations: 0.042450906929716946 accuracy: 0.9856978058815002 \n",
            "avg train loss 30 iterations: 0.04219682235044871 accuracy: 0.9857884049415588 \n",
            "avg train loss 30 iterations: 0.04196522939196413 accuracy: 0.9858623743057251 \n",
            "Epoch 27/60: val loss: 0.03572838554516368 accuracy: 0.9899553571428571 \n",
            "New weights tensor([1.0000, 1.0000, 0.8842, 1.0000, 0.9423, 0.9382, 0.9429, 0.8030, 0.9693]) \n",
            "Learning rate 1.0000000000000002e-06 \n",
            "Epoch 28\n",
            "avg train loss 30 iterations: 0.041686701533561896 accuracy: 0.985969066619873 \n",
            "avg train loss 30 iterations: 0.041462279982799964 accuracy: 0.98604816198349 \n",
            "avg train loss 30 iterations: 0.041230029186085475 accuracy: 0.9861261248588562 \n",
            "avg train loss 30 iterations: 0.04097376773559371 accuracy: 0.9862253069877625 \n",
            "avg train loss 30 iterations: 0.04077590978926097 accuracy: 0.9863008856773376 \n",
            "Epoch 28/60: val loss: 0.03636500919726261 accuracy: 0.98828125 \n",
            "New weights tensor([1.0000, 1.0000, 0.9112, 1.0000, 0.9656, 0.9219, 0.9120, 0.8040, 0.8890]) \n",
            "Learning rate 1.0000000000000002e-07 \n",
            "Epoch 29\n",
            "avg train loss 30 iterations: 0.04054529197461728 accuracy: 0.9863932728767395 \n",
            "avg train loss 30 iterations: 0.040370508788565705 accuracy: 0.9864447116851807 \n",
            "avg train loss 30 iterations: 0.04013286755260419 accuracy: 0.986531674861908 \n",
            "avg train loss 30 iterations: 0.03990482948148553 accuracy: 0.986617386341095 \n",
            "avg train loss 30 iterations: 0.03969952053862008 accuracy: 0.9866877198219299 \n",
            "Epoch 29/60: val loss: 0.039398414123622515 accuracy: 0.9899553571428571 \n",
            "New weights tensor([0.9702, 1.0000, 0.9046, 1.0000, 0.9668, 0.8672, 0.9701, 0.8895, 0.9173]) \n",
            "Learning rate 1.0000000000000002e-07 \n",
            "Epoch 30\n",
            "avg train loss 30 iterations: 0.039465041245270165 accuracy: 0.986774206161499 \n",
            "avg train loss 30 iterations: 0.03925001173545635 accuracy: 0.9868494868278503 \n",
            "avg train loss 30 iterations: 0.0391033670215741 accuracy: 0.9868888258934021 \n",
            "avg train loss 30 iterations: 0.038880711251573365 accuracy: 0.9869693517684937 \n",
            "avg train loss 30 iterations: 0.03869119742020792 accuracy: 0.9870280623435974 \n",
            "Epoch 30/60: val loss: 0.0393672070042937 accuracy: 0.9866071428571429 \n",
            "New weights tensor([1.0000, 0.9094, 0.9129, 1.0000, 0.9129, 0.9400, 0.9177, 0.7389, 0.9722]) \n",
            "Learning rate 1.0000000000000002e-07 \n",
            "Epoch 31\n",
            "avg train loss 30 iterations: 0.03851799337187498 accuracy: 0.9870819449424744 \n",
            "avg train loss 30 iterations: 0.03841487664359313 accuracy: 0.9871119260787964 \n",
            "avg train loss 30 iterations: 0.03831143084685701 accuracy: 0.987127959728241 \n",
            "avg train loss 30 iterations: 0.03817974709079511 accuracy: 0.9871639609336853 \n",
            "avg train loss 30 iterations: 0.038074255507323955 accuracy: 0.9871995449066162 \n",
            "Epoch 31/60: val loss: 0.0025744971696570118 accuracy: 0.9994419642857143 \n",
            "New weights tensor([1.0000, 1.0000, 0.9711, 1.0000, 1.0000, 1.0000, 1.0000, 1.0000, 1.0000]) \n",
            "Learning rate 1.0000000000000002e-07 \n",
            "Epoch 32\n",
            "avg train loss 30 iterations: 0.037929612934962824 accuracy: 0.9872439503669739 \n",
            "avg train loss 30 iterations: 0.037787308371279124 accuracy: 0.987298309803009 \n",
            "avg train loss 30 iterations: 0.037640105448440216 accuracy: 0.9873650670051575 \n",
            "avg train loss 30 iterations: 0.037539568116669295 accuracy: 0.9874244928359985 \n",
            "avg train loss 30 iterations: 0.03739674058859453 accuracy: 0.9874832034111023 \n",
            "Epoch 32/60: val loss: 0.002188035493548211 accuracy: 1.0 \n",
            "New weights tensor([1., 1., 1., 1., 1., 1., 1., 1., 1.]) \n",
            "Learning rate 1.0000000000000002e-07 \n",
            "Epoch 33\n",
            "avg train loss 30 iterations: 0.03725862917760391 accuracy: 0.9875244498252869 \n",
            "avg train loss 30 iterations: 0.03714076064072796 accuracy: 0.9875689744949341 \n",
            "avg train loss 30 iterations: 0.03706937859124174 accuracy: 0.9876003265380859 \n",
            "avg train loss 30 iterations: 0.03691672725332728 accuracy: 0.9876564741134644 \n",
            "avg train loss 30 iterations: 0.03676085097982626 accuracy: 0.9877245426177979 \n",
            "Epoch 33/60: val loss: 0.007170992033154887 accuracy: 0.9977678571428571 \n",
            "New weights tensor([1.0000, 1.0000, 0.9699, 1.0000, 0.9724, 1.0000, 1.0000, 0.9719, 0.9707]) \n",
            "Learning rate 1.0000000000000002e-07 \n",
            "Epoch 34\n",
            "avg train loss 30 iterations: 0.03657243750959155 accuracy: 0.9877942204475403 \n",
            "avg train loss 30 iterations: 0.03639320426439745 accuracy: 0.9878606200218201 \n",
            "avg train loss 30 iterations: 0.03623517309158538 accuracy: 0.9879201054573059 \n",
            "avg train loss 30 iterations: 0.0360665472684655 accuracy: 0.9879727363586426 \n",
            "avg train loss 30 iterations: 0.03590587893673495 accuracy: 0.9880308508872986 \n",
            "Epoch 34/60: val loss: 0.0290019762718917 accuracy: 0.9893973214285714 \n",
            "New weights tensor([1.0000, 1.0000, 0.8819, 0.9685, 0.8895, 0.9372, 0.9030, 0.9496, 0.9173]) \n",
            "Learning rate 1.0000000000000004e-08 \n",
            "Epoch 35\n",
            "avg train loss 30 iterations: 0.035746994637321734 accuracy: 0.9880906343460083 \n",
            "avg train loss 30 iterations: 0.03557387690086311 accuracy: 0.9881594181060791 \n",
            "avg train loss 30 iterations: 0.03542415089358061 accuracy: 0.988215446472168 \n",
            "avg train loss 30 iterations: 0.03525082468796843 accuracy: 0.9882827401161194 \n",
            "avg train loss 30 iterations: 0.03508916131535172 accuracy: 0.988343358039856 \n",
            "Epoch 35/60: val loss: 0.027981948993068988 accuracy: 0.9888392857142857 \n",
            "New weights tensor([1.0000, 1.0000, 0.8900, 1.0000, 0.8842, 0.9400, 0.9705, 0.8550, 0.8842]) \n",
            "Learning rate 1.0000000000000004e-08 \n",
            "Epoch 36\n",
            "avg train loss 30 iterations: 0.03493656168536521 accuracy: 0.9883995652198792 \n",
            "avg train loss 30 iterations: 0.03479152831771229 accuracy: 0.9884588122367859 \n",
            "avg train loss 30 iterations: 0.03467790795899495 accuracy: 0.9884999990463257 \n",
            "avg train loss 30 iterations: 0.03453786398898414 accuracy: 0.9885464906692505 \n",
            "avg train loss 30 iterations: 0.03441793122540336 accuracy: 0.9885924458503723 \n",
            "Epoch 36/60: val loss: 0.055520282812722144 accuracy: 0.9827008928571429 \n",
            "New weights tensor([1.0000, 0.9702, 0.8948, 1.0000, 0.9447, 0.8389, 0.8536, 0.7714, 0.8445]) \n",
            "Learning rate 1.0000000000000004e-08 \n",
            "Epoch 37\n",
            "avg train loss 30 iterations: 0.03431798121380229 accuracy: 0.9886171221733093 \n",
            "avg train loss 30 iterations: 0.034186363228745825 accuracy: 0.988667905330658 \n",
            "avg train loss 30 iterations: 0.03405257313952731 accuracy: 0.9887124300003052 \n",
            "avg train loss 30 iterations: 0.03390298091032548 accuracy: 0.9887678027153015 \n",
            "avg train loss 30 iterations: 0.033752133194549304 accuracy: 0.9888225197792053 \n",
            "Epoch 37/60: val loss: 0.03184667113912708 accuracy: 0.9916294642857143 \n",
            "New weights tensor([1.0000, 1.0000, 0.8571, 1.0000, 0.9426, 0.9382, 0.9420, 0.9400, 0.9400]) \n",
            "Learning rate 1.0000000000000004e-08 \n",
            "Epoch 38\n",
            "avg train loss 30 iterations: 0.03364952294275044 accuracy: 0.9888563752174377 \n",
            "avg train loss 30 iterations: 0.03352618168886975 accuracy: 0.9889045357704163 \n",
            "avg train loss 30 iterations: 0.03340437406014457 accuracy: 0.9889411330223083 \n",
            "avg train loss 30 iterations: 0.03326782411288015 accuracy: 0.9889992475509644 \n",
            "avg train loss 30 iterations: 0.033127166156526194 accuracy: 0.9890567660331726 \n",
            "Epoch 38/60: val loss: 0.030063057323007212 accuracy: 0.9877232142857143 \n",
            "New weights tensor([1.0000, 1.0000, 0.9107, 1.0000, 0.9322, 0.9478, 0.9409, 0.7767, 0.8635]) \n",
            "Learning rate 1.0000000000000004e-08 \n",
            "Epoch 39\n",
            "avg train loss 30 iterations: 0.0329913229605825 accuracy: 0.9891101717948914 \n",
            "avg train loss 30 iterations: 0.03289390472794942 accuracy: 0.9891557693481445 \n",
            "avg train loss 30 iterations: 0.032771506282492056 accuracy: 0.9891954660415649 \n",
            "avg train loss 30 iterations: 0.03264727104437268 accuracy: 0.9892454743385315 \n",
            "avg train loss 30 iterations: 0.03256397328871809 accuracy: 0.989284336566925 \n",
            "Epoch 39/60: val loss: 0.044844869967294344 accuracy: 0.9849330357142857 \n",
            "New weights tensor([0.9406, 1.0000, 0.9051, 1.0000, 0.9348, 0.8925, 0.9699, 0.8382, 0.7699]) \n",
            "Learning rate 1.0000000000000004e-08 \n",
            "Epoch 40\n",
            "avg train loss 30 iterations: 0.03245363587573829 accuracy: 0.9893193244934082 \n",
            "avg train loss 30 iterations: 0.032327717624254494 accuracy: 0.9893732070922852 \n",
            "avg train loss 30 iterations: 0.032213970151858236 accuracy: 0.9894160628318787 \n",
            "avg train loss 30 iterations: 0.03208681634038096 accuracy: 0.989463746547699 \n",
            "avg train loss 30 iterations: 0.03197594440052635 accuracy: 0.9895005226135254 \n",
            "Epoch 40/60: val loss: 0.03991971376568212 accuracy: 0.98828125 \n",
            "New weights tensor([1.0000, 0.9688, 0.9129, 1.0000, 0.9704, 0.9409, 0.9445, 0.7138, 0.9447]) \n",
            "Learning rate 1.0000000000000004e-08 \n",
            "Epoch 41\n",
            "avg train loss 30 iterations: 0.03187818964406283 accuracy: 0.9895387291908264 \n",
            "avg train loss 30 iterations: 0.031826782363264625 accuracy: 0.9895440340042114 \n",
            "avg train loss 30 iterations: 0.031746190018229474 accuracy: 0.9895697236061096 \n",
            "avg train loss 30 iterations: 0.0316723014468247 accuracy: 0.9895901083946228 \n",
            "avg train loss 30 iterations: 0.031630550543510584 accuracy: 0.9895951151847839 \n",
            "Epoch 41/60: val loss: 0.002147171240981801 accuracy: 0.9994419642857143 \n",
            "New weights tensor([1.0000, 1.0000, 1.0000, 1.0000, 1.0000, 0.9696, 1.0000, 1.0000, 1.0000]) \n",
            "Learning rate 1.0000000000000004e-08 \n",
            "Epoch 42\n",
            "avg train loss 30 iterations: 0.031599498708070765 accuracy: 0.989601731300354 \n",
            "avg train loss 30 iterations: 0.03157156905461297 accuracy: 0.9896166324615479 \n",
            "avg train loss 30 iterations: 0.031541287103483286 accuracy: 0.9896264672279358 \n",
            "avg train loss 30 iterations: 0.03152457952527963 accuracy: 0.9896262288093567 \n",
            "avg train loss 30 iterations: 0.03145751113922268 accuracy: 0.9896506667137146 \n",
            "Epoch 42/60: val loss: 0.002485955114544985 accuracy: 1.0 \n",
            "New weights tensor([1., 1., 1., 1., 1., 1., 1., 1., 1.]) \n",
            "Learning rate 1.0000000000000004e-08 \n",
            "Epoch 43\n",
            "avg train loss 30 iterations: 0.03140370193726462 accuracy: 0.9896765351295471 \n",
            "avg train loss 30 iterations: 0.03134541757462648 accuracy: 0.9896956086158752 \n",
            "avg train loss 30 iterations: 0.03127902760805418 accuracy: 0.9897193908691406 \n",
            "avg train loss 30 iterations: 0.031211660072059978 accuracy: 0.9897477626800537 \n",
            "avg train loss 30 iterations: 0.031168571463899935 accuracy: 0.9897662401199341 \n",
            "Epoch 43/60: val loss: 0.007438339066928685 accuracy: 0.9983258928571429 \n",
            "New weights tensor([1.0000, 1.0000, 0.9695, 1.0000, 1.0000, 1.0000, 1.0000, 0.9720, 0.9707]) \n",
            "Learning rate 1.0000000000000004e-08 \n",
            "Epoch 44\n",
            "avg train loss 30 iterations: 0.03106963942428946 accuracy: 0.9898005127906799 \n",
            "avg train loss 30 iterations: 0.030965300647994857 accuracy: 0.989842414855957 \n",
            "avg train loss 30 iterations: 0.030864576752195966 accuracy: 0.9898744821548462 \n",
            "avg train loss 30 iterations: 0.030793520005537763 accuracy: 0.9898967742919922 \n",
            "avg train loss 30 iterations: 0.030686799428741977 accuracy: 0.9899377226829529 \n",
            "Epoch 44/60: val loss: 0.026978685261773144 accuracy: 0.9905133928571429 \n",
            "New weights tensor([1.0000, 1.0000, 0.9112, 0.9687, 0.8885, 0.9378, 0.9344, 0.9013, 0.9716]) \n",
            "Learning rate 1.0000000000000004e-08 \n",
            "Epoch 45\n",
            "avg train loss 30 iterations: 0.03057469454793802 accuracy: 0.989975094795227 \n",
            "avg train loss 30 iterations: 0.030493005413266612 accuracy: 0.9900013208389282 \n",
            "avg train loss 30 iterations: 0.030409555489486664 accuracy: 0.990031898021698 \n",
            "avg train loss 30 iterations: 0.03032020457999634 accuracy: 0.9900622963905334 \n",
            "avg train loss 30 iterations: 0.030253412350179983 accuracy: 0.9900877475738525 \n",
            "Epoch 45/60: val loss: 0.02933796933315794 accuracy: 0.9916294642857143 \n",
            "New weights tensor([1.0000, 1.0000, 0.9161, 1.0000, 0.9120, 0.9397, 0.9707, 0.8825, 0.9403]) \n",
            "Learning rate 1.0000000000000004e-08 \n",
            "Epoch 46\n",
            "avg train loss 30 iterations: 0.030177916946489153 accuracy: 0.9901190400123596 \n",
            "avg train loss 30 iterations: 0.03009243540268919 accuracy: 0.9901531934738159 \n",
            "avg train loss 30 iterations: 0.029994525467822553 accuracy: 0.9901869893074036 \n",
            "avg train loss 30 iterations: 0.029928964631363787 accuracy: 0.9902114868164062 \n",
            "avg train loss 30 iterations: 0.029845064575025407 accuracy: 0.9902492761611938 \n",
            "Epoch 46/60: val loss: 0.05261567253806528 accuracy: 0.9827008928571429 \n",
            "New weights tensor([1.0000, 0.9702, 0.8683, 1.0000, 0.9184, 0.8915, 0.8825, 0.7681, 0.8169]) \n",
            "Learning rate 1.0000000000000004e-08 \n",
            "Epoch 47\n",
            "avg train loss 30 iterations: 0.029745146681261343 accuracy: 0.9902881383895874 \n",
            "avg train loss 30 iterations: 0.029650495240096483 accuracy: 0.9903163313865662 \n",
            "avg train loss 30 iterations: 0.02955849935463408 accuracy: 0.990348756313324 \n",
            "avg train loss 30 iterations: 0.02946986742759465 accuracy: 0.9903852939605713 \n",
            "avg train loss 30 iterations: 0.0293852633541498 accuracy: 0.990412712097168 \n",
            "Epoch 47/60: val loss: 0.027924146283891917 accuracy: 0.98828125 \n",
            "New weights tensor([1.0000, 1.0000, 0.8831, 1.0000, 0.9423, 0.9080, 0.9153, 0.8298, 0.9107]) \n",
            "Learning rate 1.0000000000000004e-08 \n",
            "Epoch 48\n",
            "avg train loss 30 iterations: 0.029283342798717544 accuracy: 0.9904544353485107 \n",
            "avg train loss 30 iterations: 0.029191204242927517 accuracy: 0.9904900789260864 \n",
            "avg train loss 30 iterations: 0.029091226727550205 accuracy: 0.9905297756195068 \n",
            "avg train loss 30 iterations: 0.029007026339360004 accuracy: 0.9905648231506348 \n",
            "avg train loss 30 iterations: 0.02894535483689856 accuracy: 0.9905866384506226 \n",
            "Epoch 48/60: val loss: 0.03048274679739344 accuracy: 0.9888392857142857 \n",
            "New weights tensor([1.0000, 1.0000, 0.8831, 1.0000, 0.8676, 0.8984, 0.9699, 0.9116, 0.8890]) \n",
            "Learning rate 1.0000000000000004e-08 \n",
            "Epoch 49\n",
            "avg train loss 30 iterations: 0.028857277087651095 accuracy: 0.9906138181686401 \n",
            "avg train loss 30 iterations: 0.0287835180914738 accuracy: 0.9906395673751831 \n",
            "avg train loss 30 iterations: 0.028709717082123158 accuracy: 0.990669310092926 \n",
            "avg train loss 30 iterations: 0.028629368748965673 accuracy: 0.9906945824623108 \n",
            "avg train loss 30 iterations: 0.0285370683942937 accuracy: 0.9907323122024536 \n",
            "Epoch 49/60: val loss: 0.03738170445181562 accuracy: 0.9871651785714286 \n",
            "New weights tensor([0.9125, 1.0000, 0.9359, 1.0000, 0.9355, 0.8425, 0.9698, 0.8382, 0.9169]) \n",
            "Learning rate 1.0000000000000004e-08 \n",
            "Epoch 50\n",
            "avg train loss 30 iterations: 0.028463668117165632 accuracy: 0.9907583594322205 \n",
            "avg train loss 30 iterations: 0.028366344734587916 accuracy: 0.9907954931259155 \n",
            "avg train loss 30 iterations: 0.02830009600216935 accuracy: 0.9908198714256287 \n",
            "avg train loss 30 iterations: 0.028211148507738072 accuracy: 0.9908564686775208 \n",
            "avg train loss 30 iterations: 0.028125091093900587 accuracy: 0.99088454246521 \n",
            "Epoch 50/60: val loss: 0.03655927968481722 accuracy: 0.9905133928571429 \n",
            "New weights tensor([1.0000, 0.9690, 0.9418, 1.0000, 0.9415, 0.9120, 0.9442, 0.7903, 1.0000]) \n",
            "Learning rate 1.0000000000000004e-08 \n",
            "Epoch 51\n",
            "avg train loss 30 iterations: 0.028065511790780893 accuracy: 0.9909053444862366 \n",
            "avg train loss 30 iterations: 0.028027483099293204 accuracy: 0.9909165501594543 \n",
            "avg train loss 30 iterations: 0.028032122145238373 accuracy: 0.9909195303916931 \n",
            "avg train loss 30 iterations: 0.02797227140137048 accuracy: 0.9909387230873108 \n",
            "avg train loss 30 iterations: 0.02793474441325419 accuracy: 0.9909496903419495 \n",
            "Epoch 51/60: val loss: 0.0036488166554460933 accuracy: 0.9988839285714286 \n",
            "New weights tensor([1.0000, 1.0000, 1.0000, 1.0000, 1.0000, 0.9696, 1.0000, 1.0000, 0.9695]) \n",
            "Learning rate 1.0000000000000004e-08 \n",
            "Epoch 52\n",
            "avg train loss 30 iterations: 0.027920609424653863 accuracy: 0.9909495711326599 \n",
            "avg train loss 30 iterations: 0.02791510812160371 accuracy: 0.9909523725509644 \n",
            "avg train loss 30 iterations: 0.027876896350663507 accuracy: 0.9909631013870239 \n",
            "avg train loss 30 iterations: 0.027825494231730766 accuracy: 0.9909818172454834 \n",
            "avg train loss 30 iterations: 0.02776805351360489 accuracy: 0.9910082817077637 \n",
            "Epoch 52/60: val loss: 0.001862324222331933 accuracy: 1.0 \n",
            "New weights tensor([1., 1., 1., 1., 1., 1., 1., 1., 1.]) \n",
            "Learning rate 1.0000000000000004e-08 \n",
            "Epoch 53\n",
            "avg train loss 30 iterations: 0.02771698133066804 accuracy: 0.99102783203125 \n",
            "avg train loss 30 iterations: 0.0277191393834772 accuracy: 0.991034209728241 \n",
            "avg train loss 30 iterations: 0.02765211564227808 accuracy: 0.991060197353363 \n",
            "avg train loss 30 iterations: 0.02759999753985887 accuracy: 0.9910860061645508 \n",
            "avg train loss 30 iterations: 0.027547246264123575 accuracy: 0.9911037683486938 \n",
            "Epoch 53/60: val loss: 0.006177911033124214 accuracy: 0.9983258928571429 \n",
            "New weights tensor([1.0000, 1.0000, 0.9409, 1.0000, 1.0000, 1.0000, 0.9711, 1.0000, 1.0000]) \n",
            "Learning rate 1.0000000000000004e-08 \n",
            "Epoch 54\n",
            "avg train loss 30 iterations: 0.027461018669410295 accuracy: 0.9911303520202637 \n",
            "avg train loss 30 iterations: 0.02739542117487457 accuracy: 0.9911594390869141 \n",
            "avg train loss 30 iterations: 0.027321888873220745 accuracy: 0.9911883473396301 \n",
            "avg train loss 30 iterations: 0.02727063201532754 accuracy: 0.9912093877792358 \n",
            "avg train loss 30 iterations: 0.02720270471999755 accuracy: 0.9912416934967041 \n",
            "Epoch 54/60: val loss: 0.02746791510435287 accuracy: 0.9910714285714286 \n",
            "New weights tensor([1.0000, 1.0000, 0.8831, 0.9687, 0.9161, 0.9375, 0.9348, 0.9005, 1.0000]) \n",
            "Learning rate 1.0000000000000004e-08 \n",
            "Epoch 55\n",
            "avg train loss 30 iterations: 0.027123135262530424 accuracy: 0.991274893283844 \n",
            "avg train loss 30 iterations: 0.027048790369009975 accuracy: 0.9913029670715332 \n",
            "avg train loss 30 iterations: 0.026984273306253283 accuracy: 0.9913270473480225 \n",
            "avg train loss 30 iterations: 0.026928055207708235 accuracy: 0.9913547039031982 \n",
            "avg train loss 30 iterations: 0.02686822051164585 accuracy: 0.9913784265518188 \n",
            "Epoch 55/60: val loss: 0.027179117395072745 accuracy: 0.9916294642857143 \n",
            "New weights tensor([1.0000, 1.0000, 0.8900, 1.0000, 0.9406, 0.9116, 0.9415, 0.9696, 0.9116]) \n",
            "Learning rate 1.0000000000000004e-08 \n",
            "Epoch 56\n",
            "avg train loss 30 iterations: 0.026795988900654842 accuracy: 0.991410493850708 \n",
            "avg train loss 30 iterations: 0.026762679437547253 accuracy: 0.9914188385009766 \n",
            "avg train loss 30 iterations: 0.02669849817140057 accuracy: 0.991445779800415 \n",
            "avg train loss 30 iterations: 0.02662813743208162 accuracy: 0.9914762377738953 \n",
            "avg train loss 30 iterations: 0.026552285392612267 accuracy: 0.9915065169334412 \n",
            "Epoch 56/60: val loss: 0.05624570334371778 accuracy: 0.984375 \n",
            "New weights tensor([1.0000, 0.9704, 0.8934, 1.0000, 0.9720, 0.8654, 0.8543, 0.7703, 0.8745]) \n",
            "Learning rate 1.0000000000000004e-08 \n",
            "Epoch 57\n",
            "avg train loss 30 iterations: 0.026478028287249294 accuracy: 0.9915338754653931 \n",
            "avg train loss 30 iterations: 0.02641963661037713 accuracy: 0.9915563464164734 \n",
            "avg train loss 30 iterations: 0.026362151941264376 accuracy: 0.9915750026702881 \n",
            "avg train loss 30 iterations: 0.026308552829172483 accuracy: 0.9915899038314819 \n",
            "avg train loss 30 iterations: 0.026254148749053387 accuracy: 0.9916119575500488 \n",
            "Epoch 57/60: val loss: 0.03208563581003026 accuracy: 0.9893973214285714 \n",
            "New weights tensor([1.0000, 1.0000, 0.8825, 1.0000, 0.9149, 0.9378, 0.9157, 0.8831, 0.9107]) \n",
            "Learning rate 1.0000000000000004e-08 \n",
            "Epoch 58\n",
            "avg train loss 30 iterations: 0.02619151140085263 accuracy: 0.9916348457336426 \n",
            "avg train loss 30 iterations: 0.02614494540490452 accuracy: 0.9916529655456543 \n",
            "avg train loss 30 iterations: 0.026089961810427928 accuracy: 0.991674542427063 \n",
            "avg train loss 30 iterations: 0.026046537477795752 accuracy: 0.9916888475418091 \n",
            "avg train loss 30 iterations: 0.02601756840311949 accuracy: 0.9916995167732239 \n",
            "Epoch 58/60: val loss: 0.029370290726676882 accuracy: 0.9905133928571429 \n",
            "New weights tensor([1.0000, 1.0000, 0.9107, 1.0000, 0.9658, 0.9226, 0.9409, 0.8836, 0.8885]) \n",
            "Learning rate 1.0000000000000004e-08 \n",
            "Epoch 59\n",
            "avg train loss 30 iterations: 0.02595576216797054 accuracy: 0.9917216897010803 \n",
            "avg train loss 30 iterations: 0.025888939177616692 accuracy: 0.9917463064193726 \n",
            "avg train loss 30 iterations: 0.025824619542147795 accuracy: 0.9917672276496887 \n",
            "avg train loss 30 iterations: 0.025775282712656215 accuracy: 0.9917809367179871 \n",
            "avg train loss 30 iterations: 0.025723434388885323 accuracy: 0.9917945861816406 \n",
            "Epoch 59/60: val loss: 0.03794878405278723 accuracy: 0.98828125 \n",
            "New weights tensor([0.9701, 1.0000, 0.9359, 1.0000, 0.9046, 0.8910, 0.9699, 0.8135, 0.9169]) \n",
            "Learning rate 1.0000000000000004e-08 \n",
            "Epoch 60\n",
            "avg train loss 30 iterations: 0.025666430421749306 accuracy: 0.9918195605278015 \n",
            "avg train loss 30 iterations: 0.025623581068319683 accuracy: 0.991832971572876 \n",
            "avg train loss 30 iterations: 0.02557097517523357 accuracy: 0.9918567538261414 \n",
            "avg train loss 30 iterations: 0.0255109565156149 accuracy: 0.9918803572654724 \n",
            "avg train loss 30 iterations: 0.02547230269611184 accuracy: 0.9918864965438843 \n",
            "Epoch 60/60: val loss: 0.03816026020649588 accuracy: 0.9877232142857143 \n",
            "New weights tensor([1.0000, 0.9388, 0.9137, 1.0000, 0.9701, 0.9107, 0.8660, 0.7914, 0.9720]) \n",
            "Learning rate 1.0000000000000004e-08 \n",
            "\n",
            "train done\n"
          ]
        }
      ]
    },
    {
      "cell_type": "code",
      "source": [
        "model.save(\"best\")"
      ],
      "metadata": {
        "id": "mcFJvO-bi9jn"
      },
      "execution_count": null,
      "outputs": []
    },
    {
      "cell_type": "code",
      "source": [
        "model.load(\"best\")"
      ],
      "metadata": {
        "colab": {
          "base_uri": "https://localhost:8080/"
        },
        "id": "fymTdho5ZWFW",
        "outputId": "8c4b9741-328a-4c02-96b7-1caf2e384a59"
      },
      "execution_count": null,
      "outputs": [
        {
          "output_type": "stream",
          "name": "stderr",
          "text": [
            "Downloading...\n",
            "From (original): https://drive.google.com/uc?id=1-KG_C4OaeYnh9DpB4GH0_fdUoLK706Fg\n",
            "From (redirected): https://drive.google.com/uc?id=1-KG_C4OaeYnh9DpB4GH0_fdUoLK706Fg&confirm=t&uuid=a1315c98-8002-48c5-b778-14fbd56f8e59\n",
            "To: /content/best.pth\n",
            "100%|██████████| 44.8M/44.8M [00:00<00:00, 80.8MB/s]\n",
            "<ipython-input-65-62702a8d8649>:18: FutureWarning: You are using `torch.load` with `weights_only=False` (the current default value), which uses the default pickle module implicitly. It is possible to construct malicious pickle data which will execute arbitrary code during unpickling (See https://github.com/pytorch/pytorch/blob/main/SECURITY.md#untrusted-models for more details). In a future release, the default value for `weights_only` will be flipped to `True`. This limits the functions that could be executed during unpickling. Arbitrary objects will no longer be allowed to be loaded via this mode unless they are explicitly allowlisted by the user via `torch.serialization.add_safe_globals`. We recommend you start setting `weights_only=True` for any use case where you don't have full control of the loaded file. Please open an issue on GitHub for any issues related to this experimental feature.\n",
            "  self.model.load_state_dict(torch.load(output))\n"
          ]
        }
      ]
    },
    {
      "cell_type": "markdown",
      "metadata": {
        "id": "CcM2EiRMVP93"
      },
      "source": [
        "Пример тестирования модели на части набора данных:"
      ]
    },
    {
      "cell_type": "code",
      "execution_count": null,
      "metadata": {
        "id": "I0AqmeLEKqrs",
        "colab": {
          "base_uri": "https://localhost:8080/",
          "height": 136,
          "referenced_widgets": [
            "41564e70d36d4237bb25dea0959e5e82",
            "6275c68d5e52455b98acfb8b632b61fa",
            "6eadfc751f1448d6861a64421b92d399",
            "3adb9abfcbff429f8df4bb1b5ad4d6a7",
            "cfdc2bcbe150429daa965bea09f4c988",
            "7faeb3ddabd646118aeb19b5b92817de",
            "9a49a5cc20524ea99a2725277c60fdad",
            "c65faad9150c4f5c8844a90824db64a2",
            "c798596616db4b69929128d0b87d99a1",
            "0e06e75c74324ff18064848a2cf629cd",
            "83994084defa4b2794a648edb135bda7"
          ]
        },
        "outputId": "a074b140-b6fd-4594-8606-9862984dbf5a"
      },
      "outputs": [
        {
          "output_type": "display_data",
          "data": {
            "text/plain": [
              "  0%|          | 0/450 [00:00<?, ?it/s]"
            ],
            "application/vnd.jupyter.widget-view+json": {
              "version_major": 2,
              "version_minor": 0,
              "model_id": "41564e70d36d4237bb25dea0959e5e82"
            }
          },
          "metadata": {}
        },
        {
          "output_type": "stream",
          "name": "stdout",
          "text": [
            "metrics for 10% of test:\n",
            "\t accuracy 0.9978:\n",
            "\t balanced accuracy 0.9978:\n"
          ]
        },
        {
          "output_type": "stream",
          "name": "stderr",
          "text": [
            "/usr/local/lib/python3.10/dist-packages/sklearn/metrics/_classification.py:2480: UserWarning: y_pred contains classes not in y_true\n",
            "  warnings.warn(\"y_pred contains classes not in y_true\")\n"
          ]
        }
      ],
      "source": [
        "# evaluating model on 10% of test dataset\n",
        " #(чет вообще все плохо с конф. матрицей, даже не знаю почему... но на другом тесте работает нормальноЫ)\n",
        "pred_1 = model.test_on_dataset(d_test, limit=0.1)\n",
        "#confi_matrix(d_test.labels[:len(pred_1)], pred_1, TISSUE_CLASSES)\n",
        "Metrics.print_all(d_test.labels[:len(pred_1)], pred_1, '10% of test')"
      ]
    },
    {
      "cell_type": "markdown",
      "metadata": {
        "id": "mSwvHVVzVWZ5"
      },
      "source": [
        "Пример тестирования модели на полном наборе данных:"
      ]
    },
    {
      "cell_type": "code",
      "execution_count": null,
      "metadata": {
        "id": "mjI_sbMi3TMY",
        "colab": {
          "base_uri": "https://localhost:8080/",
          "height": 1000,
          "referenced_widgets": [
            "f0aa6369431044f393d732340019e716",
            "fda5150a23f143f280742d0d24790331",
            "be1bedbea00b49a0a9f552f076a4135b",
            "74fad9c5c35f48ddaa545ef5b1293a26",
            "206a51c17de6425f80ef9d8fcee05afd",
            "0f025d8ece0742fdb002579882100676",
            "f5c36d0e88074cc290132fd8d75ebe1e",
            "afa310799969447ba902f52557e7a40f",
            "05d255d8a30c42fb954fd02b03aae2c2",
            "1697edec1c514a4f86e09cd792954009",
            "ca847bb1595b4538b4240d2e39d04c8d"
          ]
        },
        "outputId": "f85b5e71-0949-4a92-fa0e-40db1e0940e0"
      },
      "outputs": [
        {
          "output_type": "display_data",
          "data": {
            "text/plain": [
              "  0%|          | 0/4500 [00:00<?, ?it/s]"
            ],
            "application/vnd.jupyter.widget-view+json": {
              "version_major": 2,
              "version_minor": 0,
              "model_id": "f0aa6369431044f393d732340019e716"
            }
          },
          "metadata": {}
        },
        {
          "output_type": "display_data",
          "data": {
            "text/plain": [
              "<Figure size 1000x800 with 2 Axes>"
            ],
            "image/png": "[encoded data removed]"
          },
          "metadata": {}
        },
        {
          "output_type": "stream",
          "name": "stdout",
          "text": [
            "Class          True Positive (TP)  False Positive (FP) \n",
            "-------------------------------------------------------\n",
            "ADI            499                 0                   \n",
            "BACK           499                 0                   \n",
            "DEB            489                 11                  \n",
            "LYM            498                 1                   \n",
            "MUC            494                 9                   \n",
            "MUS            498                 17                  \n",
            "NORM           488                 5                   \n",
            "STR            472                 13                  \n",
            "TUM            494                 13                  \n",
            "metrics for test:\n",
            "\t accuracy 0.9847:\n",
            "\t balanced accuracy 0.9847:\n"
          ]
        }
      ],
      "source": [
        "# evaluating model on full test dataset (may take time)\n",
        "if TEST_ON_LARGE_DATASET:\n",
        "    pred_2 = model.test_on_dataset(d_test)\n",
        "    confi_matrix(d_test.labels, pred_2,  TISSUE_CLASSES)\n",
        "    Metrics.print_all(d_test.labels, pred_2, 'test')"
      ]
    },
    {
      "cell_type": "markdown",
      "metadata": {
        "id": "kvyEHdxEB18o"
      },
      "source": [
        "Результат работы пайплайна обучения и тестирования выше тоже будет оцениваться. Поэтому не забудьте присылать на проверку ноутбук с выполнеными ячейками кода с демонстрациями метрик обучения, графиками и т.п. В этом пайплайне Вам необходимо продемонстрировать работу всех реализованных дополнений, улучшений и т.п.\n",
        "\n",
        "<font color=\"red\">\n",
        "Настоятельно рекомендуется после получения пайплайна с полными результатами обучения экспортировать ноутбук в pdf (файл -> печать) и прислать этот pdf вместе с самим ноутбуком.\n",
        "</font>"
      ]
    },
    {
      "cell_type": "markdown",
      "metadata": {
        "id": "RzSKAvVI6uCW"
      },
      "source": [
        "### Тестирование модели на других наборах данных\n",
        "\n",
        "Ваша модель должна поддерживать тестирование на других наборах данных. Для удобства, Вам предоставляется набор данных test_tiny, который представляет собой малую часть (2% изображений) набора test. Ниже приведен фрагмент кода, который будет осуществлять тестирование для оценивания Вашей модели на дополнительных тестовых наборах данных.\n",
        "\n",
        "<font color=\"red\">\n",
        "Прежде чем отсылать задание на проверку, убедитесь в работоспособности фрагмента кода ниже.\n",
        "</font>"
      ]
    },
    {
      "cell_type": "code",
      "execution_count": null,
      "metadata": {
        "id": "sdY3uTt87tqv",
        "colab": {
          "base_uri": "https://localhost:8080/",
          "height": 416,
          "referenced_widgets": [
            "936545840aff43a5bb13cfba2d8078b3",
            "90de54a87d1341d983b62fdfa299296a",
            "bb49a6c279cd4075abac5e78491e7be2",
            "227427508979465f8e718286cfbf9a2d",
            "9d1c2b2ad7df4c158e7e8924e70a0104",
            "5951cbfb3bbe4f19a730739e359b7625",
            "d089565a6f49435b84fa63670aac5ae9",
            "ce274a5237504bb69d41edb4cff5d266",
            "ea536a2ea99948bf8bb6044613a7124c",
            "4324c4a2cac64bba82a5ec7183dd9810",
            "d619339fde504eb69d3663b3c541149f"
          ]
        },
        "outputId": "7305d874-9d60-419c-c489-42fe32c50aa2"
      },
      "outputs": [
        {
          "output_type": "stream",
          "name": "stderr",
          "text": [
            "/usr/local/lib/python3.10/dist-packages/torchvision/models/_utils.py:208: UserWarning: The parameter 'pretrained' is deprecated since 0.13 and may be removed in the future, please use 'weights' instead.\n",
            "  warnings.warn(\n",
            "/usr/local/lib/python3.10/dist-packages/torchvision/models/_utils.py:223: UserWarning: Arguments other than a weight enum or `None` for 'weights' are deprecated since 0.13 and may be removed in the future. The current behavior is equivalent to passing `weights=ResNet18_Weights.IMAGENET1K_V1`. You can also use `weights=ResNet18_Weights.DEFAULT` to get the most up-to-date weights.\n",
            "  warnings.warn(msg)\n",
            "Downloading...\n",
            "From (original): https://drive.google.com/uc?id=1-KG_C4OaeYnh9DpB4GH0_fdUoLK706Fg\n",
            "From (redirected): https://drive.google.com/uc?id=1-KG_C4OaeYnh9DpB4GH0_fdUoLK706Fg&confirm=t&uuid=33e5016e-feda-4ce4-95db-72b9eb7f4591\n",
            "To: /content/best.pth\n",
            "100%|██████████| 44.8M/44.8M [00:00<00:00, 75.3MB/s]\n",
            "<ipython-input-65-62702a8d8649>:18: FutureWarning: You are using `torch.load` with `weights_only=False` (the current default value), which uses the default pickle module implicitly. It is possible to construct malicious pickle data which will execute arbitrary code during unpickling (See https://github.com/pytorch/pytorch/blob/main/SECURITY.md#untrusted-models for more details). In a future release, the default value for `weights_only` will be flipped to `True`. This limits the functions that could be executed during unpickling. Arbitrary objects will no longer be allowed to be loaded via this mode unless they are explicitly allowlisted by the user via `torch.serialization.add_safe_globals`. We recommend you start setting `weights_only=True` for any use case where you don't have full control of the loaded file. Please open an issue on GitHub for any issues related to this experimental feature.\n",
            "  self.model.load_state_dict(torch.load(output))\n",
            "Downloading...\n",
            "From: https://drive.google.com/uc?export=download&confirm=pbef&id=1F0ve7Cl7c7Ln-7hoQLbFauaAjsVAh1g7\n",
            "To: /content/test_tiny.npz\n",
            "100%|██████████| 10.6M/10.6M [00:00<00:00, 54.7MB/s]\n"
          ]
        },
        {
          "output_type": "stream",
          "name": "stdout",
          "text": [
            "Loading dataset test_tiny from npz.\n",
            "Done. Dataset test_tiny consists of 90 images.\n"
          ]
        },
        {
          "output_type": "display_data",
          "data": {
            "text/plain": [
              "  0%|          | 0/90 [00:00<?, ?it/s]"
            ],
            "application/vnd.jupyter.widget-view+json": {
              "version_major": 2,
              "version_minor": 0,
              "model_id": "936545840aff43a5bb13cfba2d8078b3"
            }
          },
          "metadata": {}
        },
        {
          "output_type": "stream",
          "name": "stdout",
          "text": [
            "metrics for test-tiny:\n",
            "\t accuracy 0.9667:\n",
            "\t balanced accuracy 0.9667:\n"
          ]
        }
      ],
      "source": [
        "final_model = Model()\n",
        "final_model.load('best')\n",
        "d_test_tiny = Dataset('test_tiny')\n",
        "pred = model.test_on_dataset(d_test_tiny)\n",
        "Metrics.print_all(d_test_tiny.labels, pred, 'test-tiny')"
      ]
    },
    {
      "cell_type": "markdown",
      "metadata": {
        "id": "lPvyj4gscU10"
      },
      "source": [
        "Отмонтировать Google Drive."
      ]
    },
    {
      "cell_type": "code",
      "execution_count": null,
      "metadata": {
        "id": "NfX35zNSvFWn"
      },
      "outputs": [],
      "source": [
        "drive.flush_and_unmount()"
      ]
    },
    {
      "cell_type": "markdown",
      "metadata": {
        "id": "RMyDxCDCspcI"
      },
      "source": [
        "---\n",
        "# Дополнительные \"полезности\"\n",
        "\n",
        "Ниже приведены примеры использования различных функций и библиотек, которые могут быть полезны при выполнении данного практического задания."
      ]
    },
    {
      "cell_type": "markdown",
      "metadata": {
        "id": "VvLwSttCs1rB"
      },
      "source": [
        "### Измерение времени работы кода\n",
        "\n",
        "Измерять время работы какой-либо функции можно легко и непринужденно при помощи функции timeit из соответствующего модуля:"
      ]
    },
    {
      "cell_type": "code",
      "execution_count": null,
      "metadata": {
        "id": "-HnLVhwE9C9S"
      },
      "outputs": [],
      "source": [
        "import timeit\n",
        "\n",
        "def factorial(n):\n",
        "    res = 1\n",
        "    for i in range(1, n + 1):\n",
        "        res *= i\n",
        "    return res\n",
        "\n",
        "\n",
        "def f():\n",
        "    return factorial(n=1000)\n",
        "\n",
        "n_runs = 128\n",
        "print(f'Function f is caluclated {n_runs} times in {timeit.timeit(f, number=n_runs)}s.')"
      ]
    },
    {
      "cell_type": "markdown",
      "metadata": {
        "id": "fibGVEdguOOi"
      },
      "source": [
        "### Scikit-learn\n",
        "\n",
        "Для использования \"классических\" алгоритмов машинного обучения рекомендуется использовать библиотеку scikit-learn (https://scikit-learn.org/stable/). Пример классификации изображений цифр из набора данных MNIST при помощи классификатора SVM:"
      ]
    },
    {
      "cell_type": "code",
      "execution_count": null,
      "metadata": {
        "id": "vXHnBzEfunAO"
      },
      "outputs": [],
      "source": [
        "# Standard scientific Python imports\n",
        "import matplotlib.pyplot as plt\n",
        "\n",
        "# Import datasets, classifiers and performance metrics\n",
        "from sklearn import datasets, svm, metrics\n",
        "from sklearn.model_selection import train_test_split\n",
        "\n",
        "# The digits dataset\n",
        "digits = datasets.load_digits()\n",
        "\n",
        "# The data that we are interested in is made of 8x8 images of digits, let's\n",
        "# have a look at the first 4 images, stored in the `images` attribute of the\n",
        "# dataset.  If we were working from image files, we could load them using\n",
        "# matplotlib.pyplot.imread.  Note that each image must have the same size. For these\n",
        "# images, we know which digit they represent: it is given in the 'target' of\n",
        "# the dataset.\n",
        "_, axes = plt.subplots(2, 4)\n",
        "images_and_labels = list(zip(digits.images, digits.target))\n",
        "for ax, (image, label) in zip(axes[0, :], images_and_labels[:4]):\n",
        "    ax.set_axis_off()\n",
        "    ax.imshow(image, cmap=plt.cm.gray_r, interpolation='nearest')\n",
        "    ax.set_title('Training: %i' % label)\n",
        "\n",
        "# To apply a classifier on this data, we need to flatten the image, to\n",
        "# turn the data in a (samples, feature) matrix:\n",
        "n_samples = len(digits.images)\n",
        "data = digits.images.reshape((n_samples, -1))\n",
        "\n",
        "# Create a classifier: a support vector classifier\n",
        "classifier = svm.SVC(gamma=0.001)\n",
        "\n",
        "# Split data into train and test subsets\n",
        "X_train, X_test, y_train, y_test = train_test_split(\n",
        "    data, digits.target, test_size=0.5, shuffle=False)\n",
        "\n",
        "# We learn the digits on the first half of the digits\n",
        "classifier.fit(X_train, y_train)\n",
        "\n",
        "# Now predict the value of the digit on the second half:\n",
        "predicted = classifier.predict(X_test)\n",
        "\n",
        "images_and_predictions = list(zip(digits.images[n_samples // 2:], predicted))\n",
        "for ax, (image, prediction) in zip(axes[1, :], images_and_predictions[:4]):\n",
        "    ax.set_axis_off()\n",
        "    ax.imshow(image, cmap=plt.cm.gray_r, interpolation='nearest')\n",
        "    ax.set_title('Prediction: %i' % prediction)\n",
        "\n",
        "print(\"Classification report for classifier %s:\\n%s\\n\"\n",
        "      % (classifier, metrics.classification_report(y_test, predicted)))\n",
        "disp = metrics.plot_confusion_matrix(classifier, X_test, y_test)\n",
        "disp.figure_.suptitle(\"Confusion Matrix\")\n",
        "print(\"Confusion matrix:\\n%s\" % disp.confusion_matrix)\n",
        "\n",
        "plt.show()"
      ]
    },
    {
      "cell_type": "markdown",
      "metadata": {
        "id": "Uu3Dny5zxcVy"
      },
      "source": [
        "### Scikit-image\n",
        "\n",
        "Реализовывать различные операции для работы с изображениями можно как самостоятельно, работая с массивами numpy, так и используя специализированные библиотеки, например, scikit-image (https://scikit-image.org/). Ниже приведен пример использования Canny edge detector."
      ]
    },
    {
      "cell_type": "code",
      "execution_count": null,
      "metadata": {
        "id": "5TZvy_d7xc0B"
      },
      "outputs": [],
      "source": [
        "import numpy as np\n",
        "import matplotlib.pyplot as plt\n",
        "from scipy import ndimage as ndi\n",
        "\n",
        "from skimage import feature\n",
        "\n",
        "\n",
        "# Generate noisy image of a square\n",
        "im = np.zeros((128, 128))\n",
        "im[32:-32, 32:-32] = 1\n",
        "\n",
        "im = ndi.rotate(im, 15, mode='constant')\n",
        "im = ndi.gaussian_filter(im, 4)\n",
        "im += 0.2 * np.random.random(im.shape)\n",
        "\n",
        "# Compute the Canny filter for two values of sigma\n",
        "edges1 = feature.canny(im)\n",
        "edges2 = feature.canny(im, sigma=3)\n",
        "\n",
        "# display results\n",
        "fig, (ax1, ax2, ax3) = plt.subplots(nrows=1, ncols=3, figsize=(8, 3),\n",
        "                                    sharex=True, sharey=True)\n",
        "\n",
        "ax1.imshow(im, cmap=plt.cm.gray)\n",
        "ax1.axis('off')\n",
        "ax1.set_title('noisy image', fontsize=20)\n",
        "\n",
        "ax2.imshow(edges1, cmap=plt.cm.gray)\n",
        "ax2.axis('off')\n",
        "ax2.set_title(r'Canny filter, $\\sigma=1$', fontsize=20)\n",
        "\n",
        "ax3.imshow(edges2, cmap=plt.cm.gray)\n",
        "ax3.axis('off')\n",
        "ax3.set_title(r'Canny filter, $\\sigma=3$', fontsize=20)\n",
        "\n",
        "fig.tight_layout()\n",
        "\n",
        "plt.show()"
      ]
    },
    {
      "cell_type": "markdown",
      "metadata": {
        "id": "hiEWhGUQRGoH"
      },
      "source": [
        "### Tensorflow 2\n",
        "\n",
        "Для создания и обучения нейросетевых моделей можно использовать фреймворк глубокого обучения Tensorflow 2. Ниже приведен пример простейшей нейроной сети, использующейся для классификации изображений из набора данных MNIST."
      ]
    },
    {
      "cell_type": "code",
      "execution_count": null,
      "metadata": {
        "id": "kDwLG7A1ReNy"
      },
      "outputs": [],
      "source": [
        "# Install TensorFlow\n",
        "\n",
        "import tensorflow as tf\n",
        "\n",
        "mnist = tf.keras.datasets.mnist\n",
        "\n",
        "(x_train, y_train), (x_test, y_test) = mnist.load_data()\n",
        "x_train, x_test = x_train / 255.0, x_test / 255.0\n",
        "\n",
        "model = tf.keras.models.Sequential([\n",
        "  tf.keras.layers.Flatten(input_shape=(28, 28)),\n",
        "  tf.keras.layers.Dense(128, activation='relu'),\n",
        "  tf.keras.layers.Dropout(0.2),\n",
        "  tf.keras.layers.Dense(10, activation='softmax')\n",
        "])\n",
        "\n",
        "model.compile(optimizer='adam',\n",
        "              loss='sparse_categorical_crossentropy',\n",
        "              metrics=['accuracy'])\n",
        "\n",
        "model.fit(x_train, y_train, epochs=5)\n",
        "\n",
        "model.evaluate(x_test,  y_test, verbose=2)"
      ]
    },
    {
      "cell_type": "markdown",
      "metadata": {
        "id": "IbvktmLwRu8g"
      },
      "source": [
        "<font color=\"red\">\n",
        "Для эффективной работы с моделями глубокого обучения убедитесь в том, что в текущей среде Google Colab используется аппаратный ускоритель GPU или TPU. Для смены среды выберите \"среда выполнения\" -> \"сменить среду выполнения\".\n",
        "</font>"
      ]
    },
    {
      "cell_type": "markdown",
      "metadata": {
        "id": "nJVNOOU9Sjyf"
      },
      "source": [
        "Большое количество туториалов и примеров с кодом на Tensorflow 2 можно найти на официальном сайте https://www.tensorflow.org/tutorials?hl=ru."
      ]
    },
    {
      "cell_type": "markdown",
      "metadata": {
        "id": "GVPs3pYpS0U1"
      },
      "source": [
        "Также, Вам может понадобиться написать собственный генератор данных для Tensorflow 2. Скорее всего он будет достаточно простым, и его легко можно будет реализовать, используя официальную документацию TensorFlow 2. Но, на всякий случай (если не удлось сразу разобраться или хочется вникнуть в тему более глубоко), можете посмотреть следующий отличный туториал: https://stanford.edu/~shervine/blog/keras-how-to-generate-data-on-the-fly."
      ]
    },
    {
      "cell_type": "markdown",
      "metadata": {
        "id": "lwI-T0IXyN84"
      },
      "source": [
        "### Numba\n",
        "\n",
        "В некоторых ситуациях, при ручных реализациях графовых алгоритмов, выполнение многократных вложенных циклов for в python можно существенно ускорить, используя JIT-компилятор Numba (https://numba.pydata.org/).\n",
        "Примеры использования Numba в Google Colab можно найти тут:\n",
        "1. https://colab.research.google.com/github/cbernet/maldives/blob/master/numba/numba_cuda.ipynb\n",
        "2. https://colab.research.google.com/github/evaneschneider/parallel-programming/blob/master/COMPASS_gpu_intro.ipynb\n",
        "\n",
        "> Пожалуйста, если Вы решили использовать Numba для решения этого практического задания, еще раз подумайте, нужно ли это Вам, и есть ли возможность реализовать требуемую функциональность иным способом. Используйте Numba только при реальной необходимости.\n",
        "\n"
      ]
    },
    {
      "cell_type": "markdown",
      "metadata": {
        "id": "BxAJ00A76LcF"
      },
      "source": [
        "### Работа с zip архивами в Google Drive\n",
        "\n",
        "Запаковка и распаковка zip архивов может пригодиться при сохранении и загрузки Вашей модели. Ниже приведен фрагмент кода, иллюстрирующий помещение нескольких файлов в zip архив с последующим чтением файлов из него. Все действия с директориями, файлами и архивами должны осущетвляться с примонтированным Google Drive.\n"
      ]
    },
    {
      "cell_type": "markdown",
      "metadata": {
        "id": "ZJiKndOpPu_e"
      },
      "source": [
        "Создадим 2 изображения, поместим их в директорию tmp внутри PROJECT_DIR, запакуем директорию tmp в архив tmp.zip."
      ]
    },
    {
      "cell_type": "code",
      "execution_count": null,
      "metadata": {
        "id": "CRwgPtv-6nMP",
        "colab": {
          "base_uri": "https://localhost:8080/",
          "height": 341
        },
        "outputId": "34cedb54-8117-4dfe-eaf9-4dda20a02dce"
      },
      "outputs": [
        {
          "output_type": "error",
          "ename": "FileNotFoundError",
          "evalue": "[Errno 2] No such file or directory: '/content/drive/MyDrive/dev/prak_nn_1/tmp'",
          "traceback": [
            "\u001b[0;31m---------------------------------------------------------------------------\u001b[0m",
            "\u001b[0;31mFileNotFoundError\u001b[0m                         Traceback (most recent call last)",
            "\u001b[0;32m<ipython-input-16-e0c49c38d470>\u001b[0m in \u001b[0;36m<cell line: 10>\u001b[0;34m()\u001b[0m\n\u001b[1;32m      9\u001b[0m \u001b[0;34m\u001b[0m\u001b[0m\n\u001b[1;32m     10\u001b[0m \u001b[0;32mif\u001b[0m \u001b[0;32mnot\u001b[0m \u001b[0;34m(\u001b[0m\u001b[0mPath\u001b[0m\u001b[0;34m(\u001b[0m\u001b[0mp\u001b[0m\u001b[0;34m)\u001b[0m \u001b[0;34m/\u001b[0m \u001b[0;34m'tmp'\u001b[0m\u001b[0;34m)\u001b[0m\u001b[0;34m.\u001b[0m\u001b[0mexists\u001b[0m\u001b[0;34m(\u001b[0m\u001b[0;34m)\u001b[0m\u001b[0;34m:\u001b[0m\u001b[0;34m\u001b[0m\u001b[0;34m\u001b[0m\u001b[0m\n\u001b[0;32m---> 11\u001b[0;31m     \u001b[0;34m(\u001b[0m\u001b[0mPath\u001b[0m\u001b[0;34m(\u001b[0m\u001b[0mp\u001b[0m\u001b[0;34m)\u001b[0m \u001b[0;34m/\u001b[0m \u001b[0;34m'tmp'\u001b[0m\u001b[0;34m)\u001b[0m\u001b[0;34m.\u001b[0m\u001b[0mmkdir\u001b[0m\u001b[0;34m(\u001b[0m\u001b[0;34m)\u001b[0m\u001b[0;34m\u001b[0m\u001b[0;34m\u001b[0m\u001b[0m\n\u001b[0m\u001b[1;32m     12\u001b[0m \u001b[0;34m\u001b[0m\u001b[0m\n\u001b[1;32m     13\u001b[0m \u001b[0mimg1\u001b[0m\u001b[0;34m.\u001b[0m\u001b[0msave\u001b[0m\u001b[0;34m(\u001b[0m\u001b[0mstr\u001b[0m\u001b[0;34m(\u001b[0m\u001b[0mPath\u001b[0m\u001b[0;34m(\u001b[0m\u001b[0mp\u001b[0m\u001b[0;34m)\u001b[0m \u001b[0;34m/\u001b[0m \u001b[0;34m'tmp'\u001b[0m \u001b[0;34m/\u001b[0m \u001b[0;34m'img1.png'\u001b[0m\u001b[0;34m)\u001b[0m\u001b[0;34m)\u001b[0m\u001b[0;34m\u001b[0m\u001b[0;34m\u001b[0m\u001b[0m\n",
            "\u001b[0;32m/usr/lib/python3.10/pathlib.py\u001b[0m in \u001b[0;36mmkdir\u001b[0;34m(self, mode, parents, exist_ok)\u001b[0m\n\u001b[1;32m   1173\u001b[0m         \"\"\"\n\u001b[1;32m   1174\u001b[0m         \u001b[0;32mtry\u001b[0m\u001b[0;34m:\u001b[0m\u001b[0;34m\u001b[0m\u001b[0;34m\u001b[0m\u001b[0m\n\u001b[0;32m-> 1175\u001b[0;31m             \u001b[0mself\u001b[0m\u001b[0;34m.\u001b[0m\u001b[0m_accessor\u001b[0m\u001b[0;34m.\u001b[0m\u001b[0mmkdir\u001b[0m\u001b[0;34m(\u001b[0m\u001b[0mself\u001b[0m\u001b[0;34m,\u001b[0m \u001b[0mmode\u001b[0m\u001b[0;34m)\u001b[0m\u001b[0;34m\u001b[0m\u001b[0;34m\u001b[0m\u001b[0m\n\u001b[0m\u001b[1;32m   1176\u001b[0m         \u001b[0;32mexcept\u001b[0m \u001b[0mFileNotFoundError\u001b[0m\u001b[0;34m:\u001b[0m\u001b[0;34m\u001b[0m\u001b[0;34m\u001b[0m\u001b[0m\n\u001b[1;32m   1177\u001b[0m             \u001b[0;32mif\u001b[0m \u001b[0;32mnot\u001b[0m \u001b[0mparents\u001b[0m \u001b[0;32mor\u001b[0m \u001b[0mself\u001b[0m\u001b[0;34m.\u001b[0m\u001b[0mparent\u001b[0m \u001b[0;34m==\u001b[0m \u001b[0mself\u001b[0m\u001b[0;34m:\u001b[0m\u001b[0;34m\u001b[0m\u001b[0;34m\u001b[0m\u001b[0m\n",
            "\u001b[0;31mFileNotFoundError\u001b[0m: [Errno 2] No such file or directory: '/content/drive/MyDrive/dev/prak_nn_1/tmp'"
          ]
        }
      ],
      "source": [
        "PROJECT_DIR = \"/dev/prak_nn_1/\"\n",
        "arr1 = np.random.rand(100, 100, 3) * 255\n",
        "arr2 = np.random.rand(100, 100, 3) * 255\n",
        "\n",
        "img1 = Image.fromarray(arr1.astype('uint8'))\n",
        "img2 = Image.fromarray(arr2.astype('uint8'))\n",
        "\n",
        "p = \"/content/drive/MyDrive/\" + PROJECT_DIR\n",
        "\n",
        "if not (Path(p) / 'tmp').exists():\n",
        "    (Path(p) / 'tmp').mkdir()\n",
        "\n",
        "img1.save(str(Path(p) / 'tmp' / 'img1.png'))\n",
        "img2.save(str(Path(p) / 'tmp' / 'img2.png'))\n",
        "\n",
        "%cd $p\n",
        "!zip -r \"tmp.zip\" \"tmp\""
      ]
    },
    {
      "cell_type": "markdown",
      "metadata": {
        "id": "MykrBSWNQQlq"
      },
      "source": [
        "Распакуем архив tmp.zip в директорию tmp2 в PROJECT_DIR. Теперь внутри директории tmp2 содержится директория tmp, внутри которой находятся 2 изображения."
      ]
    },
    {
      "cell_type": "code",
      "execution_count": null,
      "metadata": {
        "id": "CwSWrYIWMAus",
        "colab": {
          "base_uri": "https://localhost:8080/"
        },
        "outputId": "39522741-a5f0-4c0e-9b9e-02137a49aac9"
      },
      "outputs": [
        {
          "output_type": "stream",
          "name": "stdout",
          "text": [
            "[Errno 2] No such file or directory: '/content/drive/MyDrive//dev/prak_nn_1/'\n",
            "/content\n",
            "unzip:  cannot find or open tmp.zip, tmp.zip.zip or tmp.zip.ZIP.\n"
          ]
        }
      ],
      "source": [
        "p = \"/content/drive/MyDrive/\" + PROJECT_DIR\n",
        "%cd $p\n",
        "!unzip -uq \"tmp.zip\" -d \"tmp2\""
      ]
    },
    {
      "cell_type": "code",
      "source": [
        "from google.colab import drive\n",
        "drive.mount('/content/drive')"
      ],
      "metadata": {
        "id": "VnoKfV8fkIF9"
      },
      "execution_count": null,
      "outputs": []
    }
  ],
  "metadata": {
    "accelerator": "GPU",
    "colab": {
      "provenance": []
    },
    "gpuClass": "standard",
    "kernelspec": {
      "display_name": "Python 3.10.4 ('py310')",
      "language": "python",
      "name": "python3"
    },
    "language_info": {
      "name": "python",
      "version": "3.10.4"
    },
    "vscode": {
      "interpreter": {
        "hash": "7af69d84c46e0da4f71f361435e72c01e713b5d1fcbc89c051c042527a934273"
      }
    },
    "widgets": {
      "application/vnd.jupyter.widget-state+json": {
        "41564e70d36d4237bb25dea0959e5e82": {
          "model_module": "@jupyter-widgets/controls",
          "model_name": "HBoxModel",
          "model_module_version": "1.5.0",
          "state": {
            "_dom_classes": [],
            "_model_module": "@jupyter-widgets/controls",
            "_model_module_version": "1.5.0",
            "_model_name": "HBoxModel",
            "_view_count": null,
            "_view_module": "@jupyter-widgets/controls",
            "_view_module_version": "1.5.0",
            "_view_name": "HBoxView",
            "box_style": "",
            "children": [
              "IPY_MODEL_6275c68d5e52455b98acfb8b632b61fa",
              "IPY_MODEL_6eadfc751f1448d6861a64421b92d399",
              "IPY_MODEL_3adb9abfcbff429f8df4bb1b5ad4d6a7"
            ],
            "layout": "IPY_MODEL_cfdc2bcbe150429daa965bea09f4c988"
          }
        },
        "6275c68d5e52455b98acfb8b632b61fa": {
          "model_module": "@jupyter-widgets/controls",
          "model_name": "HTMLModel",
          "model_module_version": "1.5.0",
          "state": {
            "_dom_classes": [],
            "_model_module": "@jupyter-widgets/controls",
            "_model_module_version": "1.5.0",
            "_model_name": "HTMLModel",
            "_view_count": null,
            "_view_module": "@jupyter-widgets/controls",
            "_view_module_version": "1.5.0",
            "_view_name": "HTMLView",
            "description": "",
            "description_tooltip": null,
            "layout": "IPY_MODEL_7faeb3ddabd646118aeb19b5b92817de",
            "placeholder": "​",
            "style": "IPY_MODEL_9a49a5cc20524ea99a2725277c60fdad",
            "value": "100%"
          }
        },
        "6eadfc751f1448d6861a64421b92d399": {
          "model_module": "@jupyter-widgets/controls",
          "model_name": "FloatProgressModel",
          "model_module_version": "1.5.0",
          "state": {
            "_dom_classes": [],
            "_model_module": "@jupyter-widgets/controls",
            "_model_module_version": "1.5.0",
            "_model_name": "FloatProgressModel",
            "_view_count": null,
            "_view_module": "@jupyter-widgets/controls",
            "_view_module_version": "1.5.0",
            "_view_name": "ProgressView",
            "bar_style": "success",
            "description": "",
            "description_tooltip": null,
            "layout": "IPY_MODEL_c65faad9150c4f5c8844a90824db64a2",
            "max": 450,
            "min": 0,
            "orientation": "horizontal",
            "style": "IPY_MODEL_c798596616db4b69929128d0b87d99a1",
            "value": 450
          }
        },
        "3adb9abfcbff429f8df4bb1b5ad4d6a7": {
          "model_module": "@jupyter-widgets/controls",
          "model_name": "HTMLModel",
          "model_module_version": "1.5.0",
          "state": {
            "_dom_classes": [],
            "_model_module": "@jupyter-widgets/controls",
            "_model_module_version": "1.5.0",
            "_model_name": "HTMLModel",
            "_view_count": null,
            "_view_module": "@jupyter-widgets/controls",
            "_view_module_version": "1.5.0",
            "_view_name": "HTMLView",
            "description": "",
            "description_tooltip": null,
            "layout": "IPY_MODEL_0e06e75c74324ff18064848a2cf629cd",
            "placeholder": "​",
            "style": "IPY_MODEL_83994084defa4b2794a648edb135bda7",
            "value": " 450/450 [00:03&lt;00:00, 164.72it/s]"
          }
        },
        "cfdc2bcbe150429daa965bea09f4c988": {
          "model_module": "@jupyter-widgets/base",
          "model_name": "LayoutModel",
          "model_module_version": "1.2.0",
          "state": {
            "_model_module": "@jupyter-widgets/base",
            "_model_module_version": "1.2.0",
            "_model_name": "LayoutModel",
            "_view_count": null,
            "_view_module": "@jupyter-widgets/base",
            "_view_module_version": "1.2.0",
            "_view_name": "LayoutView",
            "align_content": null,
            "align_items": null,
            "align_self": null,
            "border": null,
            "bottom": null,
            "display": null,
            "flex": null,
            "flex_flow": null,
            "grid_area": null,
            "grid_auto_columns": null,
            "grid_auto_flow": null,
            "grid_auto_rows": null,
            "grid_column": null,
            "grid_gap": null,
            "grid_row": null,
            "grid_template_areas": null,
            "grid_template_columns": null,
            "grid_template_rows": null,
            "height": null,
            "justify_content": null,
            "justify_items": null,
            "left": null,
            "margin": null,
            "max_height": null,
            "max_width": null,
            "min_height": null,
            "min_width": null,
            "object_fit": null,
            "object_position": null,
            "order": null,
            "overflow": null,
            "overflow_x": null,
            "overflow_y": null,
            "padding": null,
            "right": null,
            "top": null,
            "visibility": null,
            "width": null
          }
        },
        "7faeb3ddabd646118aeb19b5b92817de": {
          "model_module": "@jupyter-widgets/base",
          "model_name": "LayoutModel",
          "model_module_version": "1.2.0",
          "state": {
            "_model_module": "@jupyter-widgets/base",
            "_model_module_version": "1.2.0",
            "_model_name": "LayoutModel",
            "_view_count": null,
            "_view_module": "@jupyter-widgets/base",
            "_view_module_version": "1.2.0",
            "_view_name": "LayoutView",
            "align_content": null,
            "align_items": null,
            "align_self": null,
            "border": null,
            "bottom": null,
            "display": null,
            "flex": null,
            "flex_flow": null,
            "grid_area": null,
            "grid_auto_columns": null,
            "grid_auto_flow": null,
            "grid_auto_rows": null,
            "grid_column": null,
            "grid_gap": null,
            "grid_row": null,
            "grid_template_areas": null,
            "grid_template_columns": null,
            "grid_template_rows": null,
            "height": null,
            "justify_content": null,
            "justify_items": null,
            "left": null,
            "margin": null,
            "max_height": null,
            "max_width": null,
            "min_height": null,
            "min_width": null,
            "object_fit": null,
            "object_position": null,
            "order": null,
            "overflow": null,
            "overflow_x": null,
            "overflow_y": null,
            "padding": null,
            "right": null,
            "top": null,
            "visibility": null,
            "width": null
          }
        },
        "9a49a5cc20524ea99a2725277c60fdad": {
          "model_module": "@jupyter-widgets/controls",
          "model_name": "DescriptionStyleModel",
          "model_module_version": "1.5.0",
          "state": {
            "_model_module": "@jupyter-widgets/controls",
            "_model_module_version": "1.5.0",
            "_model_name": "DescriptionStyleModel",
            "_view_count": null,
            "_view_module": "@jupyter-widgets/base",
            "_view_module_version": "1.2.0",
            "_view_name": "StyleView",
            "description_width": ""
          }
        },
        "c65faad9150c4f5c8844a90824db64a2": {
          "model_module": "@jupyter-widgets/base",
          "model_name": "LayoutModel",
          "model_module_version": "1.2.0",
          "state": {
            "_model_module": "@jupyter-widgets/base",
            "_model_module_version": "1.2.0",
            "_model_name": "LayoutModel",
            "_view_count": null,
            "_view_module": "@jupyter-widgets/base",
            "_view_module_version": "1.2.0",
            "_view_name": "LayoutView",
            "align_content": null,
            "align_items": null,
            "align_self": null,
            "border": null,
            "bottom": null,
            "display": null,
            "flex": null,
            "flex_flow": null,
            "grid_area": null,
            "grid_auto_columns": null,
            "grid_auto_flow": null,
            "grid_auto_rows": null,
            "grid_column": null,
            "grid_gap": null,
            "grid_row": null,
            "grid_template_areas": null,
            "grid_template_columns": null,
            "grid_template_rows": null,
            "height": null,
            "justify_content": null,
            "justify_items": null,
            "left": null,
            "margin": null,
            "max_height": null,
            "max_width": null,
            "min_height": null,
            "min_width": null,
            "object_fit": null,
            "object_position": null,
            "order": null,
            "overflow": null,
            "overflow_x": null,
            "overflow_y": null,
            "padding": null,
            "right": null,
            "top": null,
            "visibility": null,
            "width": null
          }
        },
        "c798596616db4b69929128d0b87d99a1": {
          "model_module": "@jupyter-widgets/controls",
          "model_name": "ProgressStyleModel",
          "model_module_version": "1.5.0",
          "state": {
            "_model_module": "@jupyter-widgets/controls",
            "_model_module_version": "1.5.0",
            "_model_name": "ProgressStyleModel",
            "_view_count": null,
            "_view_module": "@jupyter-widgets/base",
            "_view_module_version": "1.2.0",
            "_view_name": "StyleView",
            "bar_color": null,
            "description_width": ""
          }
        },
        "0e06e75c74324ff18064848a2cf629cd": {
          "model_module": "@jupyter-widgets/base",
          "model_name": "LayoutModel",
          "model_module_version": "1.2.0",
          "state": {
            "_model_module": "@jupyter-widgets/base",
            "_model_module_version": "1.2.0",
            "_model_name": "LayoutModel",
            "_view_count": null,
            "_view_module": "@jupyter-widgets/base",
            "_view_module_version": "1.2.0",
            "_view_name": "LayoutView",
            "align_content": null,
            "align_items": null,
            "align_self": null,
            "border": null,
            "bottom": null,
            "display": null,
            "flex": null,
            "flex_flow": null,
            "grid_area": null,
            "grid_auto_columns": null,
            "grid_auto_flow": null,
            "grid_auto_rows": null,
            "grid_column": null,
            "grid_gap": null,
            "grid_row": null,
            "grid_template_areas": null,
            "grid_template_columns": null,
            "grid_template_rows": null,
            "height": null,
            "justify_content": null,
            "justify_items": null,
            "left": null,
            "margin": null,
            "max_height": null,
            "max_width": null,
            "min_height": null,
            "min_width": null,
            "object_fit": null,
            "object_position": null,
            "order": null,
            "overflow": null,
            "overflow_x": null,
            "overflow_y": null,
            "padding": null,
            "right": null,
            "top": null,
            "visibility": null,
            "width": null
          }
        },
        "83994084defa4b2794a648edb135bda7": {
          "model_module": "@jupyter-widgets/controls",
          "model_name": "DescriptionStyleModel",
          "model_module_version": "1.5.0",
          "state": {
            "_model_module": "@jupyter-widgets/controls",
            "_model_module_version": "1.5.0",
            "_model_name": "DescriptionStyleModel",
            "_view_count": null,
            "_view_module": "@jupyter-widgets/base",
            "_view_module_version": "1.2.0",
            "_view_name": "StyleView",
            "description_width": ""
          }
        },
        "f0aa6369431044f393d732340019e716": {
          "model_module": "@jupyter-widgets/controls",
          "model_name": "HBoxModel",
          "model_module_version": "1.5.0",
          "state": {
            "_dom_classes": [],
            "_model_module": "@jupyter-widgets/controls",
            "_model_module_version": "1.5.0",
            "_model_name": "HBoxModel",
            "_view_count": null,
            "_view_module": "@jupyter-widgets/controls",
            "_view_module_version": "1.5.0",
            "_view_name": "HBoxView",
            "box_style": "",
            "children": [
              "IPY_MODEL_fda5150a23f143f280742d0d24790331",
              "IPY_MODEL_be1bedbea00b49a0a9f552f076a4135b",
              "IPY_MODEL_74fad9c5c35f48ddaa545ef5b1293a26"
            ],
            "layout": "IPY_MODEL_206a51c17de6425f80ef9d8fcee05afd"
          }
        },
        "fda5150a23f143f280742d0d24790331": {
          "model_module": "@jupyter-widgets/controls",
          "model_name": "HTMLModel",
          "model_module_version": "1.5.0",
          "state": {
            "_dom_classes": [],
            "_model_module": "@jupyter-widgets/controls",
            "_model_module_version": "1.5.0",
            "_model_name": "HTMLModel",
            "_view_count": null,
            "_view_module": "@jupyter-widgets/controls",
            "_view_module_version": "1.5.0",
            "_view_name": "HTMLView",
            "description": "",
            "description_tooltip": null,
            "layout": "IPY_MODEL_0f025d8ece0742fdb002579882100676",
            "placeholder": "​",
            "style": "IPY_MODEL_f5c36d0e88074cc290132fd8d75ebe1e",
            "value": "100%"
          }
        },
        "be1bedbea00b49a0a9f552f076a4135b": {
          "model_module": "@jupyter-widgets/controls",
          "model_name": "FloatProgressModel",
          "model_module_version": "1.5.0",
          "state": {
            "_dom_classes": [],
            "_model_module": "@jupyter-widgets/controls",
            "_model_module_version": "1.5.0",
            "_model_name": "FloatProgressModel",
            "_view_count": null,
            "_view_module": "@jupyter-widgets/controls",
            "_view_module_version": "1.5.0",
            "_view_name": "ProgressView",
            "bar_style": "success",
            "description": "",
            "description_tooltip": null,
            "layout": "IPY_MODEL_afa310799969447ba902f52557e7a40f",
            "max": 4500,
            "min": 0,
            "orientation": "horizontal",
            "style": "IPY_MODEL_05d255d8a30c42fb954fd02b03aae2c2",
            "value": 4500
          }
        },
        "74fad9c5c35f48ddaa545ef5b1293a26": {
          "model_module": "@jupyter-widgets/controls",
          "model_name": "HTMLModel",
          "model_module_version": "1.5.0",
          "state": {
            "_dom_classes": [],
            "_model_module": "@jupyter-widgets/controls",
            "_model_module_version": "1.5.0",
            "_model_name": "HTMLModel",
            "_view_count": null,
            "_view_module": "@jupyter-widgets/controls",
            "_view_module_version": "1.5.0",
            "_view_name": "HTMLView",
            "description": "",
            "description_tooltip": null,
            "layout": "IPY_MODEL_1697edec1c514a4f86e09cd792954009",
            "placeholder": "​",
            "style": "IPY_MODEL_ca847bb1595b4538b4240d2e39d04c8d",
            "value": " 4500/4500 [00:24&lt;00:00, 210.81it/s]"
          }
        },
        "206a51c17de6425f80ef9d8fcee05afd": {
          "model_module": "@jupyter-widgets/base",
          "model_name": "LayoutModel",
          "model_module_version": "1.2.0",
          "state": {
            "_model_module": "@jupyter-widgets/base",
            "_model_module_version": "1.2.0",
            "_model_name": "LayoutModel",
            "_view_count": null,
            "_view_module": "@jupyter-widgets/base",
            "_view_module_version": "1.2.0",
            "_view_name": "LayoutView",
            "align_content": null,
            "align_items": null,
            "align_self": null,
            "border": null,
            "bottom": null,
            "display": null,
            "flex": null,
            "flex_flow": null,
            "grid_area": null,
            "grid_auto_columns": null,
            "grid_auto_flow": null,
            "grid_auto_rows": null,
            "grid_column": null,
            "grid_gap": null,
            "grid_row": null,
            "grid_template_areas": null,
            "grid_template_columns": null,
            "grid_template_rows": null,
            "height": null,
            "justify_content": null,
            "justify_items": null,
            "left": null,
            "margin": null,
            "max_height": null,
            "max_width": null,
            "min_height": null,
            "min_width": null,
            "object_fit": null,
            "object_position": null,
            "order": null,
            "overflow": null,
            "overflow_x": null,
            "overflow_y": null,
            "padding": null,
            "right": null,
            "top": null,
            "visibility": null,
            "width": null
          }
        },
        "0f025d8ece0742fdb002579882100676": {
          "model_module": "@jupyter-widgets/base",
          "model_name": "LayoutModel",
          "model_module_version": "1.2.0",
          "state": {
            "_model_module": "@jupyter-widgets/base",
            "_model_module_version": "1.2.0",
            "_model_name": "LayoutModel",
            "_view_count": null,
            "_view_module": "@jupyter-widgets/base",
            "_view_module_version": "1.2.0",
            "_view_name": "LayoutView",
            "align_content": null,
            "align_items": null,
            "align_self": null,
            "border": null,
            "bottom": null,
            "display": null,
            "flex": null,
            "flex_flow": null,
            "grid_area": null,
            "grid_auto_columns": null,
            "grid_auto_flow": null,
            "grid_auto_rows": null,
            "grid_column": null,
            "grid_gap": null,
            "grid_row": null,
            "grid_template_areas": null,
            "grid_template_columns": null,
            "grid_template_rows": null,
            "height": null,
            "justify_content": null,
            "justify_items": null,
            "left": null,
            "margin": null,
            "max_height": null,
            "max_width": null,
            "min_height": null,
            "min_width": null,
            "object_fit": null,
            "object_position": null,
            "order": null,
            "overflow": null,
            "overflow_x": null,
            "overflow_y": null,
            "padding": null,
            "right": null,
            "top": null,
            "visibility": null,
            "width": null
          }
        },
        "f5c36d0e88074cc290132fd8d75ebe1e": {
          "model_module": "@jupyter-widgets/controls",
          "model_name": "DescriptionStyleModel",
          "model_module_version": "1.5.0",
          "state": {
            "_model_module": "@jupyter-widgets/controls",
            "_model_module_version": "1.5.0",
            "_model_name": "DescriptionStyleModel",
            "_view_count": null,
            "_view_module": "@jupyter-widgets/base",
            "_view_module_version": "1.2.0",
            "_view_name": "StyleView",
            "description_width": ""
          }
        },
        "afa310799969447ba902f52557e7a40f": {
          "model_module": "@jupyter-widgets/base",
          "model_name": "LayoutModel",
          "model_module_version": "1.2.0",
          "state": {
            "_model_module": "@jupyter-widgets/base",
            "_model_module_version": "1.2.0",
            "_model_name": "LayoutModel",
            "_view_count": null,
            "_view_module": "@jupyter-widgets/base",
            "_view_module_version": "1.2.0",
            "_view_name": "LayoutView",
            "align_content": null,
            "align_items": null,
            "align_self": null,
            "border": null,
            "bottom": null,
            "display": null,
            "flex": null,
            "flex_flow": null,
            "grid_area": null,
            "grid_auto_columns": null,
            "grid_auto_flow": null,
            "grid_auto_rows": null,
            "grid_column": null,
            "grid_gap": null,
            "grid_row": null,
            "grid_template_areas": null,
            "grid_template_columns": null,
            "grid_template_rows": null,
            "height": null,
            "justify_content": null,
            "justify_items": null,
            "left": null,
            "margin": null,
            "max_height": null,
            "max_width": null,
            "min_height": null,
            "min_width": null,
            "object_fit": null,
            "object_position": null,
            "order": null,
            "overflow": null,
            "overflow_x": null,
            "overflow_y": null,
            "padding": null,
            "right": null,
            "top": null,
            "visibility": null,
            "width": null
          }
        },
        "05d255d8a30c42fb954fd02b03aae2c2": {
          "model_module": "@jupyter-widgets/controls",
          "model_name": "ProgressStyleModel",
          "model_module_version": "1.5.0",
          "state": {
            "_model_module": "@jupyter-widgets/controls",
            "_model_module_version": "1.5.0",
            "_model_name": "ProgressStyleModel",
            "_view_count": null,
            "_view_module": "@jupyter-widgets/base",
            "_view_module_version": "1.2.0",
            "_view_name": "StyleView",
            "bar_color": null,
            "description_width": ""
          }
        },
        "1697edec1c514a4f86e09cd792954009": {
          "model_module": "@jupyter-widgets/base",
          "model_name": "LayoutModel",
          "model_module_version": "1.2.0",
          "state": {
            "_model_module": "@jupyter-widgets/base",
            "_model_module_version": "1.2.0",
            "_model_name": "LayoutModel",
            "_view_count": null,
            "_view_module": "@jupyter-widgets/base",
            "_view_module_version": "1.2.0",
            "_view_name": "LayoutView",
            "align_content": null,
            "align_items": null,
            "align_self": null,
            "border": null,
            "bottom": null,
            "display": null,
            "flex": null,
            "flex_flow": null,
            "grid_area": null,
            "grid_auto_columns": null,
            "grid_auto_flow": null,
            "grid_auto_rows": null,
            "grid_column": null,
            "grid_gap": null,
            "grid_row": null,
            "grid_template_areas": null,
            "grid_template_columns": null,
            "grid_template_rows": null,
            "height": null,
            "justify_content": null,
            "justify_items": null,
            "left": null,
            "margin": null,
            "max_height": null,
            "max_width": null,
            "min_height": null,
            "min_width": null,
            "object_fit": null,
            "object_position": null,
            "order": null,
            "overflow": null,
            "overflow_x": null,
            "overflow_y": null,
            "padding": null,
            "right": null,
            "top": null,
            "visibility": null,
            "width": null
          }
        },
        "ca847bb1595b4538b4240d2e39d04c8d": {
          "model_module": "@jupyter-widgets/controls",
          "model_name": "DescriptionStyleModel",
          "model_module_version": "1.5.0",
          "state": {
            "_model_module": "@jupyter-widgets/controls",
            "_model_module_version": "1.5.0",
            "_model_name": "DescriptionStyleModel",
            "_view_count": null,
            "_view_module": "@jupyter-widgets/base",
            "_view_module_version": "1.2.0",
            "_view_name": "StyleView",
            "description_width": ""
          }
        },
        "936545840aff43a5bb13cfba2d8078b3": {
          "model_module": "@jupyter-widgets/controls",
          "model_name": "HBoxModel",
          "model_module_version": "1.5.0",
          "state": {
            "_dom_classes": [],
            "_model_module": "@jupyter-widgets/controls",
            "_model_module_version": "1.5.0",
            "_model_name": "HBoxModel",
            "_view_count": null,
            "_view_module": "@jupyter-widgets/controls",
            "_view_module_version": "1.5.0",
            "_view_name": "HBoxView",
            "box_style": "",
            "children": [
              "IPY_MODEL_90de54a87d1341d983b62fdfa299296a",
              "IPY_MODEL_bb49a6c279cd4075abac5e78491e7be2",
              "IPY_MODEL_227427508979465f8e718286cfbf9a2d"
            ],
            "layout": "IPY_MODEL_9d1c2b2ad7df4c158e7e8924e70a0104"
          }
        },
        "90de54a87d1341d983b62fdfa299296a": {
          "model_module": "@jupyter-widgets/controls",
          "model_name": "HTMLModel",
          "model_module_version": "1.5.0",
          "state": {
            "_dom_classes": [],
            "_model_module": "@jupyter-widgets/controls",
            "_model_module_version": "1.5.0",
            "_model_name": "HTMLModel",
            "_view_count": null,
            "_view_module": "@jupyter-widgets/controls",
            "_view_module_version": "1.5.0",
            "_view_name": "HTMLView",
            "description": "",
            "description_tooltip": null,
            "layout": "IPY_MODEL_5951cbfb3bbe4f19a730739e359b7625",
            "placeholder": "​",
            "style": "IPY_MODEL_d089565a6f49435b84fa63670aac5ae9",
            "value": "100%"
          }
        },
        "bb49a6c279cd4075abac5e78491e7be2": {
          "model_module": "@jupyter-widgets/controls",
          "model_name": "FloatProgressModel",
          "model_module_version": "1.5.0",
          "state": {
            "_dom_classes": [],
            "_model_module": "@jupyter-widgets/controls",
            "_model_module_version": "1.5.0",
            "_model_name": "FloatProgressModel",
            "_view_count": null,
            "_view_module": "@jupyter-widgets/controls",
            "_view_module_version": "1.5.0",
            "_view_name": "ProgressView",
            "bar_style": "success",
            "description": "",
            "description_tooltip": null,
            "layout": "IPY_MODEL_ce274a5237504bb69d41edb4cff5d266",
            "max": 90,
            "min": 0,
            "orientation": "horizontal",
            "style": "IPY_MODEL_ea536a2ea99948bf8bb6044613a7124c",
            "value": 90
          }
        },
        "227427508979465f8e718286cfbf9a2d": {
          "model_module": "@jupyter-widgets/controls",
          "model_name": "HTMLModel",
          "model_module_version": "1.5.0",
          "state": {
            "_dom_classes": [],
            "_model_module": "@jupyter-widgets/controls",
            "_model_module_version": "1.5.0",
            "_model_name": "HTMLModel",
            "_view_count": null,
            "_view_module": "@jupyter-widgets/controls",
            "_view_module_version": "1.5.0",
            "_view_name": "HTMLView",
            "description": "",
            "description_tooltip": null,
            "layout": "IPY_MODEL_4324c4a2cac64bba82a5ec7183dd9810",
            "placeholder": "​",
            "style": "IPY_MODEL_d619339fde504eb69d3663b3c541149f",
            "value": " 90/90 [00:00&lt;00:00, 138.71it/s]"
          }
        },
        "9d1c2b2ad7df4c158e7e8924e70a0104": {
          "model_module": "@jupyter-widgets/base",
          "model_name": "LayoutModel",
          "model_module_version": "1.2.0",
          "state": {
            "_model_module": "@jupyter-widgets/base",
            "_model_module_version": "1.2.0",
            "_model_name": "LayoutModel",
            "_view_count": null,
            "_view_module": "@jupyter-widgets/base",
            "_view_module_version": "1.2.0",
            "_view_name": "LayoutView",
            "align_content": null,
            "align_items": null,
            "align_self": null,
            "border": null,
            "bottom": null,
            "display": null,
            "flex": null,
            "flex_flow": null,
            "grid_area": null,
            "grid_auto_columns": null,
            "grid_auto_flow": null,
            "grid_auto_rows": null,
            "grid_column": null,
            "grid_gap": null,
            "grid_row": null,
            "grid_template_areas": null,
            "grid_template_columns": null,
            "grid_template_rows": null,
            "height": null,
            "justify_content": null,
            "justify_items": null,
            "left": null,
            "margin": null,
            "max_height": null,
            "max_width": null,
            "min_height": null,
            "min_width": null,
            "object_fit": null,
            "object_position": null,
            "order": null,
            "overflow": null,
            "overflow_x": null,
            "overflow_y": null,
            "padding": null,
            "right": null,
            "top": null,
            "visibility": null,
            "width": null
          }
        },
        "5951cbfb3bbe4f19a730739e359b7625": {
          "model_module": "@jupyter-widgets/base",
          "model_name": "LayoutModel",
          "model_module_version": "1.2.0",
          "state": {
            "_model_module": "@jupyter-widgets/base",
            "_model_module_version": "1.2.0",
            "_model_name": "LayoutModel",
            "_view_count": null,
            "_view_module": "@jupyter-widgets/base",
            "_view_module_version": "1.2.0",
            "_view_name": "LayoutView",
            "align_content": null,
            "align_items": null,
            "align_self": null,
            "border": null,
            "bottom": null,
            "display": null,
            "flex": null,
            "flex_flow": null,
            "grid_area": null,
            "grid_auto_columns": null,
            "grid_auto_flow": null,
            "grid_auto_rows": null,
            "grid_column": null,
            "grid_gap": null,
            "grid_row": null,
            "grid_template_areas": null,
            "grid_template_columns": null,
            "grid_template_rows": null,
            "height": null,
            "justify_content": null,
            "justify_items": null,
            "left": null,
            "margin": null,
            "max_height": null,
            "max_width": null,
            "min_height": null,
            "min_width": null,
            "object_fit": null,
            "object_position": null,
            "order": null,
            "overflow": null,
            "overflow_x": null,
            "overflow_y": null,
            "padding": null,
            "right": null,
            "top": null,
            "visibility": null,
            "width": null
          }
        },
        "d089565a6f49435b84fa63670aac5ae9": {
          "model_module": "@jupyter-widgets/controls",
          "model_name": "DescriptionStyleModel",
          "model_module_version": "1.5.0",
          "state": {
            "_model_module": "@jupyter-widgets/controls",
            "_model_module_version": "1.5.0",
            "_model_name": "DescriptionStyleModel",
            "_view_count": null,
            "_view_module": "@jupyter-widgets/base",
            "_view_module_version": "1.2.0",
            "_view_name": "StyleView",
            "description_width": ""
          }
        },
        "ce274a5237504bb69d41edb4cff5d266": {
          "model_module": "@jupyter-widgets/base",
          "model_name": "LayoutModel",
          "model_module_version": "1.2.0",
          "state": {
            "_model_module": "@jupyter-widgets/base",
            "_model_module_version": "1.2.0",
            "_model_name": "LayoutModel",
            "_view_count": null,
            "_view_module": "@jupyter-widgets/base",
            "_view_module_version": "1.2.0",
            "_view_name": "LayoutView",
            "align_content": null,
            "align_items": null,
            "align_self": null,
            "border": null,
            "bottom": null,
            "display": null,
            "flex": null,
            "flex_flow": null,
            "grid_area": null,
            "grid_auto_columns": null,
            "grid_auto_flow": null,
            "grid_auto_rows": null,
            "grid_column": null,
            "grid_gap": null,
            "grid_row": null,
            "grid_template_areas": null,
            "grid_template_columns": null,
            "grid_template_rows": null,
            "height": null,
            "justify_content": null,
            "justify_items": null,
            "left": null,
            "margin": null,
            "max_height": null,
            "max_width": null,
            "min_height": null,
            "min_width": null,
            "object_fit": null,
            "object_position": null,
            "order": null,
            "overflow": null,
            "overflow_x": null,
            "overflow_y": null,
            "padding": null,
            "right": null,
            "top": null,
            "visibility": null,
            "width": null
          }
        },
        "ea536a2ea99948bf8bb6044613a7124c": {
          "model_module": "@jupyter-widgets/controls",
          "model_name": "ProgressStyleModel",
          "model_module_version": "1.5.0",
          "state": {
            "_model_module": "@jupyter-widgets/controls",
            "_model_module_version": "1.5.0",
            "_model_name": "ProgressStyleModel",
            "_view_count": null,
            "_view_module": "@jupyter-widgets/base",
            "_view_module_version": "1.2.0",
            "_view_name": "StyleView",
            "bar_color": null,
            "description_width": ""
          }
        },
        "4324c4a2cac64bba82a5ec7183dd9810": {
          "model_module": "@jupyter-widgets/base",
          "model_name": "LayoutModel",
          "model_module_version": "1.2.0",
          "state": {
            "_model_module": "@jupyter-widgets/base",
            "_model_module_version": "1.2.0",
            "_model_name": "LayoutModel",
            "_view_count": null,
            "_view_module": "@jupyter-widgets/base",
            "_view_module_version": "1.2.0",
            "_view_name": "LayoutView",
            "align_content": null,
            "align_items": null,
            "align_self": null,
            "border": null,
            "bottom": null,
            "display": null,
            "flex": null,
            "flex_flow": null,
            "grid_area": null,
            "grid_auto_columns": null,
            "grid_auto_flow": null,
            "grid_auto_rows": null,
            "grid_column": null,
            "grid_gap": null,
            "grid_row": null,
            "grid_template_areas": null,
            "grid_template_columns": null,
            "grid_template_rows": null,
            "height": null,
            "justify_content": null,
            "justify_items": null,
            "left": null,
            "margin": null,
            "max_height": null,
            "max_width": null,
            "min_height": null,
            "min_width": null,
            "object_fit": null,
            "object_position": null,
            "order": null,
            "overflow": null,
            "overflow_x": null,
            "overflow_y": null,
            "padding": null,
            "right": null,
            "top": null,
            "visibility": null,
            "width": null
          }
        },
        "d619339fde504eb69d3663b3c541149f": {
          "model_module": "@jupyter-widgets/controls",
          "model_name": "DescriptionStyleModel",
          "model_module_version": "1.5.0",
          "state": {
            "_model_module": "@jupyter-widgets/controls",
            "_model_module_version": "1.5.0",
            "_model_name": "DescriptionStyleModel",
            "_view_count": null,
            "_view_module": "@jupyter-widgets/base",
            "_view_module_version": "1.2.0",
            "_view_name": "StyleView",
            "description_width": ""
          }
        }
      }
    }
  },
  "nbformat": 4,
  "nbformat_minor": 0
}