{
  "cells": [
    {
      "cell_type": "markdown",
      "metadata": {
        "id": "atqZGIIyNSBb"
      },
      "source": [
        "#**Практическое задание №1**"
      ]
    },
    {
      "cell_type": "markdown",
      "metadata": {
        "id": "ga5g3lUhNNBy"
      },
      "source": [
        "Установка необходимых пакетов:"
      ]
    },
    {
      "cell_type": "code",
      "execution_count": 8,
      "metadata": {
        "id": "TGBk36LpukIu",
        "colab": {
          "base_uri": "https://localhost:8080/"
        },
        "outputId": "888fb8c0-3685-49e3-82d8-934e1aad5ba1"
      },
      "outputs": [
        {
          "output_type": "stream",
          "name": "stdout",
          "text": [
            "Requirement already satisfied: gdown in /usr/local/lib/python3.10/dist-packages (5.2.0)\n",
            "Requirement already satisfied: beautifulsoup4 in /usr/local/lib/python3.10/dist-packages (from gdown) (4.12.3)\n",
            "Requirement already satisfied: filelock in /usr/local/lib/python3.10/dist-packages (from gdown) (3.16.1)\n",
            "Requirement already satisfied: requests[socks] in /usr/local/lib/python3.10/dist-packages (from gdown) (2.32.3)\n",
            "Requirement already satisfied: tqdm in /usr/local/lib/python3.10/dist-packages (from gdown) (4.66.6)\n",
            "Requirement already satisfied: soupsieve>1.2 in /usr/local/lib/python3.10/dist-packages (from beautifulsoup4->gdown) (2.6)\n",
            "Requirement already satisfied: charset-normalizer<4,>=2 in /usr/local/lib/python3.10/dist-packages (from requests[socks]->gdown) (3.4.0)\n",
            "Requirement already satisfied: idna<4,>=2.5 in /usr/local/lib/python3.10/dist-packages (from requests[socks]->gdown) (3.10)\n",
            "Requirement already satisfied: urllib3<3,>=1.21.1 in /usr/local/lib/python3.10/dist-packages (from requests[socks]->gdown) (2.2.3)\n",
            "Requirement already satisfied: certifi>=2017.4.17 in /usr/local/lib/python3.10/dist-packages (from requests[socks]->gdown) (2024.8.30)\n",
            "Requirement already satisfied: PySocks!=1.5.7,>=1.5.6 in /usr/local/lib/python3.10/dist-packages (from requests[socks]->gdown) (1.7.1)\n"
          ]
        }
      ],
      "source": [
        "!pip install -q tqdm\n",
        "!pip install --upgrade --no-cache-dir gdown"
      ]
    },
    {
      "cell_type": "markdown",
      "metadata": {
        "id": "2vQDLyHEO1Ux"
      },
      "source": [
        "Монтирование Вашего Google Drive к текущему окружению:"
      ]
    },
    {
      "cell_type": "code",
      "execution_count": 3,
      "metadata": {
        "id": "5G5KkA1Nu5M9",
        "colab": {
          "base_uri": "https://localhost:8080/"
        },
        "outputId": "132c54b4-55ad-4af4-e885-dbd01546e59a"
      },
      "outputs": [
        {
          "output_type": "stream",
          "name": "stdout",
          "text": [
            "Mounted at /content/drive\n"
          ]
        }
      ],
      "source": [
        "from google.colab import drive\n",
        "drive.mount('/content/drive', force_remount=True)"
      ]
    },
    {
      "cell_type": "markdown",
      "metadata": {
        "id": "0Num5lHV6912"
      },
      "source": [
        "Константы, которые пригодятся в коде далее, и ссылки (gdrive идентификаторы) на предоставляемые наборы данных:"
      ]
    },
    {
      "cell_type": "code",
      "execution_count": 9,
      "metadata": {
        "id": "ab2yCwDm7Fqb"
      },
      "outputs": [],
      "source": [
        "EVALUATE_ONLY = True\n",
        "TEST_ON_LARGE_DATASET = True\n",
        "TISSUE_CLASSES = ('ADI', 'BACK', 'DEB', 'LYM', 'MUC', 'MUS', 'NORM', 'STR', 'TUM')\n",
        "DATASETS_LINKS = { #собственные ссылки на наборы, т.к. советывали так сделать\n",
        "    'train': \"1T5z6OPLoYUANn-_B14PSngZFm0mIOgsU\",\n",
        "    'train_small': \"18v_U5xFYI3V9lIeewZ8WEUcX5Gwbn0hH\",\n",
        "    'train_tiny': \"1CD-hIDZ8eWjSC4lz7Z6jy61OSUczujkC\",\n",
        "    'test': \"1yrhk65_BzfPHDQpGPCZN4h8qwIeEmil2\",\n",
        "    'test_small': \"1E2oMNP7YeS0Bs-xvRugAgYdEp-TvuDaW\",\n",
        "    'test_tiny': \"1F0ve7Cl7c7Ln-7hoQLbFauaAjsVAh1g7\"\n",
        "}"
      ]
    },
    {
      "cell_type": "markdown",
      "metadata": {
        "id": "fgY-ux5qOI0k"
      },
      "source": [
        "Импорт необходимых зависимостей:"
      ]
    },
    {
      "cell_type": "code",
      "execution_count": 10,
      "metadata": {
        "id": "kLHQhqiSIyvK"
      },
      "outputs": [],
      "source": [
        "from pathlib import Path\n",
        "import numpy as np\n",
        "from typing import List\n",
        "from tqdm.notebook import tqdm\n",
        "from time import sleep\n",
        "from PIL import Image\n",
        "import IPython.display\n",
        "from sklearn.metrics import balanced_accuracy_score\n",
        "import gdown\n",
        "import time\n",
        "import torch\n",
        "from torch import nn\n",
        "from torch.nn import functional as F\n",
        "import torchvision\n",
        "import torchvision.models as models\n",
        "from torchvision.models import ResNet18_Weights\n",
        "from torchvision.transforms import v2\n",
        "import matplotlib as mpl\n",
        "import matplotlib.pyplot as plt\n",
        "import seaborn as sns\n",
        "import warnings; warnings.filterwarnings(action='once')\n",
        "from sklearn.metrics import confusion_matrix\n",
        "from torch.optim.lr_scheduler import ReduceLROnPlateau\n",
        "from IPython.display import clear_output"
      ]
    },
    {
      "cell_type": "markdown",
      "metadata": {
        "id": "zKLI3lUyMYO9"
      },
      "source": [
        "---\n",
        "### Класс Dataset\n",
        "\n",
        "Предназначен для работы с наборами данных, обеспечивает чтение изображений и соответствующих меток, а также формирование пакетов (батчей)."
      ]
    },
    {
      "cell_type": "code",
      "source": [
        "class Dataset:\n",
        "\n",
        "    def __init__(self, name):\n",
        "        self.name = name\n",
        "        self.is_loaded = False\n",
        "        url = f\"https://drive.google.com/uc?export=download&confirm=pbef&id={DATASETS_LINKS[name]}\"\n",
        "        output = f'{name}.npz'\n",
        "        gdown.download(url, output, quiet=False)\n",
        "        print(f'Loading dataset {self.name} from npz.')\n",
        "        np_obj = np.load(f'{name}.npz')\n",
        "        self.images = np_obj['data']\n",
        "        self.labels = np_obj['labels']\n",
        "        self.n_files = self.images.shape[0]\n",
        "        self.is_loaded = True\n",
        "        print(f'Done. Dataset {name} consists of {self.n_files} images.')\n",
        "\n",
        "    def image(self, i):\n",
        "        # read i-th image in dataset and return it as numpy array\n",
        "        if self.is_loaded:\n",
        "            return self.images[i, :, :, :]\n",
        "\n",
        "    def images_seq(self, n=None):\n",
        "        # sequential access to images inside dataset (is needed for testing)\n",
        "        for i in range(self.n_files if not n else n):\n",
        "            yield self.image(i)\n",
        "\n",
        "    def random_image_with_label(self):\n",
        "        # get random image with label from dataset\n",
        "        i = np.random.randint(self.n_files)\n",
        "        return self.image(i), self.labels[i]\n",
        "\n",
        "    def random_batch_with_labels(self, n):\n",
        "        # create random batch of images with labels (is needed for training)\n",
        "        indices = np.random.choice(self.n_files, n)\n",
        "        imgs = []\n",
        "        for i in indices:\n",
        "            img = self.image(i)\n",
        "            imgs.append(self.image(i))\n",
        "        logits = np.array([self.labels[i] for i in indices])\n",
        "        return np.stack(imgs), logits\n",
        "\n",
        "    def image_with_label(self, i: int):\n",
        "        # return i-th image with label from dataset\n",
        "        return self.image(i), self.labels[i]"
      ],
      "metadata": {
        "id": "mHPf2E7rdNaD"
      },
      "execution_count": 13,
      "outputs": []
    },
    {
      "cell_type": "markdown",
      "metadata": {
        "id": "M-LvGqeHYgus"
      },
      "source": [
        "### Пример использвания класса Dataset\n",
        "Загрузим обучающий набор данных, получим произвольное изображение с меткой. После чего визуализируем изображение, выведем метку. В будущем, этот кусок кода можно закомментировать или убрать."
      ]
    },
    {
      "cell_type": "code",
      "execution_count": 14,
      "metadata": {
        "id": "HhObWEjGJ1um",
        "colab": {
          "base_uri": "https://localhost:8080/",
          "height": 531
        },
        "outputId": "b5ce1a59-9114-4d89-c3e8-afaf8f05267b"
      },
      "outputs": [
        {
          "output_type": "stream",
          "name": "stderr",
          "text": [
            "<frozen importlib._bootstrap>:914: ImportWarning: _PyDrive2ImportHook.find_spec() not found; falling back to find_module()\n",
            "<frozen importlib._bootstrap>:914: ImportWarning: _PyDriveImportHook.find_spec() not found; falling back to find_module()\n",
            "<frozen importlib._bootstrap>:914: ImportWarning: _GenerativeAIImportHook.find_spec() not found; falling back to find_module()\n",
            "<frozen importlib._bootstrap>:914: ImportWarning: _OpenCVImportHook.find_spec() not found; falling back to find_module()\n",
            "<frozen importlib._bootstrap>:914: ImportWarning: APICoreClientInfoImportHook.find_spec() not found; falling back to find_module()\n",
            "<frozen importlib._bootstrap>:914: ImportWarning: _BokehImportHook.find_spec() not found; falling back to find_module()\n",
            "<frozen importlib._bootstrap>:914: ImportWarning: _AltairImportHook.find_spec() not found; falling back to find_module()\n",
            "Downloading...\n",
            "From: https://drive.google.com/uc?export=download&confirm=pbef&id=1CD-hIDZ8eWjSC4lz7Z6jy61OSUczujkC\n",
            "To: /content/train_tiny.npz\n",
            "100%|██████████| 105M/105M [00:00<00:00, 127MB/s] \n"
          ]
        },
        {
          "output_type": "stream",
          "name": "stdout",
          "text": [
            "Loading dataset train_tiny from npz.\n",
            "Done. Dataset train_tiny consists of 900 images.\n",
            "\n",
            "Got numpy array of shape (224, 224, 3), and label with code 3.\n",
            "Label code corresponds to LYM class.\n"
          ]
        },
        {
          "output_type": "display_data",
          "data": {
            "text/plain": [
              "<PIL.Image.Image image mode=RGB size=224x224>"
            ],
            "image/png": "[encoded data removed]",
            "image/jpeg": "[encoded data removed]"
          },
          "metadata": {}
        }
      ],
      "source": [
        "d_train_tiny = Dataset('train_tiny')\n",
        "\n",
        "img, lbl = d_train_tiny.random_image_with_label()\n",
        "print()\n",
        "print(f'Got numpy array of shape {img.shape}, and label with code {lbl}.')\n",
        "print(f'Label code corresponds to {TISSUE_CLASSES[lbl]} class.')\n",
        "\n",
        "pil_img = Image.fromarray(img)\n",
        "IPython.display.display(pil_img)"
      ]
    },
    {
      "cell_type": "markdown",
      "metadata": {
        "id": "qaBXXCWeVLYb"
      },
      "source": [
        "---\n",
        "### Класс Metrics\n",
        "\n",
        "Реализует метрики точности, используемые для оценивания модели:\n",
        "1. точность,\n",
        "2. сбалансированную точность."
      ]
    },
    {
      "cell_type": "code",
      "execution_count": 15,
      "metadata": {
        "id": "5unQ7azTinCZ"
      },
      "outputs": [],
      "source": [
        "class Metrics:\n",
        "\n",
        "    @staticmethod\n",
        "    def accuracy(gt: List[int], pred: List[int]):\n",
        "        assert len(gt) == len(pred), 'gt and prediction should be of equal length'\n",
        "        return sum(int(i[0] == i[1]) for i in zip(gt, pred)) / len(gt)\n",
        "\n",
        "    @staticmethod\n",
        "    def accuracy_balanced(gt: List[int], pred: List[int]):\n",
        "        return balanced_accuracy_score(gt, pred)\n",
        "\n",
        "    @staticmethod\n",
        "    def print_all(gt: List[int], pred: List[int], info: str):\n",
        "        print(f'metrics for {info}:')\n",
        "        print('\\t accuracy {:.4f}:'.format(Metrics.accuracy(gt, pred)))\n",
        "        print('\\t balanced accuracy {:.4f}:'.format(Metrics.accuracy_balanced(gt, pred)))"
      ]
    },
    {
      "cell_type": "markdown",
      "metadata": {
        "id": "N1AHzTJVGU5k"
      },
      "source": [
        "---\n",
        "### Класс Model\n",
        "\n",
        "Класс, хранящий в себе всю информацию о модели.\n",
        "\n",
        "Вам необходимо реализовать методы save, load для сохранения и заргрузки модели. Особенно актуально это будет во время тестирования на дополнительных наборах данных.\n",
        "\n",
        "> *Пожалуйста, убедитесь, что сохранение и загрузка модели работает корректно. Для этого обучите модель, протестируйте, сохраните ее в файл, перезапустите среду выполнения, загрузите обученную модель из файла, вновь протестируйте ее на тестовой выборке и убедитесь в том, что получаемые метрики совпадают с полученными для тестовой выбрки ранее.*\n",
        "\n",
        "\n",
        "Также, Вы можете реализовать дополнительные функции, такие как:\n",
        "1. валидацию модели на части обучающей выборки;\n",
        "2. использование кроссвалидации;\n",
        "3. автоматическое сохранение модели при обучении;\n",
        "4. загрузку модели с какой-то конкретной итерации обучения (если используется итеративное обучение);\n",
        "5. вывод различных показателей в процессе обучения (например, значение функции потерь на каждой эпохе);\n",
        "6. построение графиков, визуализирующих процесс обучения (например, график зависимости функции потерь от номера эпохи обучения);\n",
        "7. автоматическое тестирование на тестовом наборе/наборах данных после каждой эпохи обучения (при использовании итеративного обучения);\n",
        "8. автоматический выбор гиперпараметров модели во время обучения;\n",
        "9. сохранение и визуализацию результатов тестирования;\n",
        "10. Использование аугментации и других способов синтетического расширения набора данных (дополнительным плюсом будет обоснование необходимости и обоснование выбора конкретных типов аугментации)\n",
        "11. и т.д.\n",
        "\n",
        "Полный список опций и дополнений приведен в презентации с описанием задания.\n",
        "\n",
        "При реализации дополнительных функций допускается добавление параметров в существующие методы и добавление новых методов в класс модели."
      ]
    },
    {
      "cell_type": "markdown",
      "source": [],
      "metadata": {
        "id": "daG9R9i2g7Mm"
      }
    },
    {
      "cell_type": "markdown",
      "source": [
        "#Функция **k_folds**\n",
        "\n",
        "Проверка входных данных:\n",
        "Проверяет, чтобы количество фолдов было хотя бы 2, и чтобы общее количество объектов было больше или равно количеству фолдов\n",
        "\n",
        "Определение размера фолдов:\n",
        "Равномерно делит количество объектов на фолды\n",
        "Если объекты не делятся нацело на количество фолдов, остаток добавляется к первичным фолдам\n",
        "\n",
        "Создание индексов для фолдов:\n",
        "Генерирует массив индексов объектов\n",
        "Делит объекты на фолды\n",
        "для каждого фолда создаются два массива\n",
        "Обучающие индексы (train_indices)\n",
        "Все объекты, за исключением объектов текущего фолда\n",
        "Тестовые индексы (test_indices) Объекты текущего фолда\n",
        "\n",
        "Возврат:\n",
        "Возвращает список кортежей, где каждый кортеж содержит два массива:\n",
        "Обучающие индексы,\n",
        "Тестовые индексы.\n",
        "\n",
        "\n",
        "Пример разбиения для 10 объектов и 3 фолдов:\n",
        "Размеры фолдов [4, 3, 3]\n",
        "Индексы объектов [0, 1, 2, 3, 4, 5, 6, 7, 8, 9]\n",
        "\n",
        "Разбиение:\n",
        "Фолд 1: обучающие индексы [4, 5, 6, 7, 8, 9], тестовые индексы [0, 1, 2, 3]\n",
        "Фолд 2: обучающие индексы [0, 1, 2, 3, 7, 8, 9], тестовые индексы [4, 5, 6]\n",
        "Фолд 3: обучающие индексы [0, 1, 2, 3, 4, 5, 6], тестовые индексы [7, 8, 9]"
      ],
      "metadata": {
        "id": "uzFMXJj8sAfk"
      }
    },
    {
      "cell_type": "code",
      "source": [
        "#функция для разбиения данных на фолды\n",
        "def k_folds(num_objects: int, num_folds: int) -> list[tuple[np.ndarray, np.ndarray]]:\n",
        "    if num_folds < 2:\n",
        "        raise ValueError(\"Split count must be at least 2\")\n",
        "    if num_objects < num_folds:\n",
        "        raise ValueError(\"Total items must be greater than or equal to the number of splits\")\n",
        "\n",
        "    fold_sizes = [num_objects // num_folds] * num_folds\n",
        "    for i in range(num_objects % num_folds):\n",
        "        fold_sizes[i] += 1\n",
        "\n",
        "    indices = np.arange(num_objects, dtype=np.int32)\n",
        "    splits = []\n",
        "    start = 0\n",
        "    for fold_size in fold_sizes:\n",
        "        test_indices = indices[start:start + fold_size]\n",
        "        train_indices = np.concatenate((indices[:start], indices[start + fold_size:]))\n",
        "        splits.append((train_indices, test_indices))\n",
        "        start += fold_size\n",
        "\n",
        "    return splits"
      ],
      "metadata": {
        "id": "n9URMctZG3Md"
      },
      "execution_count": 16,
      "outputs": []
    },
    {
      "cell_type": "markdown",
      "source": [],
      "metadata": {
        "id": "Wq8e1qFeg711"
      }
    },
    {
      "cell_type": "code",
      "source": [
        "#определение архитектуры модели ResNet18 для классификации изображений\n",
        "def create_model(base_model, num_ftrs, num_classes):\n",
        "    for param in base_model.parameters():\n",
        "        param.requires_grad = False\n",
        "\n",
        "    num_ftrs = base_model.fc.in_features\n",
        "    base_model.fc = torch.nn.Linear(num_ftrs, num_classes)\n",
        "    return base_model"
      ],
      "metadata": {
        "id": "hFUcLwANG3WN"
      },
      "execution_count": 17,
      "outputs": []
    },
    {
      "cell_type": "markdown",
      "source": [
        "# класс **Dataloader**\n",
        "\n",
        "Аргументы конструктора:\n",
        "dataset: Датасет, который предоставляет изображения и метки\n",
        "\n",
        "indices: Индексы объектов в датасете, которые будут использованы для создания выборки\n",
        "\n",
        "batch_size: Размер пакета(батча), который будет извлечён из выборки за одну итерацию\n",
        "\n",
        "transforms: Преобразования, которые будут применяться к изображениям\n",
        "\n",
        "augmenting_transforms: Аугментации для увеличения разнообразия данных\n",
        "\n",
        "limit: Процент данных, который нужно использовать(от 0 до 1)\n",
        "\n",
        "\n",
        "Итератор:\n",
        "iter: Метод, который возвращает сам объект и инициализирует итерацию, перемешивая индексы данных для каждой новой итерации\n",
        "\n",
        "next: Метод, который извлекает следующий батч данных, используя индексы\n",
        "Каждое изображение:\n",
        "  Загружается из датасета\n",
        "  Применяются аугментации и трансформации, если они заданы\n",
        "\n",
        "Обработка батчей:\n",
        "Тензоры batch_images и batch_labels заполняются для каждого индекса в текущем батче\n",
        "\n",
        "Преобразования и аугментации могут применяться в любом порядке, в зависимости от того, как они передаются в конструктор\n",
        "\n",
        "Сохранение изображений в нужном формате:\n",
        "Изображения преобразуются в тензоры с размерностью (batch_size, 3, 224, 224) что соответствует формату, используемому в большинстве CNN\n",
        "\n",
        "Перемешивание индексов:\n",
        "В iter индексы перемешиваются перед каждой итерацией, что помогает улучшить обобщающую способность модели за счет случайности в выборке данных"
      ],
      "metadata": {
        "id": "zyxGliQTg8Xm"
      }
    },
    {
      "cell_type": "code",
      "source": [
        "class Dataloader:\n",
        "    def __init__(self, dataset: Dataset, indices: np.ndarray, batch_size: int, transforms=None, augmenting_transforms=None, limit=1.0):\n",
        "        if not (0 < limit <= 1.0):\n",
        "            raise ValueError(\"Data limit must be between 0 and 1\")\n",
        "\n",
        "        self.dataset = dataset\n",
        "        self.indices = indices[:int(len(indices) * limit)]\n",
        "        self.batch_size = batch_size\n",
        "        self.transforms = transforms\n",
        "        self.augmenting_transforms = augmenting_transforms\n",
        "        self.num_batches = len(self.indices) // batch_size\n",
        "        self.current_batch_idx = 0\n",
        "\n",
        "    def __iter__(self):\n",
        "        self.current_batch_idx = 0\n",
        "        np.random.shuffle(self.indices)\n",
        "        return self\n",
        "\n",
        "    def __next__(self):\n",
        "        if self.current_batch_idx < self.num_batches:\n",
        "            batch_start = self.current_batch_idx * self.batch_size\n",
        "            batch_end = batch_start + self.batch_size\n",
        "            selected_indices = self.indices[batch_start:batch_end]\n",
        "\n",
        "            batch_images = torch.empty((self.batch_size, 3, 224, 224), dtype=torch.float32)\n",
        "            batch_labels = torch.empty(self.batch_size, dtype=torch.long)\n",
        "\n",
        "            for idx, data_idx in enumerate(selected_indices):\n",
        "                image, label = self.dataset.image_with_label(data_idx)\n",
        "                image = torch.from_numpy(image).permute(2, 0, 1)\n",
        "\n",
        "                if self.augmenting_transforms:\n",
        "                    image = self.augmenting_transforms(image)\n",
        "                if self.transforms:\n",
        "                    image = self.transforms(image)\n",
        "\n",
        "                batch_images[idx] = image\n",
        "                batch_labels[idx] = torch.tensor(label)\n",
        "\n",
        "            self.current_batch_idx += 1\n",
        "            return batch_images, batch_labels\n",
        "        else:\n",
        "            raise StopIteration"
      ],
      "metadata": {
        "id": "NapK2MAOG_nj"
      },
      "execution_count": 18,
      "outputs": []
    },
    {
      "cell_type": "markdown",
      "source": [
        "# класс **CrossValidator**\n",
        "\n",
        "Аргументы конструктора init:\n",
        "dataset: набор данных, который будет разделён на фолды\n",
        "\n",
        "batch_size: размер батча для обучения и валидации\n",
        "\n",
        "num_folds: число фолдов для кросс-валидации. Должно быть не менее 2\n",
        "\n",
        "transforms: преобразования, применяемые к данным в процессе обучения\n",
        "\n",
        "augmenting_transforms: аугментации для увеличения разнообразия данных\n",
        "\n",
        "seed: фиксация случайности для воспроизводимости\n",
        "\n",
        "limit: ограничения размера данных для обучающей и валидационной выборов(значения в диапазоне (0, 1])"
      ],
      "metadata": {
        "id": "5JT2BdsMg9Pl"
      }
    },
    {
      "cell_type": "code",
      "source": [
        "#LBL2\n",
        "class CrossValidator:\n",
        "    def __init__(self, dataset: Dataset, batch_size: int, num_folds: int, transforms=None, augmenting_transforms=None, seed=42, limit=(1.0, 1.0)):\n",
        "        if num_folds < 2:\n",
        "            raise ValueError(\"Number of folds must be at least 2\")\n",
        "        if len(limit) != 2 or not all(0 < value <= 1 for value in limit):\n",
        "            raise ValueError(\"Data limits must be within the range 0 and 1\")\n",
        "\n",
        "        self.dataset = dataset\n",
        "        self.batch_size = batch_size\n",
        "        self.num_folds = num_folds\n",
        "        self.transforms = transforms\n",
        "        self.augmenting_transforms = augmenting_transforms\n",
        "        self.limit = limit\n",
        "\n",
        "        self.indices = np.arange(dataset.n_files)\n",
        "        np.random.seed(seed)\n",
        "        np.random.shuffle(self.indices)\n",
        "\n",
        "        self.fold_indices = k_folds(len(self.indices), num_folds)\n",
        "        self.current_fold = 0\n",
        "\n",
        "    def get_train_val(self):\n",
        "        train_idx = self.indices[self.fold_indices[self.current_fold][0]]\n",
        "        val_idx = self.indices[self.fold_indices[self.current_fold][1]]\n",
        "\n",
        "        self.current_fold = (self.current_fold + 1) % self.num_folds\n",
        "\n",
        "        return (\n",
        "            Dataloader(self.dataset, train_idx, self.batch_size,\n",
        "                       self.transforms, self.augmenting_transforms, limit=self.limit[0]),\n",
        "            Dataloader(self.dataset, val_idx, self.batch_size,\n",
        "                       self.transforms, self.augmenting_transforms, limit=self.limit[1])\n",
        "        )\n",
        "\n",
        "device = torch.device(\"cuda\" if torch.cuda.is_available() else \"cpu\")"
      ],
      "metadata": {
        "id": "bH3lVhh2HIh2"
      },
      "execution_count": 19,
      "outputs": []
    },
    {
      "cell_type": "markdown",
      "source": [],
      "metadata": {
        "id": "2-OtkXs7g-EW"
      }
    },
    {
      "cell_type": "code",
      "source": [
        "#LBL8 #LBL6 #LBL4\n",
        "def plot_train_process(train_loss, val_loss, train_accuracy, val_accuracy, title_suffix=''):\n",
        "    clear_output(wait=True)\n",
        "    fig, axes = plt.subplots(1, 2, figsize=(15, 5))\n",
        "\n",
        "    axes[0].set_title(\"Loss\")\n",
        "    axes[0].plot(train_loss, label=\"train\")\n",
        "    axes[0].plot(val_loss, label=\"validation\")\n",
        "    axes[0].legend()\n",
        "\n",
        "    axes[1].set_title(\"Validation accuracy\")\n",
        "    axes[1].plot(train_accuracy, label=\"train\")\n",
        "    axes[1].plot(val_accuracy, label=\"validation\")\n",
        "    axes[1].legend()\n",
        "\n",
        "    plt.show()"
      ],
      "metadata": {
        "id": "GROVVzDwHMYt"
      },
      "execution_count": 20,
      "outputs": []
    },
    {
      "cell_type": "markdown",
      "source": [
        "# Матрица Ошибок\n",
        "\n",
        "матрицы ошибок, которая показывает, как предсказания модели соотносятся с истинными метками классов.\n",
        "Функция также вычисляет True Positive (TP) и False Positive (FP) для каждого класса.\n",
        "\n",
        "Используем confusion_matrix из библиотеки sklearn для подсчёта количества совпадений между предсказанными и истинными метками классов.\n",
        "\n",
        "Визуализируем матрицу ошибок:\n",
        "Построение тепловой карты (heatmap) с использованием библиотеки seaborn для наглядного отображения.\n",
        "\n",
        "Вычисляет метрики для каждого класса:\n",
        "TP (True Positive): Количество правильных предсказаний для данного класса.\n",
        "FP (False Positive): Количество случаев, когда данный класс был предсказан неправильно.\n",
        "Выводит метрики в табличной форме.\n"
      ],
      "metadata": {
        "id": "xfIDfcwJg-2m"
      }
    },
    {
      "cell_type": "code",
      "source": [
        "def confi_matrix(gt: List[int], pred: List[int], class_names: List[str]):\n",
        "    matrix = confusion_matrix(gt, pred)\n",
        "\n",
        "    plt.figure(figsize=(10, 8), dpi=100)\n",
        "    sns.heatmap(matrix,\n",
        "                xticklabels=class_names,\n",
        "                yticklabels=class_names,\n",
        "                cmap='RdYlGn',\n",
        "                center=0,\n",
        "                annot=True,\n",
        "                fmt=\"d\",\n",
        "                cbar_kws={'label': 'Number of Samples'})\n",
        "\n",
        "    plt.title('Confusion Matrix', fontsize=22, pad=20)\n",
        "    plt.xlabel('Predicted Labels', fontsize=16, labelpad=10)\n",
        "    plt.ylabel('True Labels', fontsize=16, labelpad=10)\n",
        "    plt.xticks(fontsize=12, rotation=45)\n",
        "    plt.yticks(fontsize=12)\n",
        "    plt.show()\n",
        "\n",
        "    TP = np.diag(matrix)\n",
        "    FP = matrix.sum(axis=0) - TP\n",
        "\n",
        "    print(f\"{'Class':<15}{'True Positive (TP)':<20}{'False Positive (FP)':<20}\")\n",
        "    print(\"-\" * 55)\n",
        "    for i, class_name in enumerate(class_names):\n",
        "        print(f\"{class_name:<15}{TP[i]:<20}{FP[i]:<20}\")"
      ],
      "metadata": {
        "id": "s3yQsofop81U"
      },
      "execution_count": 21,
      "outputs": []
    },
    {
      "cell_type": "markdown",
      "source": [
        "## **Почему так**\n",
        "Изначально я пытался сделать с помощью классического МЛ'ля, но перенабивание ОЗУ я не осилил.\n",
        "По советам уже знающих людей, решил сделать именно свертку, да и примеров на том же Гитхабе и кагле было достаточно, что бы человек в первые который с этим знакомится мог что-то и написать, ну, я брал идеи и части кода других, но в основном все делалось с моей руки и могу даже защитить данную работу.\n",
        "\n",
        "Я использую предобученную модель ResNet18 и дообучаю ее на новом наборе данных, чтобы она научилась классифицировать изображения на заданных классах.\n",
        "Даже попытался предотвратить переобучение, но, не знаю, наверное надо было брать меньше эпох.\n",
        "\n",
        "На чем тестировал:\n",
        "На полном тесте:\n",
        "accuracy 0.9847,\n",
        "balanced accuracy 0.9847\n",
        "\n",
        "На маленьком тесте:\n",
        "accuracy 0.9667,\n",
        "balanced accuracy 0.9667"
      ],
      "metadata": {
        "id": "eawUk1uOg_j8"
      }
    },
    {
      "cell_type": "code",
      "execution_count": 24,
      "metadata": {
        "id": "0pkMiB6mJ7JQ"
      },
      "outputs": [],
      "source": [
        "class Model:\n",
        "    def __init__(self):\n",
        "        self.model = create_model(torchvision.models.resnet18(pretrained=True), 6, 9).to(device)\n",
        "        self.transforms = v2.Compose([\n",
        "            v2.ToDtype(torch.float32, scale=True),\n",
        "            v2.Normalize([0.485, 0.456, 0.406], [0.229, 0.224, 0.225]),])\n",
        "\n",
        "    def save(self, name: str):\n",
        "        torch.save(self.model.state_dict(), f'/content/drive/MyDrive/DP/{name}.pth')\n",
        "\n",
        "    def load(self, name: str):\n",
        "        name_to_id_dict = {\n",
        "            \"best\": '1-KG_C4OaeYnh9DpB4GH0_fdUoLK706Fg',\n",
        "            \"best_model\": '1L9PiS1JbKKOnxaGleh85wfz_yP5lf0H8',\n",
        "            \"best_1\": '1-3gFYm4uEM4eOg8niDPqdNYICLobtMID'\n",
        "        }\n",
        "        output = f\"{name}.pth\"\n",
        "        gdown.download(f'https://drive.google.com/uc?id={name_to_id_dict[name]}', output, quiet=False)\n",
        "\n",
        "        self.model.load_state_dict(torch.load(output))\n",
        "        self.model.to(device)\n",
        "        self.model.eval()\n",
        "    #LBL1\n",
        "    def evaluate(self, dataloader: Dataloader, loss_fn, weights):\n",
        "        losses = []\n",
        "        num_correct = np.zeros(9, dtype=int)\n",
        "        num_elements = np.zeros(9, dtype=int)\n",
        "\n",
        "        for batch in dataloader:\n",
        "            X_batch, y_batch = batch\n",
        "            with torch.no_grad():\n",
        "                logits = self.model(X_batch.to(device))\n",
        "                loss = loss_fn(logits, y_batch.to(device))\n",
        "                losses.append(loss.item())\n",
        "\n",
        "                y_pred = torch.argmax(logits, dim=1).cpu()\n",
        "                num_elements += (y_batch.numpy()[:, None] == np.arange(9)).sum(axis=0)\n",
        "                num_correct += ((y_pred.numpy()[:, None] == np.arange(9)) & (y_pred.numpy()[:, None] == y_batch.numpy()[:, None])).sum(axis=0)\n",
        "\n",
        "        acc = num_correct / num_elements\n",
        "        weights = torch.from_numpy(acc ** 6).float()\n",
        "\n",
        "        accuracy = num_correct.sum() / num_elements.sum()\n",
        "        return accuracy, np.mean(losses), weights\n",
        "\n",
        "    def train(self, dataset: Dataset):\n",
        "        '''\n",
        "        param_grid =\n",
        "        {\n",
        "            \"learning_rate\": [1e-3, 1e-4],\n",
        "            \"weight_decay\": [1e-4, 1e-5],\n",
        "            \"batch_size\": [32, 64],\n",
        "        }\n",
        "\n",
        "        best_val_accuracy = 0.0\n",
        "        best_params = None\n",
        "\n",
        "        for params in ParameterGrid(param_grid):\n",
        "            print(f\"Training with params: {params}\")\n",
        "            learning_rate = params[\"learning_rate\"]\n",
        "            weight_decay = params[\"weight_decay\"]\n",
        "            batch_size = params[\"batch_size\"]\n",
        "        '''\n",
        "        optim = torch.optim.AdamW\n",
        "        lossF = torch.nn.CrossEntropyLoss\n",
        "        learning_rate = 1e-4\n",
        "        weight_decay = 1e-4\n",
        "\n",
        "        #LBL9\n",
        "        optimizer = optim(self.model.parameters(), lr=learning_rate, weight_decay=weight_decay)\n",
        "        scheduler = torch.optim.lr_scheduler.ReduceLROnPlateau(optimizer, \"min\", patience=5, threshold=0.01, threshold_mode=\"rel\")\n",
        "\n",
        "        #LBL11\n",
        "        augmenting_transforms = v2.Compose([\n",
        "            v2.RandomHorizontalFlip(),\n",
        "            v2.RandomVerticalFlip(),\n",
        "            v2.RandomRotation(degrees=10),\n",
        "            v2.RandomResizedCrop(size=(224, 224), scale=(0.8, 1.0))])\n",
        "\n",
        "        batch_size = 32\n",
        "        folds = 10\n",
        "        limit = (0.3, 1.0)\n",
        "        dataloader = CrossValidator(dataset, batch_size, folds, self.transforms, augmenting_transforms, limit=limit)\n",
        "\n",
        "        history = \"\"\n",
        "        train_loss_history, train_acc_history = [], []\n",
        "        val_loss_history, val_acc_history = [], []\n",
        "\n",
        "        local_train_loss_history, local_train_acc_history = [], []\n",
        "\n",
        "        n_epoch = 60\n",
        "        eval_every = 30\n",
        "\n",
        "        weights = torch.ones(9).to(device)\n",
        "\n",
        "        best_val_accuracy = 0.0\n",
        "        best_model_path = '/content/drive/MyDrive/DP/best_model.pth'\n",
        "\n",
        "        #LBL3\n",
        "        for epoch in range(n_epoch):\n",
        "            print(f\"Epoch {epoch+1}/{n_epoch}\")\n",
        "            history += f\"Epoch {epoch+1}\\n\"\n",
        "            loss_fn = lossF(weight=weights.type(torch.FloatTensor).to(device))\n",
        "\n",
        "            train, val = dataloader.get_train_val()\n",
        "\n",
        "            self.model.train()\n",
        "\n",
        "            for i, batch in enumerate(train):\n",
        "                start_time = time.time()\n",
        "                X_batch, y_batch = batch\n",
        "\n",
        "                logits = self.model(X_batch.to(device))\n",
        "\n",
        "                loss = loss_fn(logits, y_batch.to(device))\n",
        "                loss.backward()\n",
        "                optimizer.step()\n",
        "                optimizer.zero_grad()\n",
        "\n",
        "                model_answers = torch.argmax(logits, dim=1)\n",
        "                train_accuracy = torch.sum(y_batch == model_answers.cpu()) / len(y_batch)\n",
        "\n",
        "                local_train_loss_history.append(loss.item())\n",
        "                local_train_acc_history.append(train_accuracy)\n",
        "\n",
        "                if (i + 1) % eval_every == 0:\n",
        "                    history += f\"avg train loss {eval_every} iterations: {np.mean(local_train_loss_history)} accuracy: {np.mean(local_train_acc_history)} \\n\"\n",
        "                    print(f\"avg train loss {eval_every} iterations: {np.mean(local_train_loss_history)} accuracy: {np.mean(local_train_acc_history)}\")\n",
        "            self.model.eval()\n",
        "\n",
        "            val_accuracy, val_loss, weights = self.evaluate(val, loss_fn, weights)\n",
        "            scheduler.step(val_loss)\n",
        "\n",
        "            if val_accuracy > best_val_accuracy:\n",
        "                best_val_accuracy = val_accuracy\n",
        "                torch.save(self.model.state_dict(), best_model_path)\n",
        "                print(f\"New best model saved with accuracy: {best_val_accuracy}\")\n",
        "\n",
        "            train_loss_history.append(np.mean(local_train_loss_history))\n",
        "            train_acc_history.append(np.mean(local_train_acc_history))\n",
        "            val_loss_history.append(val_loss)\n",
        "            val_acc_history.append(val_accuracy)\n",
        "\n",
        "            IPython.display.clear_output(wait=True)\n",
        "            plot_train_process(train_loss_history, val_loss_history, train_acc_history, val_acc_history)\n",
        "\n",
        "            history += f\"Epoch {epoch+1}/{n_epoch}: val loss: {val_loss} accuracy: {val_accuracy} \\n\"\n",
        "            history += f\"New weights {weights} \\n\"\n",
        "            history += f\"Learning rate {optimizer.state_dict()['param_groups'][0]['lr']} \\n\"\n",
        "            print(history)\n",
        "        print(\"train done\")\n",
        "\n",
        "    def test_on_dataset(self, dataset: Dataset, limit=None):\n",
        "        predictions = []\n",
        "        n = dataset.n_files if not limit else int(dataset.n_files * limit)\n",
        "        for img in tqdm(dataset.images_seq(n), total=n):\n",
        "            predictions.append(self.test_on_image(img))\n",
        "        return predictions\n",
        "\n",
        "    def test_on_image(self, img: np.ndarray):\n",
        "        img_tensor = self.transforms(torch.from_numpy(img).permute(2, 0, 1)).unsqueeze(0).to(device)\n",
        "        prediction = self.model(img_tensor)\n",
        "        return int(torch.argmax(prediction, dim=1).cpu()[0])"
      ]
    },
    {
      "cell_type": "markdown",
      "metadata": {
        "id": "ZMpTB6lMr00A"
      },
      "source": [
        "---\n",
        "### Классификация изображений\n",
        "\n",
        "Используя введенные выше классы можем перейти уже непосредственно к обучению модели классификации изображений. Пример общего пайплайна решения задачи приведен ниже. Вы можете его расширять и улучшать. В данном примере используются наборы данных 'train_small' и 'test_small'."
      ]
    },
    {
      "cell_type": "code",
      "execution_count": 23,
      "metadata": {
        "id": "5cTOuZD01Up6",
        "colab": {
          "base_uri": "https://localhost:8080/"
        },
        "outputId": "fabef394-fba7-4110-db49-88039fcdf630"
      },
      "outputs": [
        {
          "output_type": "stream",
          "name": "stderr",
          "text": [
            "Downloading...\n",
            "From: https://drive.google.com/uc?export=download&confirm=pbef&id=1T5z6OPLoYUANn-_B14PSngZFm0mIOgsU\n",
            "To: /content/train.npz\n",
            "100%|██████████| 2.10G/2.10G [00:26<00:00, 80.8MB/s]\n"
          ]
        },
        {
          "output_type": "stream",
          "name": "stdout",
          "text": [
            "Loading dataset train from npz.\n",
            "Done. Dataset train consists of 18000 images.\n"
          ]
        },
        {
          "output_type": "stream",
          "name": "stderr",
          "text": [
            "Downloading...\n",
            "From: https://drive.google.com/uc?export=download&confirm=pbef&id=1yrhk65_BzfPHDQpGPCZN4h8qwIeEmil2\n",
            "To: /content/test.npz\n",
            "100%|██████████| 525M/525M [00:04<00:00, 108MB/s]\n"
          ]
        },
        {
          "output_type": "stream",
          "name": "stdout",
          "text": [
            "Loading dataset test from npz.\n",
            "Done. Dataset test consists of 4500 images.\n"
          ]
        }
      ],
      "source": [
        "d_train = Dataset(\"train\")\n",
        "d_test = Dataset(\"test\")"
      ]
    },
    {
      "cell_type": "code",
      "source": [
        "model = Model()"
      ],
      "metadata": {
        "id": "_iLI4DF-ZSQ_",
        "colab": {
          "base_uri": "https://localhost:8080/"
        },
        "outputId": "5e633aeb-a158-4a93-994c-c4e87331a2ce"
      },
      "execution_count": 26,
      "outputs": [
        {
          "output_type": "stream",
          "name": "stderr",
          "text": [
            "/usr/local/lib/python3.10/dist-packages/torchvision/models/_utils.py:208: UserWarning: The parameter 'pretrained' is deprecated since 0.13 and may be removed in the future, please use 'weights' instead.\n",
            "  warnings.warn(\n",
            "/usr/local/lib/python3.10/dist-packages/torchvision/models/_utils.py:223: UserWarning: Arguments other than a weight enum or `None` for 'weights' are deprecated since 0.13 and may be removed in the future. The current behavior is equivalent to passing `weights=ResNet18_Weights.IMAGENET1K_V1`. You can also use `weights=ResNet18_Weights.DEFAULT` to get the most up-to-date weights.\n",
            "  warnings.warn(msg)\n",
            "Downloading: \"https://download.pytorch.org/models/resnet18-f37072fd.pth\" to /root/.cache/torch/hub/checkpoints/resnet18-f37072fd.pth\n",
            "100%|██████████| 44.7M/44.7M [00:00<00:00, 157MB/s]\n"
          ]
        }
      ]
    },
    {
      "cell_type": "code",
      "execution_count": null,
      "metadata": {
        "id": "wBi0XpXg8_wq"
      },
      "outputs": [],
      "source": [
        "for i, layer in enumerate(model.model.children()):\n",
        "    if i < 3:\n",
        "        for param in layer.parameters():\n",
        "            param.requires_grad = False\n",
        "    else:\n",
        "        for param in layer.parameters():\n",
        "            param.requires_grad = True"
      ]
    },
    {
      "cell_type": "code",
      "source": [
        "model.train(d_train)\n",
        "model.save(\"best_1\")"
      ],
      "metadata": {
        "colab": {
          "base_uri": "https://localhost:8080/",
          "height": 1000
        },
        "id": "Gse9psnfZqNW",
        "outputId": "4cb5169c-f8d4-41cb-da4f-a7806601958a"
      },
      "execution_count": null,
      "outputs": [
        {
          "output_type": "display_data",
          "data": {
            "text/plain": [
              "<Figure size 1500x500 with 2 Axes>"
            ],
            "image/png": "[encoded data removed]"
          },
          "metadata": {}
        },
        {
          "output_type": "stream",
          "name": "stdout",
          "text": [
            "Epoch 1\n",
            "avg train loss 30 iterations: 0.8339256688952446 accuracy: 0.7583333253860474 \n",
            "avg train loss 30 iterations: 0.5934630331893762 accuracy: 0.824999988079071 \n",
            "avg train loss 30 iterations: 0.4790039273599784 accuracy: 0.8541666865348816 \n",
            "avg train loss 30 iterations: 0.4253099443390965 accuracy: 0.8695312738418579 \n",
            "avg train loss 30 iterations: 0.37279683654507 accuracy: 0.8866666555404663 \n",
            "Epoch 1/60: val loss: 0.16028010577429086 accuracy: 0.9453125 \n",
            "New weights tensor([0.9004, 0.9709, 0.5025, 0.8683, 0.8167, 0.7531, 0.8306, 0.5158, 0.4508]) \n",
            "Learning rate 0.0001 \n",
            "Epoch 2\n",
            "avg train loss 30 iterations: 0.33676408119088047 accuracy: 0.8957182168960571 \n",
            "avg train loss 30 iterations: 0.3123400632062512 accuracy: 0.902103066444397 \n",
            "avg train loss 30 iterations: 0.2879948101597703 accuracy: 0.908713698387146 \n",
            "avg train loss 30 iterations: 0.2677210097328323 accuracy: 0.91501384973526 \n",
            "avg train loss 30 iterations: 0.2550497363473094 accuracy: 0.917981743812561 \n",
            "Epoch 2/60: val loss: 0.07606179182351168 accuracy: 0.9720982142857143 \n",
            "New weights tensor([1.0000, 0.9716, 0.8040, 0.9418, 1.0000, 0.9412, 0.8617, 0.5627, 0.5899]) \n",
            "Learning rate 0.0001 \n",
            "Epoch 3\n",
            "avg train loss 30 iterations: 0.24185414662786636 accuracy: 0.9222515225410461 \n",
            "avg train loss 30 iterations: 0.23053346253231743 accuracy: 0.9258459806442261 \n",
            "avg train loss 30 iterations: 0.22320626633792964 accuracy: 0.9284119606018066 \n",
            "avg train loss 30 iterations: 0.21644962626240125 accuracy: 0.930168867111206 \n",
            "avg train loss 30 iterations: 0.2088888952533294 accuracy: 0.9323838353157043 \n",
            "Epoch 3/60: val loss: 0.0708982434090493 accuracy: 0.97265625 \n",
            "New weights tensor([0.9129, 1.0000, 0.9120, 0.9702, 0.9199, 0.7659, 0.5579, 0.7483, 0.9412]) \n",
            "Learning rate 0.0001 \n",
            "Epoch 4\n",
            "avg train loss 30 iterations: 0.20049938341066642 accuracy: 0.9350414276123047 \n",
            "avg train loss 30 iterations: 0.19329998159116646 accuracy: 0.9373781681060791 \n",
            "avg train loss 30 iterations: 0.1875912813558955 accuracy: 0.9393416047096252 \n",
            "avg train loss 30 iterations: 0.18239688281340435 accuracy: 0.9409903883934021 \n",
            "avg train loss 30 iterations: 0.17712968790048045 accuracy: 0.9425269365310669 \n",
            "Epoch 4/60: val loss: 0.09701563816218238 accuracy: 0.9654017857142857 \n",
            "New weights tensor([0.9409, 1.0000, 0.6186, 0.9688, 0.9157, 0.8232, 0.5933, 0.6133, 0.9439]) \n",
            "Learning rate 0.0001 \n",
            "Epoch 5\n",
            "avg train loss 30 iterations: 0.17163844897238426 accuracy: 0.9440063238143921 \n",
            "avg train loss 30 iterations: 0.16658206863177336 accuracy: 0.9454066157341003 \n",
            "avg train loss 30 iterations: 0.16229779284544052 accuracy: 0.9466408491134644 \n",
            "avg train loss 30 iterations: 0.1585179678587634 accuracy: 0.9476001262664795 \n",
            "avg train loss 30 iterations: 0.15462696746816804 accuracy: 0.948980450630188 \n",
            "Epoch 5/60: val loss: 0.07132868733606301 accuracy: 0.9765625 \n",
            "New weights tensor([1.0000, 1.0000, 0.9165, 0.9692, 0.9701, 0.8543, 0.9141, 0.7045, 0.5628]) \n",
            "Learning rate 0.0001 \n",
            "Epoch 6\n",
            "avg train loss 30 iterations: 0.1509624616438701 accuracy: 0.9501592516899109 \n",
            "avg train loss 30 iterations: 0.14703067059262992 accuracy: 0.9514570832252502 \n",
            "avg train loss 30 iterations: 0.14494416427512008 accuracy: 0.9519230723381042 \n",
            "avg train loss 30 iterations: 0.14231007862277328 accuracy: 0.9528214335441589 \n",
            "avg train loss 30 iterations: 0.1403649075962706 accuracy: 0.9535220861434937 \n",
            "Epoch 6/60: val loss: 0.08243654452131263 accuracy: 0.9760044642857143 \n",
            "New weights tensor([1.0000, 0.9702, 0.7535, 1.0000, 0.8672, 0.9445, 0.7725, 0.6951, 0.8169]) \n",
            "Learning rate 0.0001 \n",
            "Epoch 7\n",
            "avg train loss 30 iterations: 0.13744897221072783 accuracy: 0.9546273946762085 \n",
            "avg train loss 30 iterations: 0.13492801109513008 accuracy: 0.955518901348114 \n",
            "avg train loss 30 iterations: 0.13243322672456107 accuracy: 0.9563880562782288 \n",
            "avg train loss 30 iterations: 0.13030598224249632 accuracy: 0.9571759104728699 \n",
            "avg train loss 30 iterations: 0.12814567439305724 accuracy: 0.9577414989471436 \n",
            "Epoch 7/60: val loss: 0.06677004168575097 accuracy: 0.9793526785714286 \n",
            "New weights tensor([1.0000, 1.0000, 0.8571, 1.0000, 0.9426, 0.8783, 0.9153, 0.7788, 0.6170]) \n",
            "Learning rate 0.0001 \n",
            "Epoch 8\n",
            "avg train loss 30 iterations: 0.12542156479171485 accuracy: 0.958630383014679 \n",
            "avg train loss 30 iterations: 0.12335632681002842 accuracy: 0.9591540098190308 \n",
            "avg train loss 30 iterations: 0.12106156306066847 accuracy: 0.9598681330680847 \n",
            "avg train loss 30 iterations: 0.1192114245258873 accuracy: 0.9603865742683411 \n",
            "avg train loss 30 iterations: 0.11704803464477828 accuracy: 0.9610863924026489 \n",
            "Epoch 8/60: val loss: 0.05448739443506513 accuracy: 0.98046875 \n",
            "New weights tensor([1.0000, 1.0000, 0.9400, 1.0000, 0.8676, 0.8975, 0.9409, 0.5768, 0.8375]) \n",
            "Learning rate 0.0001 \n",
            "Epoch 9\n",
            "avg train loss 30 iterations: 0.11523560271485557 accuracy: 0.9616316556930542 \n",
            "avg train loss 30 iterations: 0.11361301511346894 accuracy: 0.9620957970619202 \n",
            "avg train loss 30 iterations: 0.11172578955006043 accuracy: 0.9626588821411133 \n",
            "avg train loss 30 iterations: 0.1098631732537501 accuracy: 0.9632671475410461 \n",
            "avg train loss 30 iterations: 0.10818955311599697 accuracy: 0.9638024568557739 \n",
            "Epoch 9/60: val loss: 0.05285803640539858 accuracy: 0.9799107142857143 \n",
            "New weights tensor([0.9701, 1.0000, 0.9359, 0.9732, 0.9355, 0.9184, 0.8842, 0.6527, 0.7699]) \n",
            "Learning rate 0.0001 \n",
            "Epoch 10\n",
            "avg train loss 30 iterations: 0.1072326577596247 accuracy: 0.9641153812408447 \n",
            "avg train loss 30 iterations: 0.10588148513005179 accuracy: 0.9645656943321228 \n",
            "avg train loss 30 iterations: 0.10403876588390619 accuracy: 0.9651914834976196 \n",
            "avg train loss 30 iterations: 0.10270070980318417 accuracy: 0.9654749631881714 \n",
            "avg train loss 30 iterations: 0.10136277485980465 accuracy: 0.9659128785133362 \n",
            "Epoch 10/60: val loss: 0.09295280559620421 accuracy: 0.9693080357142857 \n",
            "New weights tensor([0.9133, 1.0000, 0.8075, 1.0000, 0.9701, 0.6032, 0.6425, 0.7389, 0.8920]) \n",
            "Learning rate 0.0001 \n",
            "Epoch 11\n",
            "avg train loss 30 iterations: 0.10067902999036558 accuracy: 0.9660916924476624 \n",
            "avg train loss 30 iterations: 0.09991451445114236 accuracy: 0.9663614630699158 \n",
            "avg train loss 30 iterations: 0.09914443929636035 accuracy: 0.9665820598602295 \n",
            "avg train loss 30 iterations: 0.09864519400353561 accuracy: 0.9666411280632019 \n",
            "avg train loss 30 iterations: 0.09821432693931555 accuracy: 0.9666980504989624 \n",
            "Epoch 11/60: val loss: 0.03116937797001031 accuracy: 0.9871651785714286 \n",
            "New weights tensor([0.9326, 1.0000, 0.9161, 1.0000, 0.9173, 0.9692, 0.9129, 0.7828, 0.9103]) \n",
            "Learning rate 0.0001 \n",
            "Epoch 12\n",
            "avg train loss 30 iterations: 0.09723538735419918 accuracy: 0.967012882232666 \n",
            "avg train loss 30 iterations: 0.09642663011032458 accuracy: 0.967297375202179 \n",
            "avg train loss 30 iterations: 0.09574526449376085 accuracy: 0.9675363898277283 \n",
            "avg train loss 30 iterations: 0.09497474563456569 accuracy: 0.9677674174308777 \n",
            "avg train loss 30 iterations: 0.09446234566062865 accuracy: 0.9679734706878662 \n",
            "Epoch 12/60: val loss: 0.02207537479885754 accuracy: 0.9910714285714286 \n",
            "New weights tensor([1.0000, 1.0000, 0.8577, 1.0000, 0.9698, 1.0000, 0.9708, 0.9683, 0.7725]) \n",
            "Learning rate 0.0001 \n",
            "Epoch 13\n",
            "avg train loss 30 iterations: 0.09347682445634654 accuracy: 0.9683428406715393 \n",
            "avg train loss 30 iterations: 0.09249816488025114 accuracy: 0.9686832427978516 \n",
            "avg train loss 30 iterations: 0.09169547408209579 accuracy: 0.9690128564834595 \n",
            "avg train loss 30 iterations: 0.09072037896719388 accuracy: 0.9692837595939636 \n",
            "avg train loss 30 iterations: 0.08999583555637526 accuracy: 0.969450831413269 \n",
            "Epoch 13/60: val loss: 0.025761462134791406 accuracy: 0.9899553571428571 \n",
            "New weights tensor([1.0000, 1.0000, 0.9120, 1.0000, 0.9457, 0.9061, 0.8890, 0.8418, 1.0000]) \n",
            "Learning rate 0.0001 \n",
            "Epoch 14\n",
            "avg train loss 30 iterations: 0.08902884723396193 accuracy: 0.9697691798210144 \n",
            "avg train loss 30 iterations: 0.0884736092786249 accuracy: 0.9699857831001282 \n",
            "avg train loss 30 iterations: 0.0877447570315746 accuracy: 0.9702569246292114 \n",
            "avg train loss 30 iterations: 0.0870205461293163 accuracy: 0.9705352783203125 \n",
            "avg train loss 30 iterations: 0.08625226279594386 accuracy: 0.9707465767860413 \n",
            "Epoch 14/60: val loss: 0.049965980926312374 accuracy: 0.9838169642857143 \n",
            "New weights tensor([1.0000, 1.0000, 0.8825, 0.9687, 0.9431, 0.9683, 0.9041, 0.6501, 0.9442]) \n",
            "Learning rate 0.0001 \n",
            "Epoch 15\n",
            "avg train loss 30 iterations: 0.08545448947720684 accuracy: 0.9710237979888916 \n",
            "avg train loss 30 iterations: 0.08459077107295113 accuracy: 0.9712511301040649 \n",
            "avg train loss 30 iterations: 0.08383552658047523 accuracy: 0.9715290665626526 \n",
            "avg train loss 30 iterations: 0.08324068354289718 accuracy: 0.9717435240745544 \n",
            "avg train loss 30 iterations: 0.08270532098313294 accuracy: 0.9719108939170837 \n",
            "Epoch 15/60: val loss: 0.05788414968784699 accuracy: 0.9832589285714286 \n",
            "New weights tensor([0.9696, 1.0000, 0.8900, 0.8819, 0.8842, 0.9397, 0.8869, 0.8012, 0.8836]) \n",
            "Learning rate 0.0001 \n",
            "Epoch 16\n",
            "avg train loss 30 iterations: 0.08186771732000207 accuracy: 0.9721677303314209 \n",
            "avg train loss 30 iterations: 0.08109661593417367 accuracy: 0.9724193811416626 \n",
            "avg train loss 30 iterations: 0.08051104804319517 accuracy: 0.9726380109786987 \n",
            "avg train loss 30 iterations: 0.0796458494866343 accuracy: 0.9729690551757812 \n",
            "avg train loss 30 iterations: 0.07888675287298909 accuracy: 0.9732531309127808 \n",
            "Epoch 16/60: val loss: 0.07078769274864628 accuracy: 0.9793526785714286 \n",
            "New weights tensor([0.9727, 0.9701, 0.7756, 1.0000, 0.9180, 0.8905, 0.7767, 0.7462, 0.9352]) \n",
            "Learning rate 0.0001 \n",
            "Epoch 17\n",
            "avg train loss 30 iterations: 0.07827413579193858 accuracy: 0.973451554775238 \n",
            "avg train loss 30 iterations: 0.07754851759386287 accuracy: 0.9736974835395813 \n",
            "avg train loss 30 iterations: 0.07693384010795819 accuracy: 0.9739500284194946 \n",
            "avg train loss 30 iterations: 0.07618146735388193 accuracy: 0.9742088913917542 \n",
            "avg train loss 30 iterations: 0.07573069327976192 accuracy: 0.9743886590003967 \n",
            "Epoch 17/60: val loss: 0.04902843932255304 accuracy: 0.9860491071428571 \n",
            "New weights tensor([1.0000, 1.0000, 0.9696, 0.9712, 0.9149, 0.9085, 0.9429, 0.6845, 0.9107]) \n",
            "Learning rate 0.0001 \n",
            "Epoch 18\n",
            "avg train loss 30 iterations: 0.07513181300544958 accuracy: 0.9746221303939819 \n",
            "avg train loss 30 iterations: 0.07459004627888846 accuracy: 0.9747573137283325 \n",
            "avg train loss 30 iterations: 0.07398745530117307 accuracy: 0.9749482274055481 \n",
            "avg train loss 30 iterations: 0.07346414023677822 accuracy: 0.9751232862472534 \n",
            "avg train loss 30 iterations: 0.07297019308017663 accuracy: 0.975271463394165 \n",
            "Epoch 18/60: val loss: 0.06758711232188423 accuracy: 0.9720982142857143 \n",
            "New weights tensor([1.0000, 1.0000, 0.8831, 1.0000, 0.8369, 0.9478, 0.9125, 0.4567, 0.6976]) \n",
            "Learning rate 1e-05 \n",
            "Epoch 19\n",
            "avg train loss 30 iterations: 0.07230958328603952 accuracy: 0.975482165813446 \n",
            "avg train loss 30 iterations: 0.07188800238136989 accuracy: 0.9756231904029846 \n",
            "avg train loss 30 iterations: 0.0712572752557977 accuracy: 0.9758391380310059 \n",
            "avg train loss 30 iterations: 0.07059794392629251 accuracy: 0.9760724902153015 \n",
            "avg train loss 30 iterations: 0.06998760736441427 accuracy: 0.9762682914733887 \n",
            "Epoch 19/60: val loss: 0.043046195518919764 accuracy: 0.9849330357142857 \n",
            "New weights tensor([1.0000, 1.0000, 0.9051, 1.0000, 0.9036, 0.8930, 0.9409, 0.7885, 0.8159]) \n",
            "Learning rate 1e-05 \n",
            "Epoch 20\n",
            "avg train loss 30 iterations: 0.06932026140472583 accuracy: 0.9764897227287292 \n",
            "avg train loss 30 iterations: 0.06866220622180964 accuracy: 0.976719856262207 \n",
            "avg train loss 30 iterations: 0.06808130466032025 accuracy: 0.9769136309623718 \n",
            "avg train loss 30 iterations: 0.06750595925855502 accuracy: 0.9771140217781067 \n",
            "avg train loss 30 iterations: 0.06691766809414242 accuracy: 0.9773207306861877 \n",
            "Epoch 20/60: val loss: 0.045515655343738866 accuracy: 0.9849330357142857 \n",
            "New weights tensor([1.0000, 1.0000, 0.9129, 1.0000, 0.8853, 0.9116, 0.8654, 0.7389, 0.9180]) \n",
            "Learning rate 1e-05 \n",
            "Epoch 21\n",
            "avg train loss 30 iterations: 0.06644735984226544 accuracy: 0.9775102734565735 \n",
            "avg train loss 30 iterations: 0.06591208580141099 accuracy: 0.9776988625526428 \n",
            "avg train loss 30 iterations: 0.06538994311732843 accuracy: 0.9778838157653809 \n",
            "avg train loss 30 iterations: 0.06490218981387813 accuracy: 0.9780553579330444 \n",
            "avg train loss 30 iterations: 0.06440598898593793 accuracy: 0.9782235622406006 \n",
            "Epoch 21/60: val loss: 0.0013435833321377036 accuracy: 1.0 \n",
            "New weights tensor([1., 1., 1., 1., 1., 1., 1., 1., 1.]) \n",
            "Learning rate 1e-05 \n",
            "Epoch 22\n",
            "avg train loss 30 iterations: 0.0639213972739076 accuracy: 0.978395402431488 \n",
            "avg train loss 30 iterations: 0.06348992354721139 accuracy: 0.9785573482513428 \n",
            "avg train loss 30 iterations: 0.0629942946469063 accuracy: 0.9787354469299316 \n",
            "avg train loss 30 iterations: 0.06253656958478358 accuracy: 0.9788817763328552 \n",
            "avg train loss 30 iterations: 0.062100932037792274 accuracy: 0.9790349006652832 \n",
            "Epoch 22/60: val loss: 0.0023860221552760258 accuracy: 0.9994419642857143 \n",
            "New weights tensor([1.0000, 1.0000, 1.0000, 1.0000, 1.0000, 1.0000, 1.0000, 1.0000, 0.9687]) \n",
            "Learning rate 1e-05 \n",
            "Epoch 23\n",
            "avg train loss 30 iterations: 0.06166158143603401 accuracy: 0.9791915416717529 \n",
            "avg train loss 30 iterations: 0.06120372108960758 accuracy: 0.979348361492157 \n",
            "avg train loss 30 iterations: 0.060785954531761326 accuracy: 0.9795116782188416 \n",
            "avg train loss 30 iterations: 0.060311866813902736 accuracy: 0.979681134223938 \n",
            "avg train loss 30 iterations: 0.0598827832244655 accuracy: 0.9798387289047241 \n",
            "Epoch 23/60: val loss: 0.003113611552180373 accuracy: 0.9994419642857143 \n",
            "New weights tensor([1.0000, 1.0000, 1.0000, 1.0000, 1.0000, 1.0000, 1.0000, 0.9722, 1.0000]) \n",
            "Learning rate 1e-05 \n",
            "Epoch 24\n",
            "avg train loss 30 iterations: 0.05940445958245515 accuracy: 0.979999303817749 \n",
            "avg train loss 30 iterations: 0.058967302252514515 accuracy: 0.9801425933837891 \n",
            "avg train loss 30 iterations: 0.058519786434030684 accuracy: 0.980309784412384 \n",
            "avg train loss 30 iterations: 0.05808169810869316 accuracy: 0.9804567694664001 \n",
            "avg train loss 30 iterations: 0.057669087619681834 accuracy: 0.9806100130081177 \n",
            "Epoch 24/60: val loss: 0.0174085433037752 accuracy: 0.9955357142857143 \n",
            "New weights tensor([1.0000, 1.0000, 1.0000, 0.9687, 0.9712, 0.9378, 0.9668, 0.9745, 0.9439]) \n",
            "Learning rate 1e-05 \n",
            "Epoch 25\n",
            "avg train loss 30 iterations: 0.05723226955651935 accuracy: 0.9807659387588501 \n",
            "avg train loss 30 iterations: 0.05683263809428764 accuracy: 0.9808971285820007 \n",
            "avg train loss 30 iterations: 0.05645977476867258 accuracy: 0.9810345768928528 \n",
            "avg train loss 30 iterations: 0.056083229138805 accuracy: 0.9811615347862244 \n",
            "avg train loss 30 iterations: 0.055688834319198216 accuracy: 0.9812946915626526 \n",
            "Epoch 25/60: val loss: 0.023464560717651954 accuracy: 0.9916294642857143 \n",
            "New weights tensor([1.0000, 1.0000, 0.9165, 1.0000, 0.9403, 0.9400, 0.9705, 0.8825, 0.9116]) \n",
            "Learning rate 1e-05 \n",
            "Epoch 26\n",
            "avg train loss 30 iterations: 0.05527798190066449 accuracy: 0.9814471006393433 \n",
            "avg train loss 30 iterations: 0.05487033399413133 accuracy: 0.9815922379493713 \n",
            "avg train loss 30 iterations: 0.05450593235512881 accuracy: 0.9817270636558533 \n",
            "avg train loss 30 iterations: 0.05413942202574194 accuracy: 0.9818597435951233 \n",
            "avg train loss 30 iterations: 0.05376356483266576 accuracy: 0.9819904565811157 \n",
            "Epoch 26/60: val loss: 0.04788519133476906 accuracy: 0.984375 \n",
            "New weights tensor([1.0000, 1.0000, 0.8214, 1.0000, 0.9184, 0.9173, 0.8550, 0.8223, 0.8739]) \n",
            "Learning rate 1e-05 \n",
            "Epoch 27\n",
            "avg train loss 30 iterations: 0.05338757176534449 accuracy: 0.9821157455444336 \n",
            "avg train loss 30 iterations: 0.05302697753333543 accuracy: 0.9822503924369812 \n",
            "avg train loss 30 iterations: 0.05269144263734034 accuracy: 0.9823673963546753 \n",
            "avg train loss 30 iterations: 0.05234002696305662 accuracy: 0.9824826717376709 \n",
            "avg train loss 30 iterations: 0.05198993974306843 accuracy: 0.9826039671897888 \n",
            "Epoch 27/60: val loss: 0.03496211967909143 accuracy: 0.9916294642857143 \n",
            "New weights tensor([1.0000, 1.0000, 0.9406, 1.0000, 0.9423, 0.9382, 0.9153, 0.8831, 0.9394]) \n",
            "Learning rate 1.0000000000000002e-06 \n",
            "Epoch 28\n",
            "avg train loss 30 iterations: 0.05162563154730272 accuracy: 0.982735276222229 \n",
            "avg train loss 30 iterations: 0.05129456017465434 accuracy: 0.9828453660011292 \n",
            "avg train loss 30 iterations: 0.05095485148206585 accuracy: 0.9829688668251038 \n",
            "avg train loss 30 iterations: 0.05061351018732771 accuracy: 0.9830831289291382 \n",
            "avg train loss 30 iterations: 0.05031409253847665 accuracy: 0.9831958413124084 \n",
            "Epoch 28/60: val loss: 0.03752570974393166 accuracy: 0.9866071428571429 \n",
            "New weights tensor([1.0000, 1.0000, 0.9112, 1.0000, 0.8998, 0.9474, 0.8306, 0.8040, 0.9157]) \n",
            "Learning rate 1.0000000000000002e-06 \n",
            "Epoch 29\n",
            "avg train loss 30 iterations: 0.0499757237662877 accuracy: 0.9833181500434875 \n",
            "avg train loss 30 iterations: 0.04964790957357234 accuracy: 0.9834348559379578 \n",
            "avg train loss 30 iterations: 0.049340235544899344 accuracy: 0.9835427403450012 \n",
            "avg train loss 30 iterations: 0.04903285335133642 accuracy: 0.9836490750312805 \n",
            "avg train loss 30 iterations: 0.04873368740829725 accuracy: 0.9837468862533569 \n",
            "Epoch 29/60: val loss: 0.03677860711676268 accuracy: 0.9899553571428571 \n",
            "New weights tensor([1.0000, 1.0000, 0.9355, 0.9732, 0.8725, 0.9184, 0.9125, 0.9434, 0.9173]) \n",
            "Learning rate 1.0000000000000002e-06 \n",
            "Epoch 30\n",
            "avg train loss 30 iterations: 0.048449785303959665 accuracy: 0.9838398694992065 \n",
            "avg train loss 30 iterations: 0.04813683734697016 accuracy: 0.9839490652084351 \n",
            "avg train loss 30 iterations: 0.0478853531017264 accuracy: 0.9840148687362671 \n",
            "avg train loss 30 iterations: 0.04758166193528587 accuracy: 0.9841214418411255 \n",
            "avg train loss 30 iterations: 0.047286265656013335 accuracy: 0.984226644039154 \n",
            "Epoch 30/60: val loss: 0.040407853777521395 accuracy: 0.9893973214285714 \n",
            "New weights tensor([0.9705, 1.0000, 0.8853, 1.0000, 0.9702, 0.9400, 0.9445, 0.7389, 1.0000]) \n",
            "Learning rate 1.0000000000000002e-06 \n",
            "Epoch 31\n",
            "avg train loss 30 iterations: 0.04701838227637812 accuracy: 0.9843133091926575 \n",
            "avg train loss 30 iterations: 0.04680874844261205 accuracy: 0.9843885898590088 \n",
            "avg train loss 30 iterations: 0.04661643597196515 accuracy: 0.9844561815261841 \n",
            "avg train loss 30 iterations: 0.046400175602741726 accuracy: 0.9845295548439026 \n",
            "avg train loss 30 iterations: 0.04613871930333618 accuracy: 0.984622061252594 \n",
            "Epoch 31/60: val loss: 0.0017615194283280289 accuracy: 0.9994419642857143 \n",
            "New weights tensor([1.0000, 1.0000, 0.9711, 1.0000, 1.0000, 1.0000, 1.0000, 1.0000, 1.0000]) \n",
            "Learning rate 1.0000000000000002e-06 \n",
            "Epoch 32\n",
            "avg train loss 30 iterations: 0.04590540313379938 accuracy: 0.9846967458724976 \n",
            "avg train loss 30 iterations: 0.04569496542386471 accuracy: 0.9847737550735474 \n",
            "avg train loss 30 iterations: 0.04545380338838127 accuracy: 0.9848695397377014 \n",
            "avg train loss 30 iterations: 0.04522337930436446 accuracy: 0.9849445223808289 \n",
            "avg train loss 30 iterations: 0.04498498550758754 accuracy: 0.9850315451622009 \n",
            "Epoch 32/60: val loss: 0.0007922344797667133 accuracy: 1.0 \n",
            "New weights tensor([1., 1., 1., 1., 1., 1., 1., 1., 1.]) \n",
            "Learning rate 1.0000000000000002e-06 \n",
            "Epoch 33\n",
            "avg train loss 30 iterations: 0.04475826695459468 accuracy: 0.9851141571998596 \n",
            "avg train loss 30 iterations: 0.04454415219660065 accuracy: 0.9851862788200378 \n",
            "avg train loss 30 iterations: 0.0443791221155261 accuracy: 0.9852448105812073 \n",
            "avg train loss 30 iterations: 0.04416698529485001 accuracy: 0.985321581363678 \n",
            "avg train loss 30 iterations: 0.04393142503063339 accuracy: 0.9854037165641785 \n",
            "Epoch 33/60: val loss: 0.002421303220476797 accuracy: 0.9994419642857143 \n",
            "New weights tensor([1.0000, 1.0000, 1.0000, 1.0000, 1.0000, 1.0000, 0.9714, 1.0000, 1.0000]) \n",
            "Learning rate 1.0000000000000002e-06 \n",
            "Epoch 34\n",
            "avg train loss 30 iterations: 0.043709227939294076 accuracy: 0.9854752421379089 \n",
            "avg train loss 30 iterations: 0.043472202076705484 accuracy: 0.9855616688728333 \n",
            "avg train loss 30 iterations: 0.0432332885654986 accuracy: 0.9856470823287964 \n",
            "avg train loss 30 iterations: 0.043024221552326034 accuracy: 0.9857192039489746 \n",
            "avg train loss 30 iterations: 0.042809475190447886 accuracy: 0.985790491104126 \n",
            "Epoch 34/60: val loss: 0.0194784358344415 accuracy: 0.9938616071428571 \n",
            "New weights tensor([1.0000, 1.0000, 0.9394, 0.9685, 0.9434, 0.9682, 0.9668, 0.9745, 0.9173]) \n",
            "Learning rate 1.0000000000000002e-06 \n",
            "Epoch 35\n",
            "avg train loss 30 iterations: 0.04257918020069963 accuracy: 0.9858636856079102 \n",
            "avg train loss 30 iterations: 0.04235546357359139 accuracy: 0.9859453439712524 \n",
            "avg train loss 30 iterations: 0.04213667199654509 accuracy: 0.9860260486602783 \n",
            "avg train loss 30 iterations: 0.04191352680639779 accuracy: 0.9861057996749878 \n",
            "avg train loss 30 iterations: 0.04169509695546134 accuracy: 0.9861788153648376 \n",
            "Epoch 35/60: val loss: 0.022276641994722013 accuracy: 0.9921875 \n",
            "New weights tensor([0.9693, 1.0000, 0.9437, 1.0000, 0.9406, 0.9400, 0.9705, 0.8825, 0.9406]) \n",
            "Learning rate 1.0000000000000002e-06 \n",
            "Epoch 36\n",
            "avg train loss 30 iterations: 0.04147479255251653 accuracy: 0.9862534999847412 \n",
            "avg train loss 30 iterations: 0.04126063170598207 accuracy: 0.9863306879997253 \n",
            "avg train loss 30 iterations: 0.04107927829185149 accuracy: 0.9863837361335754 \n",
            "avg train loss 30 iterations: 0.040876288774269465 accuracy: 0.9864535331726074 \n",
            "avg train loss 30 iterations: 0.04067195099862947 accuracy: 0.9865282773971558 \n",
            "Epoch 36/60: val loss: 0.047088681114083944 accuracy: 0.9871651785714286 \n",
            "New weights tensor([1.0000, 1.0000, 0.8700, 1.0000, 0.9180, 0.9165, 0.9391, 0.8240, 0.8739]) \n",
            "Learning rate 1.0000000000000002e-06 \n",
            "Epoch 37\n",
            "avg train loss 30 iterations: 0.040490789183378485 accuracy: 0.9865875244140625 \n",
            "avg train loss 30 iterations: 0.040292286359530395 accuracy: 0.986655056476593 \n",
            "avg train loss 30 iterations: 0.04010472797313944 accuracy: 0.9867218732833862 \n",
            "avg train loss 30 iterations: 0.03990697092792961 accuracy: 0.986793577671051 \n",
            "avg train loss 30 iterations: 0.039705331576990445 accuracy: 0.9868645071983337 \n",
            "Epoch 37/60: val loss: 0.03198653321695539 accuracy: 0.9921875 \n",
            "New weights tensor([1.0000, 1.0000, 0.9406, 1.0000, 0.9426, 0.9382, 0.9141, 0.9112, 0.9400]) \n",
            "Learning rate 1.0000000000000002e-06 \n",
            "Epoch 38\n",
            "avg train loss 30 iterations: 0.039507347042601094 accuracy: 0.9869314432144165 \n",
            "avg train loss 30 iterations: 0.03931987703770011 accuracy: 0.9870008230209351 \n",
            "avg train loss 30 iterations: 0.039148847482162866 accuracy: 0.9870585203170776 \n",
            "avg train loss 30 iterations: 0.038964921416726486 accuracy: 0.9871211051940918 \n",
            "avg train loss 30 iterations: 0.03877420946484728 accuracy: 0.9871883988380432 \n",
            "Epoch 38/60: val loss: 0.035097300238443756 accuracy: 0.9905133928571429 \n",
            "New weights tensor([1.0000, 1.0000, 0.9107, 1.0000, 0.8683, 0.9736, 0.9701, 0.8282, 0.9434]) \n",
            "Learning rate 1.0000000000000002e-07 \n",
            "Epoch 39\n",
            "avg train loss 30 iterations: 0.0385904242635994 accuracy: 0.9872573018074036 \n",
            "avg train loss 30 iterations: 0.038419074044699277 accuracy: 0.9873232245445251 \n",
            "avg train loss 30 iterations: 0.038245078989997454 accuracy: 0.9873831272125244 \n",
            "avg train loss 30 iterations: 0.03806774571598798 accuracy: 0.9874477386474609 \n",
            "avg train loss 30 iterations: 0.03791165778485814 accuracy: 0.9875010848045349 \n",
            "Epoch 39/60: val loss: 0.03591252660927629 accuracy: 0.9854910714285714 \n",
            "New weights tensor([1.0000, 1.0000, 0.8752, 0.9469, 0.8732, 0.8672, 0.9699, 0.8635, 0.8660]) \n",
            "Learning rate 1.0000000000000002e-07 \n",
            "Epoch 40\n",
            "avg train loss 30 iterations: 0.037746533351137965 accuracy: 0.987550675868988 \n",
            "avg train loss 30 iterations: 0.03757766604447255 accuracy: 0.9876081943511963 \n",
            "avg train loss 30 iterations: 0.037402666761417125 accuracy: 0.987670361995697 \n",
            "avg train loss 30 iterations: 0.03723367601577204 accuracy: 0.98773193359375 \n",
            "avg train loss 30 iterations: 0.037071866839777576 accuracy: 0.9877877235412598 \n",
            "Epoch 40/60: val loss: 0.03229857517119074 accuracy: 0.9910714285714286 \n",
            "New weights tensor([1.0000, 1.0000, 0.9412, 1.0000, 1.0000, 0.9125, 0.9177, 0.7648, 1.0000]) \n",
            "Learning rate 1.0000000000000002e-07 \n",
            "Epoch 41\n",
            "avg train loss 30 iterations: 0.036930205464300814 accuracy: 0.987834632396698 \n",
            "avg train loss 30 iterations: 0.036809838062666835 accuracy: 0.9878790974617004 \n",
            "avg train loss 30 iterations: 0.03666103639824531 accuracy: 0.9879231452941895 \n",
            "avg train loss 30 iterations: 0.036536131771625555 accuracy: 0.9879616498947144 \n",
            "avg train loss 30 iterations: 0.03638289370409143 accuracy: 0.9880200028419495 \n",
            "Epoch 41/60: val loss: 0.0017691418407983811 accuracy: 0.9994419642857143 \n",
            "New weights tensor([1.0000, 1.0000, 0.9712, 1.0000, 1.0000, 1.0000, 1.0000, 1.0000, 1.0000]) \n",
            "Learning rate 1.0000000000000002e-07 \n",
            "Epoch 42\n",
            "avg train loss 30 iterations: 0.0362887254785707 accuracy: 0.988039493560791 \n",
            "avg train loss 30 iterations: 0.0361712361838856 accuracy: 0.9880819320678711 \n",
            "avg train loss 30 iterations: 0.036056238392665314 accuracy: 0.988123893737793 \n",
            "avg train loss 30 iterations: 0.03592358033214249 accuracy: 0.9881704449653625 \n",
            "avg train loss 30 iterations: 0.03582402807841582 accuracy: 0.9882116317749023 \n",
            "Epoch 42/60: val loss: 0.0007248316655282647 accuracy: 1.0 \n",
            "New weights tensor([1., 1., 1., 1., 1., 1., 1., 1., 1.]) \n",
            "Learning rate 1.0000000000000002e-07 \n",
            "Epoch 43\n",
            "avg train loss 30 iterations: 0.03572268280854898 accuracy: 0.988239586353302 \n",
            "avg train loss 30 iterations: 0.03559909751422901 accuracy: 0.9882848858833313 \n",
            "avg train loss 30 iterations: 0.03549555992833632 accuracy: 0.9883201122283936 \n",
            "avg train loss 30 iterations: 0.035355382073600485 accuracy: 0.9883695244789124 \n",
            "avg train loss 30 iterations: 0.03522961983360065 accuracy: 0.9884136319160461 \n",
            "Epoch 43/60: val loss: 0.0021153953656331786 accuracy: 0.9994419642857143 \n",
            "New weights tensor([1.0000, 1.0000, 0.9695, 1.0000, 1.0000, 1.0000, 1.0000, 1.0000, 1.0000]) \n",
            "Learning rate 1.0000000000000002e-07 \n",
            "Epoch 44\n",
            "avg train loss 30 iterations: 0.03510191915284869 accuracy: 0.9884638786315918 \n",
            "avg train loss 30 iterations: 0.03496392996633769 accuracy: 0.9885166883468628 \n",
            "avg train loss 30 iterations: 0.034825135261854094 accuracy: 0.9885643124580383 \n",
            "avg train loss 30 iterations: 0.0346790003834636 accuracy: 0.9886161684989929 \n",
            "avg train loss 30 iterations: 0.03453547124870346 accuracy: 0.9886676073074341 \n",
            "Epoch 44/60: val loss: 0.019145105903070152 accuracy: 0.9938616071428571 \n",
            "New weights tensor([1.0000, 1.0000, 0.9112, 0.9687, 0.9711, 0.9685, 0.9344, 0.9745, 0.9439]) \n",
            "Learning rate 1.0000000000000002e-07 \n",
            "Epoch 45\n",
            "avg train loss 30 iterations: 0.03439570015015938 accuracy: 0.9887155294418335 \n",
            "avg train loss 30 iterations: 0.03427119052634039 accuracy: 0.9887520670890808 \n",
            "avg train loss 30 iterations: 0.034149299041248964 accuracy: 0.988792896270752 \n",
            "avg train loss 30 iterations: 0.03402270186321652 accuracy: 0.9888333678245544 \n",
            "avg train loss 30 iterations: 0.033895472869460076 accuracy: 0.988878071308136 \n",
            "Epoch 45/60: val loss: 0.030015487746433273 accuracy: 0.9916294642857143 \n",
            "New weights tensor([1.0000, 1.0000, 0.9161, 0.9693, 0.9406, 0.9397, 0.9707, 0.8825, 0.9403]) \n",
            "Learning rate 1.0000000000000002e-07 \n",
            "Epoch 46\n",
            "avg train loss 30 iterations: 0.033773108601983556 accuracy: 0.9889194369316101 \n",
            "avg train loss 30 iterations: 0.03363922678646609 accuracy: 0.9889633655548096 \n",
            "avg train loss 30 iterations: 0.03351634783628056 accuracy: 0.9890068769454956 \n",
            "avg train loss 30 iterations: 0.03339625488606031 accuracy: 0.9890500903129578 \n",
            "avg train loss 30 iterations: 0.03328578109145112 accuracy: 0.9890883564949036 \n",
            "Epoch 46/60: val loss: 0.051095477912115585 accuracy: 0.9854910714285714 \n",
            "New weights tensor([1.0000, 1.0000, 0.8199, 1.0000, 0.9722, 0.8915, 0.8825, 0.8492, 0.8453]) \n",
            "Learning rate 1.0000000000000002e-07 \n",
            "Epoch 47\n",
            "avg train loss 30 iterations: 0.03315146794698966 accuracy: 0.9891368746757507 \n",
            "avg train loss 30 iterations: 0.03302412945543196 accuracy: 0.9891833662986755 \n",
            "avg train loss 30 iterations: 0.032904640139390644 accuracy: 0.9892295002937317 \n",
            "avg train loss 30 iterations: 0.03278486217339263 accuracy: 0.9892663955688477 \n",
            "avg train loss 30 iterations: 0.03266960964982651 accuracy: 0.9893073439598083 \n",
            "Epoch 47/60: val loss: 0.026105290291785162 accuracy: 0.9905133928571429 \n",
            "New weights tensor([1.0000, 1.0000, 0.9400, 0.9714, 0.9423, 0.9378, 0.8885, 0.9116, 0.9107]) \n",
            "Learning rate 1.0000000000000002e-07 \n",
            "Epoch 48\n",
            "avg train loss 30 iterations: 0.032541547801634145 accuracy: 0.9893494844436646 \n",
            "avg train loss 30 iterations: 0.03241867318034552 accuracy: 0.9893941283226013 \n",
            "avg train loss 30 iterations: 0.032294707303063185 accuracy: 0.9894384145736694 \n",
            "avg train loss 30 iterations: 0.03217483407085217 accuracy: 0.9894822835922241 \n",
            "avg train loss 30 iterations: 0.03206316727653677 accuracy: 0.9895215034484863 \n",
            "Epoch 48/60: val loss: 0.03472471530845463 accuracy: 0.9893973214285714 \n",
            "New weights tensor([0.9698, 1.0000, 0.8831, 1.0000, 0.8676, 0.9737, 0.9120, 0.8836, 0.9431]) \n",
            "Learning rate 1.0000000000000004e-08 \n",
            "Epoch 49\n",
            "avg train loss 30 iterations: 0.031943097406983666 accuracy: 0.9895618557929993 \n",
            "avg train loss 30 iterations: 0.03183283480667876 accuracy: 0.989600419998169 \n",
            "avg train loss 30 iterations: 0.03171759741190375 accuracy: 0.9896429777145386 \n",
            "avg train loss 30 iterations: 0.03160546943798282 accuracy: 0.9896808862686157 \n",
            "avg train loss 30 iterations: 0.03148766460457218 accuracy: 0.989722728729248 \n",
            "Epoch 49/60: val loss: 0.03271648438580347 accuracy: 0.9910714285714286 \n",
            "New weights tensor([1.0000, 1.0000, 0.9051, 1.0000, 0.9046, 0.9450, 0.9403, 0.8895, 0.9439]) \n",
            "Learning rate 1.0000000000000004e-08 \n",
            "Epoch 50\n",
            "avg train loss 30 iterations: 0.03136757768620269 accuracy: 0.9897656440734863 \n",
            "avg train loss 30 iterations: 0.03125492843709625 accuracy: 0.9898067712783813 \n",
            "avg train loss 30 iterations: 0.031151567935679737 accuracy: 0.9898434281349182 \n",
            "avg train loss 30 iterations: 0.03104197624948167 accuracy: 0.9898839592933655 \n",
            "avg train loss 30 iterations: 0.030928511305166734 accuracy: 0.9899241328239441 \n",
            "Epoch 50/60: val loss: 0.0425367119353593 accuracy: 0.9871651785714286 \n",
            "New weights tensor([1.0000, 1.0000, 0.9137, 1.0000, 0.9704, 0.8842, 0.8654, 0.7124, 1.0000]) \n",
            "Learning rate 1.0000000000000004e-08 \n",
            "Epoch 51\n",
            "avg train loss 30 iterations: 0.030842259235194285 accuracy: 0.9899529814720154 \n",
            "avg train loss 30 iterations: 0.030750187930791404 accuracy: 0.989976167678833 \n",
            "avg train loss 30 iterations: 0.030691663849775924 accuracy: 0.9899950623512268 \n",
            "avg train loss 30 iterations: 0.030593468293948444 accuracy: 0.9900301694869995 \n",
            "avg train loss 30 iterations: 0.030493067947408907 accuracy: 0.9900689721107483 \n",
            "Epoch 51/60: val loss: 0.0006445418238659581 accuracy: 1.0 \n",
            "New weights tensor([1., 1., 1., 1., 1., 1., 1., 1., 1.]) \n",
            "Learning rate 1.0000000000000004e-08 \n",
            "Epoch 52\n",
            "avg train loss 30 iterations: 0.03042473626585521 accuracy: 0.9900885820388794 \n",
            "avg train loss 30 iterations: 0.030368535031558556 accuracy: 0.9901108145713806 \n",
            "avg train loss 30 iterations: 0.030294034955363956 accuracy: 0.9901328682899475 \n",
            "avg train loss 30 iterations: 0.030207365872425455 accuracy: 0.9901667237281799 \n",
            "avg train loss 30 iterations: 0.030113029032056725 accuracy: 0.9902002811431885 \n",
            "Epoch 52/60: val loss: 0.0006793224330457244 accuracy: 1.0 \n",
            "New weights tensor([1., 1., 1., 1., 1., 1., 1., 1., 1.]) \n",
            "Learning rate 1.0000000000000004e-08 \n",
            "Epoch 53\n",
            "avg train loss 30 iterations: 0.030024679959069486 accuracy: 0.990230917930603 \n",
            "avg train loss 30 iterations: 0.02997371611859266 accuracy: 0.9902521371841431 \n",
            "avg train loss 30 iterations: 0.029877071361130728 accuracy: 0.9902889728546143 \n",
            "avg train loss 30 iterations: 0.02978789907200864 accuracy: 0.9903137683868408 \n",
            "avg train loss 30 iterations: 0.02968434156085072 accuracy: 0.990350067615509 \n",
            "Epoch 53/60: val loss: 0.002991016954443434 accuracy: 0.9988839285714286 \n",
            "New weights tensor([1.0000, 1.0000, 1.0000, 1.0000, 1.0000, 1.0000, 1.0000, 0.9720, 0.9705]) \n",
            "Learning rate 1.0000000000000004e-08 \n",
            "Epoch 54\n",
            "avg train loss 30 iterations: 0.02957865159091185 accuracy: 0.9903873205184937 \n",
            "avg train loss 30 iterations: 0.02948820021309456 accuracy: 0.9904192090034485 \n",
            "avg train loss 30 iterations: 0.02938643472216576 accuracy: 0.9904547333717346 \n",
            "avg train loss 30 iterations: 0.029310321610149653 accuracy: 0.9904783964157104 \n",
            "avg train loss 30 iterations: 0.029219064100492992 accuracy: 0.9905058145523071 \n",
            "Epoch 54/60: val loss: 0.016857115877168587 accuracy: 0.9955357142857143 \n",
            "New weights tensor([1.0000, 1.0000, 0.9400, 0.9687, 0.9714, 1.0000, 1.0000, 0.9492, 0.9437]) \n",
            "Learning rate 1.0000000000000004e-08 \n",
            "Epoch 55\n",
            "avg train loss 30 iterations: 0.029120260972947624 accuracy: 0.9905417561531067 \n",
            "avg train loss 30 iterations: 0.029027100645372544 accuracy: 0.9905725121498108 \n",
            "avg train loss 30 iterations: 0.02894602758619842 accuracy: 0.9905992150306702 \n",
            "avg train loss 30 iterations: 0.028854030043284164 accuracy: 0.9906295537948608 \n",
            "avg train loss 30 iterations: 0.028768650923872336 accuracy: 0.9906595945358276 \n",
            "Epoch 55/60: val loss: 0.028859459288599152 accuracy: 0.9910714285714286 \n",
            "New weights tensor([1.0000, 1.0000, 0.9165, 0.9693, 0.9120, 0.9403, 0.9704, 0.8831, 0.9403]) \n",
            "Learning rate 1.0000000000000004e-08 \n",
            "Epoch 56\n",
            "avg train loss 30 iterations: 0.02868189637791253 accuracy: 0.9906905889511108 \n",
            "avg train loss 30 iterations: 0.02861315554241397 accuracy: 0.9907090663909912 \n",
            "avg train loss 30 iterations: 0.028520269143782404 accuracy: 0.9907422661781311 \n",
            "avg train loss 30 iterations: 0.028439711379513417 accuracy: 0.990767776966095 \n",
            "avg train loss 30 iterations: 0.028347823349930232 accuracy: 0.9908005595207214 \n",
            "Epoch 56/60: val loss: 0.049882836497740106 accuracy: 0.9832589285714286 \n",
            "New weights tensor([1.0000, 1.0000, 0.8199, 0.9664, 0.9447, 0.8910, 0.8543, 0.8232, 0.8453]) \n",
            "Learning rate 1.0000000000000004e-08 \n",
            "Epoch 57\n",
            "avg train loss 30 iterations: 0.028261511301257095 accuracy: 0.9908304810523987 \n",
            "avg train loss 30 iterations: 0.028173677777156396 accuracy: 0.9908627867698669 \n",
            "avg train loss 30 iterations: 0.028091281447939622 accuracy: 0.9908912181854248 \n",
            "avg train loss 30 iterations: 0.02803286281773801 accuracy: 0.9909157752990723 \n",
            "avg train loss 30 iterations: 0.027956084712685715 accuracy: 0.9909402132034302 \n",
            "Epoch 57/60: val loss: 0.026171099489667022 accuracy: 0.9910714285714286 \n",
            "New weights tensor([1.0000, 1.0000, 0.9397, 1.0000, 0.9426, 0.9378, 0.8890, 0.9400, 0.8825]) \n",
            "Learning rate 1.0000000000000004e-08 \n",
            "Epoch 58\n",
            "avg train loss 30 iterations: 0.027863301714152203 accuracy: 0.9909726977348328 \n",
            "avg train loss 30 iterations: 0.02779707556307516 accuracy: 0.9909967184066772 \n",
            "avg train loss 30 iterations: 0.027720973388400433 accuracy: 0.9910241961479187 \n",
            "avg train loss 30 iterations: 0.027646161677522017 accuracy: 0.9910514950752258 \n",
            "avg train loss 30 iterations: 0.027585748141144346 accuracy: 0.9910678863525391 \n",
            "Epoch 58/60: val loss: 0.03487634121743862 accuracy: 0.9888392857142857 \n",
            "New weights tensor([1.0000, 1.0000, 0.9107, 1.0000, 0.8690, 0.9736, 0.9409, 0.8040, 0.9153]) \n",
            "Learning rate 1.0000000000000004e-08 \n",
            "Epoch 59\n",
            "avg train loss 30 iterations: 0.02750495967262672 accuracy: 0.9910993576049805 \n",
            "avg train loss 30 iterations: 0.027427918033531982 accuracy: 0.9911261200904846 \n",
            "avg train loss 30 iterations: 0.027341810200453967 accuracy: 0.9911562204360962 \n",
            "avg train loss 30 iterations: 0.02726648505812312 accuracy: 0.9911825656890869 \n",
            "avg train loss 30 iterations: 0.027191708960615606 accuracy: 0.9912052154541016 \n",
            "Epoch 59/60: val loss: 0.035277752766757785 accuracy: 0.9899553571428571 \n",
            "New weights tensor([1.0000, 1.0000, 0.9359, 1.0000, 0.9355, 0.9442, 0.9120, 0.8635, 0.8905]) \n",
            "Learning rate 1.0000000000000004e-08 \n",
            "Epoch 60\n",
            "avg train loss 30 iterations: 0.02710886126767685 accuracy: 0.9912357330322266 \n",
            "avg train loss 30 iterations: 0.027046386882855777 accuracy: 0.9912615418434143 \n",
            "avg train loss 30 iterations: 0.02697450884043586 accuracy: 0.9912872314453125 \n",
            "avg train loss 30 iterations: 0.026903540400547318 accuracy: 0.9913127422332764 \n",
            "avg train loss 30 iterations: 0.026828413012262513 accuracy: 0.9913414716720581 \n",
            "Epoch 60/60: val loss: 0.034503860295704465 accuracy: 0.9899553571428571 \n",
            "New weights tensor([1.0000, 1.0000, 0.8864, 1.0000, 1.0000, 0.9397, 0.8915, 0.7648, 1.0000]) \n",
            "Learning rate 1.0000000000000004e-08 \n",
            "\n",
            "train done\n"
          ]
        }
      ]
    },
    {
      "cell_type": "code",
      "source": [
        "model.save(\"best_1\")"
      ],
      "metadata": {
        "id": "mcFJvO-bi9jn"
      },
      "execution_count": null,
      "outputs": []
    },
    {
      "cell_type": "code",
      "source": [
        "model.load(\"best_1\")\n",
        "#model.load(\"best_model\")"
      ],
      "metadata": {
        "colab": {
          "base_uri": "https://localhost:8080/"
        },
        "id": "fymTdho5ZWFW",
        "outputId": "32935409-ec79-4b7c-90e2-8f2ed5ec467b"
      },
      "execution_count": 27,
      "outputs": [
        {
          "output_type": "stream",
          "name": "stderr",
          "text": [
            "Downloading...\n",
            "From (original): https://drive.google.com/uc?id=1-3gFYm4uEM4eOg8niDPqdNYICLobtMID\n",
            "From (redirected): https://drive.google.com/uc?id=1-3gFYm4uEM4eOg8niDPqdNYICLobtMID&confirm=t&uuid=5e38c17f-7312-4c09-8832-f124056c1232\n",
            "To: /content/best_1.pth\n",
            "100%|██████████| 44.8M/44.8M [00:00<00:00, 59.9MB/s]\n",
            "<ipython-input-24-8312645e3f37>:20: FutureWarning: You are using `torch.load` with `weights_only=False` (the current default value), which uses the default pickle module implicitly. It is possible to construct malicious pickle data which will execute arbitrary code during unpickling (See https://github.com/pytorch/pytorch/blob/main/SECURITY.md#untrusted-models for more details). In a future release, the default value for `weights_only` will be flipped to `True`. This limits the functions that could be executed during unpickling. Arbitrary objects will no longer be allowed to be loaded via this mode unless they are explicitly allowlisted by the user via `torch.serialization.add_safe_globals`. We recommend you start setting `weights_only=True` for any use case where you don't have full control of the loaded file. Please open an issue on GitHub for any issues related to this experimental feature.\n",
            "  self.model.load_state_dict(torch.load(output))\n"
          ]
        }
      ]
    },
    {
      "cell_type": "markdown",
      "metadata": {
        "id": "CcM2EiRMVP93"
      },
      "source": [
        "Пример тестирования модели на части набора данных:"
      ]
    },
    {
      "cell_type": "code",
      "execution_count": 28,
      "metadata": {
        "id": "I0AqmeLEKqrs",
        "colab": {
          "base_uri": "https://localhost:8080/",
          "height": 140,
          "referenced_widgets": [
            "1c96151c3e924303b0d32240b69cfd93",
            "186593733b9245d2bb1eecda428efe18",
            "1cefdad0743c40fc81b819c06b6bd049",
            "d0aeb84ff06a4968b27a70cc05ee8b18",
            "65321c1f77b34991a0be8d0cc9a83d2b",
            "93279540661a493a8e72a82c224cd5ba",
            "658ad3bdc2d94b3eb55e389d766abe11",
            "ecead0ffae47494e9c22c05eb87569bc",
            "221952c4d17b4bab9cb3de9a6ac657b6",
            "59cbc1b56ea343ff9e5e15c6626c19b9",
            "42d6420c03a241079c9ddade0f6a7171"
          ]
        },
        "outputId": "9d89a553-24fd-4655-e836-14a0b780d44a"
      },
      "outputs": [
        {
          "output_type": "display_data",
          "data": {
            "text/plain": [
              "  0%|          | 0/450 [00:00<?, ?it/s]"
            ],
            "application/vnd.jupyter.widget-view+json": {
              "version_major": 2,
              "version_minor": 0,
              "model_id": "1c96151c3e924303b0d32240b69cfd93"
            }
          },
          "metadata": {}
        },
        {
          "output_type": "stream",
          "name": "stdout",
          "text": [
            "metrics for 10% of test:\n",
            "\t accuracy 1.0000:\n",
            "\t balanced accuracy 1.0000:\n"
          ]
        },
        {
          "output_type": "stream",
          "name": "stderr",
          "text": [
            "/usr/local/lib/python3.10/dist-packages/sklearn/metrics/_classification.py:409: UserWarning: A single label was found in 'y_true' and 'y_pred'. For the confusion matrix to have the correct shape, use the 'labels' parameter to pass all known labels.\n",
            "  warnings.warn(\n"
          ]
        }
      ],
      "source": [
        "# evaluating model on 10% of test dataset\n",
        "pred_1 = model.test_on_dataset(d_test, limit=0.1)\n",
        "#confi_matrix(d_test.labels[:len(pred_1)], pred_1, TISSUE_CLASSES)\n",
        "Metrics.print_all(d_test.labels[:len(pred_1)], pred_1, '10% of test')"
      ]
    },
    {
      "cell_type": "markdown",
      "metadata": {
        "id": "mSwvHVVzVWZ5"
      },
      "source": [
        "Пример тестирования модели на полном наборе данных:"
      ]
    },
    {
      "cell_type": "code",
      "execution_count": 29,
      "metadata": {
        "id": "mjI_sbMi3TMY",
        "colab": {
          "base_uri": "https://localhost:8080/",
          "height": 1000,
          "referenced_widgets": [
            "a5d70fd2e9624057a83253b216cc15f9",
            "c68f0a9464aa4a9d81e9a5e56dfeddce",
            "5ae3a2252ed5492caad2834b76bba97b",
            "5c3445ec47cf4a1799641c797c2179e6",
            "2c81a86767954dfeadb5aff9126a4ef3",
            "66603583a6cf47f2a6a22ed2e6e3c1a8",
            "4d79f426f0694927820a7daaf5c11302",
            "bb909b47f75641068b18a46c711a6c6e",
            "3a2465f4027f457a9cfa4180ecbd1df9",
            "9bbc12266480457db03f54db5ea4203b",
            "40015dff7033414eb68d8233d1caf8f2"
          ]
        },
        "outputId": "f9f62f43-69db-45f2-c9e6-aab1c5aee6b1"
      },
      "outputs": [
        {
          "output_type": "display_data",
          "data": {
            "text/plain": [
              "  0%|          | 0/4500 [00:00<?, ?it/s]"
            ],
            "application/vnd.jupyter.widget-view+json": {
              "version_major": 2,
              "version_minor": 0,
              "model_id": "a5d70fd2e9624057a83253b216cc15f9"
            }
          },
          "metadata": {}
        },
        {
          "output_type": "display_data",
          "data": {
            "text/plain": [
              "<Figure size 1000x800 with 2 Axes>"
            ],
            "image/png": "[encoded data removed]"
          },
          "metadata": {}
        },
        {
          "output_type": "stream",
          "name": "stdout",
          "text": [
            "Class          True Positive (TP)  False Positive (FP) \n",
            "-------------------------------------------------------\n",
            "ADI            500                 0                   \n",
            "BACK           499                 0                   \n",
            "DEB            490                 11                  \n",
            "LYM            500                 0                   \n",
            "MUC            494                 7                   \n",
            "MUS            497                 15                  \n",
            "NORM           492                 4                   \n",
            "STR            482                 10                  \n",
            "TUM            492                 7                   \n",
            "metrics for test:\n",
            "\t accuracy 0.9880:\n",
            "\t balanced accuracy 0.9880:\n"
          ]
        }
      ],
      "source": [
        "# evaluating model on full test dataset (may take time)\n",
        "if TEST_ON_LARGE_DATASET:\n",
        "    pred_2 = model.test_on_dataset(d_test)\n",
        "    confi_matrix(d_test.labels, pred_2,  TISSUE_CLASSES)\n",
        "    Metrics.print_all(d_test.labels, pred_2, 'test')"
      ]
    },
    {
      "cell_type": "markdown",
      "metadata": {
        "id": "kvyEHdxEB18o"
      },
      "source": [
        "Результат работы пайплайна обучения и тестирования выше тоже будет оцениваться. Поэтому не забудьте присылать на проверку ноутбук с выполнеными ячейками кода с демонстрациями метрик обучения, графиками и т.п. В этом пайплайне Вам необходимо продемонстрировать работу всех реализованных дополнений, улучшений и т.п.\n",
        "\n",
        "<font color=\"red\">\n",
        "Настоятельно рекомендуется после получения пайплайна с полными результатами обучения экспортировать ноутбук в pdf (файл -> печать) и прислать этот pdf вместе с самим ноутбуком.\n",
        "</font>"
      ]
    },
    {
      "cell_type": "markdown",
      "metadata": {
        "id": "RzSKAvVI6uCW"
      },
      "source": [
        "### Тестирование модели на других наборах данных\n",
        "\n",
        "Ваша модель должна поддерживать тестирование на других наборах данных. Для удобства, Вам предоставляется набор данных test_tiny, который представляет собой малую часть (2% изображений) набора test. Ниже приведен фрагмент кода, который будет осуществлять тестирование для оценивания Вашей модели на дополнительных тестовых наборах данных.\n",
        "\n",
        "<font color=\"red\">\n",
        "Прежде чем отсылать задание на проверку, убедитесь в работоспособности фрагмента кода ниже.\n",
        "</font>"
      ]
    },
    {
      "cell_type": "code",
      "execution_count": 30,
      "metadata": {
        "id": "sdY3uTt87tqv",
        "colab": {
          "base_uri": "https://localhost:8080/",
          "height": 431,
          "referenced_widgets": [
            "5cee8abaf16e42eca00d831f7786c80b",
            "9ab77afdf9db4950b556969021b48f83",
            "97686b6494094b6ba777ed462bbf28f0",
            "fee402911d254aa9bea6f7640ee595f9",
            "a006515d89774f55b249a1c6db0e2469",
            "12950c1c788d48c2b054d5b1f835c3bb",
            "fea057b9f2da410995ba3e52cbe5f2a5",
            "24fce77f5c7442039ec924ea6055793d",
            "8d3afecd9ad9452592bfca591cdcadc6",
            "da318c0a0dfd4278b79f0cfff6dafd67",
            "6d1d4b73e5ed4f478452e21dc8f829f1"
          ]
        },
        "outputId": "19383e6a-b169-44ac-dce2-4b27f4e0e333"
      },
      "outputs": [
        {
          "output_type": "stream",
          "name": "stderr",
          "text": [
            "/usr/local/lib/python3.10/dist-packages/torchvision/models/_utils.py:208: UserWarning: The parameter 'pretrained' is deprecated since 0.13 and may be removed in the future, please use 'weights' instead.\n",
            "  warnings.warn(\n",
            "/usr/local/lib/python3.10/dist-packages/torchvision/models/_utils.py:223: UserWarning: Arguments other than a weight enum or `None` for 'weights' are deprecated since 0.13 and may be removed in the future. The current behavior is equivalent to passing `weights=ResNet18_Weights.IMAGENET1K_V1`. You can also use `weights=ResNet18_Weights.DEFAULT` to get the most up-to-date weights.\n",
            "  warnings.warn(msg)\n",
            "Downloading...\n",
            "From (original): https://drive.google.com/uc?id=1L9PiS1JbKKOnxaGleh85wfz_yP5lf0H8\n",
            "From (redirected): https://drive.google.com/uc?id=1L9PiS1JbKKOnxaGleh85wfz_yP5lf0H8&confirm=t&uuid=6c5c6619-333c-44c5-86e1-399aed643f53\n",
            "To: /content/best_model.pth\n",
            "100%|██████████| 44.8M/44.8M [00:01<00:00, 34.3MB/s]\n",
            "<ipython-input-24-8312645e3f37>:20: FutureWarning: You are using `torch.load` with `weights_only=False` (the current default value), which uses the default pickle module implicitly. It is possible to construct malicious pickle data which will execute arbitrary code during unpickling (See https://github.com/pytorch/pytorch/blob/main/SECURITY.md#untrusted-models for more details). In a future release, the default value for `weights_only` will be flipped to `True`. This limits the functions that could be executed during unpickling. Arbitrary objects will no longer be allowed to be loaded via this mode unless they are explicitly allowlisted by the user via `torch.serialization.add_safe_globals`. We recommend you start setting `weights_only=True` for any use case where you don't have full control of the loaded file. Please open an issue on GitHub for any issues related to this experimental feature.\n",
            "  self.model.load_state_dict(torch.load(output))\n",
            "Downloading...\n",
            "From: https://drive.google.com/uc?export=download&confirm=pbef&id=1F0ve7Cl7c7Ln-7hoQLbFauaAjsVAh1g7\n",
            "To: /content/test_tiny.npz\n",
            "100%|██████████| 10.6M/10.6M [00:00<00:00, 126MB/s]"
          ]
        },
        {
          "output_type": "stream",
          "name": "stdout",
          "text": [
            "Loading dataset test_tiny from npz.\n",
            "Done. Dataset test_tiny consists of 90 images.\n"
          ]
        },
        {
          "output_type": "stream",
          "name": "stderr",
          "text": [
            "\n"
          ]
        },
        {
          "output_type": "display_data",
          "data": {
            "text/plain": [
              "  0%|          | 0/90 [00:00<?, ?it/s]"
            ],
            "application/vnd.jupyter.widget-view+json": {
              "version_major": 2,
              "version_minor": 0,
              "model_id": "5cee8abaf16e42eca00d831f7786c80b"
            }
          },
          "metadata": {}
        },
        {
          "output_type": "stream",
          "name": "stdout",
          "text": [
            "metrics for test-tiny:\n",
            "\t accuracy 0.9667:\n",
            "\t balanced accuracy 0.9667:\n"
          ]
        }
      ],
      "source": [
        "final_model = Model()\n",
        "final_model.load('best_model')\n",
        "d_test_tiny = Dataset('test_tiny')\n",
        "pred = model.test_on_dataset(d_test_tiny)\n",
        "Metrics.print_all(d_test_tiny.labels, pred, 'test-tiny')"
      ]
    },
    {
      "cell_type": "markdown",
      "metadata": {
        "id": "lPvyj4gscU10"
      },
      "source": [
        "Отмонтировать Google Drive."
      ]
    },
    {
      "cell_type": "code",
      "execution_count": 31,
      "metadata": {
        "id": "NfX35zNSvFWn",
        "colab": {
          "base_uri": "https://localhost:8080/"
        },
        "outputId": "fe9f61cd-9f28-4531-e6b7-cfcffe3e0984"
      },
      "outputs": [
        {
          "output_type": "stream",
          "name": "stderr",
          "text": [
            "/usr/local/lib/python3.10/dist-packages/ipykernel/ipkernel.py:283: DeprecationWarning: `should_run_async` will not call `transform_cell` automatically in the future. Please pass the result to `transformed_cell` argument and any exception that happen during thetransform in `preprocessing_exc_tuple` in IPython 7.17 and above.\n",
            "  and should_run_async(code)\n"
          ]
        }
      ],
      "source": [
        "drive.flush_and_unmount()"
      ]
    },
    {
      "cell_type": "markdown",
      "metadata": {
        "id": "RMyDxCDCspcI"
      },
      "source": [
        "---\n",
        "# Дополнительные \"полезности\"\n",
        "\n",
        "Ниже приведены примеры использования различных функций и библиотек, которые могут быть полезны при выполнении данного практического задания."
      ]
    },
    {
      "cell_type": "markdown",
      "metadata": {
        "id": "VvLwSttCs1rB"
      },
      "source": [
        "### Измерение времени работы кода\n",
        "\n",
        "Измерять время работы какой-либо функции можно легко и непринужденно при помощи функции timeit из соответствующего модуля:"
      ]
    },
    {
      "cell_type": "code",
      "execution_count": null,
      "metadata": {
        "id": "-HnLVhwE9C9S"
      },
      "outputs": [],
      "source": [
        "import timeit\n",
        "\n",
        "def factorial(n):\n",
        "    res = 1\n",
        "    for i in range(1, n + 1):\n",
        "        res *= i\n",
        "    return res\n",
        "\n",
        "\n",
        "def f():\n",
        "    return factorial(n=1000)\n",
        "\n",
        "n_runs = 128\n",
        "print(f'Function f is caluclated {n_runs} times in {timeit.timeit(f, number=n_runs)}s.')"
      ]
    },
    {
      "cell_type": "markdown",
      "metadata": {
        "id": "fibGVEdguOOi"
      },
      "source": [
        "### Scikit-learn\n",
        "\n",
        "Для использования \"классических\" алгоритмов машинного обучения рекомендуется использовать библиотеку scikit-learn (https://scikit-learn.org/stable/). Пример классификации изображений цифр из набора данных MNIST при помощи классификатора SVM:"
      ]
    },
    {
      "cell_type": "code",
      "execution_count": null,
      "metadata": {
        "id": "vXHnBzEfunAO"
      },
      "outputs": [],
      "source": [
        "# Standard scientific Python imports\n",
        "import matplotlib.pyplot as plt\n",
        "\n",
        "# Import datasets, classifiers and performance metrics\n",
        "from sklearn import datasets, svm, metrics\n",
        "from sklearn.model_selection import train_test_split\n",
        "\n",
        "# The digits dataset\n",
        "digits = datasets.load_digits()\n",
        "\n",
        "# The data that we are interested in is made of 8x8 images of digits, let's\n",
        "# have a look at the first 4 images, stored in the `images` attribute of the\n",
        "# dataset.  If we were working from image files, we could load them using\n",
        "# matplotlib.pyplot.imread.  Note that each image must have the same size. For these\n",
        "# images, we know which digit they represent: it is given in the 'target' of\n",
        "# the dataset.\n",
        "_, axes = plt.subplots(2, 4)\n",
        "images_and_labels = list(zip(digits.images, digits.target))\n",
        "for ax, (image, label) in zip(axes[0, :], images_and_labels[:4]):\n",
        "    ax.set_axis_off()\n",
        "    ax.imshow(image, cmap=plt.cm.gray_r, interpolation='nearest')\n",
        "    ax.set_title('Training: %i' % label)\n",
        "\n",
        "# To apply a classifier on this data, we need to flatten the image, to\n",
        "# turn the data in a (samples, feature) matrix:\n",
        "n_samples = len(digits.images)\n",
        "data = digits.images.reshape((n_samples, -1))\n",
        "\n",
        "# Create a classifier: a support vector classifier\n",
        "classifier = svm.SVC(gamma=0.001)\n",
        "\n",
        "# Split data into train and test subsets\n",
        "X_train, X_test, y_train, y_test = train_test_split(\n",
        "    data, digits.target, test_size=0.5, shuffle=False)\n",
        "\n",
        "# We learn the digits on the first half of the digits\n",
        "classifier.fit(X_train, y_train)\n",
        "\n",
        "# Now predict the value of the digit on the second half:\n",
        "predicted = classifier.predict(X_test)\n",
        "\n",
        "images_and_predictions = list(zip(digits.images[n_samples // 2:], predicted))\n",
        "for ax, (image, prediction) in zip(axes[1, :], images_and_predictions[:4]):\n",
        "    ax.set_axis_off()\n",
        "    ax.imshow(image, cmap=plt.cm.gray_r, interpolation='nearest')\n",
        "    ax.set_title('Prediction: %i' % prediction)\n",
        "\n",
        "print(\"Classification report for classifier %s:\\n%s\\n\"\n",
        "      % (classifier, metrics.classification_report(y_test, predicted)))\n",
        "disp = metrics.plot_confusion_matrix(classifier, X_test, y_test)\n",
        "disp.figure_.suptitle(\"Confusion Matrix\")\n",
        "print(\"Confusion matrix:\\n%s\" % disp.confusion_matrix)\n",
        "\n",
        "plt.show()"
      ]
    },
    {
      "cell_type": "markdown",
      "metadata": {
        "id": "Uu3Dny5zxcVy"
      },
      "source": [
        "### Scikit-image\n",
        "\n",
        "Реализовывать различные операции для работы с изображениями можно как самостоятельно, работая с массивами numpy, так и используя специализированные библиотеки, например, scikit-image (https://scikit-image.org/). Ниже приведен пример использования Canny edge detector."
      ]
    },
    {
      "cell_type": "code",
      "execution_count": null,
      "metadata": {
        "id": "5TZvy_d7xc0B"
      },
      "outputs": [],
      "source": [
        "import numpy as np\n",
        "import matplotlib.pyplot as plt\n",
        "from scipy import ndimage as ndi\n",
        "\n",
        "from skimage import feature\n",
        "\n",
        "\n",
        "# Generate noisy image of a square\n",
        "im = np.zeros((128, 128))\n",
        "im[32:-32, 32:-32] = 1\n",
        "\n",
        "im = ndi.rotate(im, 15, mode='constant')\n",
        "im = ndi.gaussian_filter(im, 4)\n",
        "im += 0.2 * np.random.random(im.shape)\n",
        "\n",
        "# Compute the Canny filter for two values of sigma\n",
        "edges1 = feature.canny(im)\n",
        "edges2 = feature.canny(im, sigma=3)\n",
        "\n",
        "# display results\n",
        "fig, (ax1, ax2, ax3) = plt.subplots(nrows=1, ncols=3, figsize=(8, 3),\n",
        "                                    sharex=True, sharey=True)\n",
        "\n",
        "ax1.imshow(im, cmap=plt.cm.gray)\n",
        "ax1.axis('off')\n",
        "ax1.set_title('noisy image', fontsize=20)\n",
        "\n",
        "ax2.imshow(edges1, cmap=plt.cm.gray)\n",
        "ax2.axis('off')\n",
        "ax2.set_title(r'Canny filter, $\\sigma=1$', fontsize=20)\n",
        "\n",
        "ax3.imshow(edges2, cmap=plt.cm.gray)\n",
        "ax3.axis('off')\n",
        "ax3.set_title(r'Canny filter, $\\sigma=3$', fontsize=20)\n",
        "\n",
        "fig.tight_layout()\n",
        "\n",
        "plt.show()"
      ]
    },
    {
      "cell_type": "markdown",
      "metadata": {
        "id": "hiEWhGUQRGoH"
      },
      "source": [
        "### Tensorflow 2\n",
        "\n",
        "Для создания и обучения нейросетевых моделей можно использовать фреймворк глубокого обучения Tensorflow 2. Ниже приведен пример простейшей нейроной сети, использующейся для классификации изображений из набора данных MNIST."
      ]
    },
    {
      "cell_type": "code",
      "execution_count": null,
      "metadata": {
        "id": "kDwLG7A1ReNy"
      },
      "outputs": [],
      "source": [
        "# Install TensorFlow\n",
        "\n",
        "import tensorflow as tf\n",
        "\n",
        "mnist = tf.keras.datasets.mnist\n",
        "\n",
        "(x_train, y_train), (x_test, y_test) = mnist.load_data()\n",
        "x_train, x_test = x_train / 255.0, x_test / 255.0\n",
        "\n",
        "model = tf.keras.models.Sequential([\n",
        "  tf.keras.layers.Flatten(input_shape=(28, 28)),\n",
        "  tf.keras.layers.Dense(128, activation='relu'),\n",
        "  tf.keras.layers.Dropout(0.2),\n",
        "  tf.keras.layers.Dense(10, activation='softmax')\n",
        "])\n",
        "\n",
        "model.compile(optimizer='adam',\n",
        "              loss='sparse_categorical_crossentropy',\n",
        "              metrics=['accuracy'])\n",
        "\n",
        "model.fit(x_train, y_train, epochs=5)\n",
        "\n",
        "model.evaluate(x_test,  y_test, verbose=2)"
      ]
    },
    {
      "cell_type": "markdown",
      "metadata": {
        "id": "IbvktmLwRu8g"
      },
      "source": [
        "<font color=\"red\">\n",
        "Для эффективной работы с моделями глубокого обучения убедитесь в том, что в текущей среде Google Colab используется аппаратный ускоритель GPU или TPU. Для смены среды выберите \"среда выполнения\" -> \"сменить среду выполнения\".\n",
        "</font>"
      ]
    },
    {
      "cell_type": "markdown",
      "metadata": {
        "id": "nJVNOOU9Sjyf"
      },
      "source": [
        "Большое количество туториалов и примеров с кодом на Tensorflow 2 можно найти на официальном сайте https://www.tensorflow.org/tutorials?hl=ru."
      ]
    },
    {
      "cell_type": "markdown",
      "metadata": {
        "id": "GVPs3pYpS0U1"
      },
      "source": [
        "Также, Вам может понадобиться написать собственный генератор данных для Tensorflow 2. Скорее всего он будет достаточно простым, и его легко можно будет реализовать, используя официальную документацию TensorFlow 2. Но, на всякий случай (если не удлось сразу разобраться или хочется вникнуть в тему более глубоко), можете посмотреть следующий отличный туториал: https://stanford.edu/~shervine/blog/keras-how-to-generate-data-on-the-fly."
      ]
    },
    {
      "cell_type": "markdown",
      "metadata": {
        "id": "lwI-T0IXyN84"
      },
      "source": [
        "### Numba\n",
        "\n",
        "В некоторых ситуациях, при ручных реализациях графовых алгоритмов, выполнение многократных вложенных циклов for в python можно существенно ускорить, используя JIT-компилятор Numba (https://numba.pydata.org/).\n",
        "Примеры использования Numba в Google Colab можно найти тут:\n",
        "1. https://colab.research.google.com/github/cbernet/maldives/blob/master/numba/numba_cuda.ipynb\n",
        "2. https://colab.research.google.com/github/evaneschneider/parallel-programming/blob/master/COMPASS_gpu_intro.ipynb\n",
        "\n",
        "> Пожалуйста, если Вы решили использовать Numba для решения этого практического задания, еще раз подумайте, нужно ли это Вам, и есть ли возможность реализовать требуемую функциональность иным способом. Используйте Numba только при реальной необходимости.\n",
        "\n"
      ]
    },
    {
      "cell_type": "markdown",
      "metadata": {
        "id": "BxAJ00A76LcF"
      },
      "source": [
        "### Работа с zip архивами в Google Drive\n",
        "\n",
        "Запаковка и распаковка zip архивов может пригодиться при сохранении и загрузки Вашей модели. Ниже приведен фрагмент кода, иллюстрирующий помещение нескольких файлов в zip архив с последующим чтением файлов из него. Все действия с директориями, файлами и архивами должны осущетвляться с примонтированным Google Drive.\n"
      ]
    },
    {
      "cell_type": "markdown",
      "metadata": {
        "id": "ZJiKndOpPu_e"
      },
      "source": [
        "Создадим 2 изображения, поместим их в директорию tmp внутри PROJECT_DIR, запакуем директорию tmp в архив tmp.zip."
      ]
    },
    {
      "cell_type": "code",
      "execution_count": null,
      "metadata": {
        "id": "CRwgPtv-6nMP",
        "colab": {
          "base_uri": "https://localhost:8080/",
          "height": 341
        },
        "outputId": "34cedb54-8117-4dfe-eaf9-4dda20a02dce"
      },
      "outputs": [
        {
          "output_type": "error",
          "ename": "FileNotFoundError",
          "evalue": "[Errno 2] No such file or directory: '/content/drive/MyDrive/dev/prak_nn_1/tmp'",
          "traceback": [
            "\u001b[0;31m---------------------------------------------------------------------------\u001b[0m",
            "\u001b[0;31mFileNotFoundError\u001b[0m                         Traceback (most recent call last)",
            "\u001b[0;32m<ipython-input-16-e0c49c38d470>\u001b[0m in \u001b[0;36m<cell line: 10>\u001b[0;34m()\u001b[0m\n\u001b[1;32m      9\u001b[0m \u001b[0;34m\u001b[0m\u001b[0m\n\u001b[1;32m     10\u001b[0m \u001b[0;32mif\u001b[0m \u001b[0;32mnot\u001b[0m \u001b[0;34m(\u001b[0m\u001b[0mPath\u001b[0m\u001b[0;34m(\u001b[0m\u001b[0mp\u001b[0m\u001b[0;34m)\u001b[0m \u001b[0;34m/\u001b[0m \u001b[0;34m'tmp'\u001b[0m\u001b[0;34m)\u001b[0m\u001b[0;34m.\u001b[0m\u001b[0mexists\u001b[0m\u001b[0;34m(\u001b[0m\u001b[0;34m)\u001b[0m\u001b[0;34m:\u001b[0m\u001b[0;34m\u001b[0m\u001b[0;34m\u001b[0m\u001b[0m\n\u001b[0;32m---> 11\u001b[0;31m     \u001b[0;34m(\u001b[0m\u001b[0mPath\u001b[0m\u001b[0;34m(\u001b[0m\u001b[0mp\u001b[0m\u001b[0;34m)\u001b[0m \u001b[0;34m/\u001b[0m \u001b[0;34m'tmp'\u001b[0m\u001b[0;34m)\u001b[0m\u001b[0;34m.\u001b[0m\u001b[0mmkdir\u001b[0m\u001b[0;34m(\u001b[0m\u001b[0;34m)\u001b[0m\u001b[0;34m\u001b[0m\u001b[0;34m\u001b[0m\u001b[0m\n\u001b[0m\u001b[1;32m     12\u001b[0m \u001b[0;34m\u001b[0m\u001b[0m\n\u001b[1;32m     13\u001b[0m \u001b[0mimg1\u001b[0m\u001b[0;34m.\u001b[0m\u001b[0msave\u001b[0m\u001b[0;34m(\u001b[0m\u001b[0mstr\u001b[0m\u001b[0;34m(\u001b[0m\u001b[0mPath\u001b[0m\u001b[0;34m(\u001b[0m\u001b[0mp\u001b[0m\u001b[0;34m)\u001b[0m \u001b[0;34m/\u001b[0m \u001b[0;34m'tmp'\u001b[0m \u001b[0;34m/\u001b[0m \u001b[0;34m'img1.png'\u001b[0m\u001b[0;34m)\u001b[0m\u001b[0;34m)\u001b[0m\u001b[0;34m\u001b[0m\u001b[0;34m\u001b[0m\u001b[0m\n",
            "\u001b[0;32m/usr/lib/python3.10/pathlib.py\u001b[0m in \u001b[0;36mmkdir\u001b[0;34m(self, mode, parents, exist_ok)\u001b[0m\n\u001b[1;32m   1173\u001b[0m         \"\"\"\n\u001b[1;32m   1174\u001b[0m         \u001b[0;32mtry\u001b[0m\u001b[0;34m:\u001b[0m\u001b[0;34m\u001b[0m\u001b[0;34m\u001b[0m\u001b[0m\n\u001b[0;32m-> 1175\u001b[0;31m             \u001b[0mself\u001b[0m\u001b[0;34m.\u001b[0m\u001b[0m_accessor\u001b[0m\u001b[0;34m.\u001b[0m\u001b[0mmkdir\u001b[0m\u001b[0;34m(\u001b[0m\u001b[0mself\u001b[0m\u001b[0;34m,\u001b[0m \u001b[0mmode\u001b[0m\u001b[0;34m)\u001b[0m\u001b[0;34m\u001b[0m\u001b[0;34m\u001b[0m\u001b[0m\n\u001b[0m\u001b[1;32m   1176\u001b[0m         \u001b[0;32mexcept\u001b[0m \u001b[0mFileNotFoundError\u001b[0m\u001b[0;34m:\u001b[0m\u001b[0;34m\u001b[0m\u001b[0;34m\u001b[0m\u001b[0m\n\u001b[1;32m   1177\u001b[0m             \u001b[0;32mif\u001b[0m \u001b[0;32mnot\u001b[0m \u001b[0mparents\u001b[0m \u001b[0;32mor\u001b[0m \u001b[0mself\u001b[0m\u001b[0;34m.\u001b[0m\u001b[0mparent\u001b[0m \u001b[0;34m==\u001b[0m \u001b[0mself\u001b[0m\u001b[0;34m:\u001b[0m\u001b[0;34m\u001b[0m\u001b[0;34m\u001b[0m\u001b[0m\n",
            "\u001b[0;31mFileNotFoundError\u001b[0m: [Errno 2] No such file or directory: '/content/drive/MyDrive/dev/prak_nn_1/tmp'"
          ]
        }
      ],
      "source": [
        "PROJECT_DIR = \"/dev/prak_nn_1/\"\n",
        "arr1 = np.random.rand(100, 100, 3) * 255\n",
        "arr2 = np.random.rand(100, 100, 3) * 255\n",
        "\n",
        "img1 = Image.fromarray(arr1.astype('uint8'))\n",
        "img2 = Image.fromarray(arr2.astype('uint8'))\n",
        "\n",
        "p = \"/content/drive/MyDrive/\" + PROJECT_DIR\n",
        "\n",
        "if not (Path(p) / 'tmp').exists():\n",
        "    (Path(p) / 'tmp').mkdir()\n",
        "\n",
        "img1.save(str(Path(p) / 'tmp' / 'img1.png'))\n",
        "img2.save(str(Path(p) / 'tmp' / 'img2.png'))\n",
        "\n",
        "%cd $p\n",
        "!zip -r \"tmp.zip\" \"tmp\""
      ]
    },
    {
      "cell_type": "markdown",
      "metadata": {
        "id": "MykrBSWNQQlq"
      },
      "source": [
        "Распакуем архив tmp.zip в директорию tmp2 в PROJECT_DIR. Теперь внутри директории tmp2 содержится директория tmp, внутри которой находятся 2 изображения."
      ]
    },
    {
      "cell_type": "code",
      "execution_count": null,
      "metadata": {
        "id": "CwSWrYIWMAus",
        "colab": {
          "base_uri": "https://localhost:8080/"
        },
        "outputId": "39522741-a5f0-4c0e-9b9e-02137a49aac9"
      },
      "outputs": [
        {
          "output_type": "stream",
          "name": "stdout",
          "text": [
            "[Errno 2] No such file or directory: '/content/drive/MyDrive//dev/prak_nn_1/'\n",
            "/content\n",
            "unzip:  cannot find or open tmp.zip, tmp.zip.zip or tmp.zip.ZIP.\n"
          ]
        }
      ],
      "source": [
        "p = \"/content/drive/MyDrive/\" + PROJECT_DIR\n",
        "%cd $p\n",
        "!unzip -uq \"tmp.zip\" -d \"tmp2\""
      ]
    },
    {
      "cell_type": "code",
      "source": [
        "from google.colab import drive\n",
        "drive.mount('/content/drive')"
      ],
      "metadata": {
        "id": "VnoKfV8fkIF9"
      },
      "execution_count": null,
      "outputs": []
    }
  ],
  "metadata": {
    "accelerator": "GPU",
    "colab": {
      "provenance": []
    },
    "gpuClass": "standard",
    "kernelspec": {
      "display_name": "Python 3.10.4 ('py310')",
      "language": "python",
      "name": "python3"
    },
    "language_info": {
      "name": "python",
      "version": "3.10.4"
    },
    "vscode": {
      "interpreter": {
        "hash": "7af69d84c46e0da4f71f361435e72c01e713b5d1fcbc89c051c042527a934273"
      }
    },
    "widgets": {
      "application/vnd.jupyter.widget-state+json": {
        "1c96151c3e924303b0d32240b69cfd93": {
          "model_module": "@jupyter-widgets/controls",
          "model_name": "HBoxModel",
          "model_module_version": "1.5.0",
          "state": {
            "_dom_classes": [],
            "_model_module": "@jupyter-widgets/controls",
            "_model_module_version": "1.5.0",
            "_model_name": "HBoxModel",
            "_view_count": null,
            "_view_module": "@jupyter-widgets/controls",
            "_view_module_version": "1.5.0",
            "_view_name": "HBoxView",
            "box_style": "",
            "children": [
              "IPY_MODEL_186593733b9245d2bb1eecda428efe18",
              "IPY_MODEL_1cefdad0743c40fc81b819c06b6bd049",
              "IPY_MODEL_d0aeb84ff06a4968b27a70cc05ee8b18"
            ],
            "layout": "IPY_MODEL_65321c1f77b34991a0be8d0cc9a83d2b"
          }
        },
        "186593733b9245d2bb1eecda428efe18": {
          "model_module": "@jupyter-widgets/controls",
          "model_name": "HTMLModel",
          "model_module_version": "1.5.0",
          "state": {
            "_dom_classes": [],
            "_model_module": "@jupyter-widgets/controls",
            "_model_module_version": "1.5.0",
            "_model_name": "HTMLModel",
            "_view_count": null,
            "_view_module": "@jupyter-widgets/controls",
            "_view_module_version": "1.5.0",
            "_view_name": "HTMLView",
            "description": "",
            "description_tooltip": null,
            "layout": "IPY_MODEL_93279540661a493a8e72a82c224cd5ba",
            "placeholder": "​",
            "style": "IPY_MODEL_658ad3bdc2d94b3eb55e389d766abe11",
            "value": "100%"
          }
        },
        "1cefdad0743c40fc81b819c06b6bd049": {
          "model_module": "@jupyter-widgets/controls",
          "model_name": "FloatProgressModel",
          "model_module_version": "1.5.0",
          "state": {
            "_dom_classes": [],
            "_model_module": "@jupyter-widgets/controls",
            "_model_module_version": "1.5.0",
            "_model_name": "FloatProgressModel",
            "_view_count": null,
            "_view_module": "@jupyter-widgets/controls",
            "_view_module_version": "1.5.0",
            "_view_name": "ProgressView",
            "bar_style": "success",
            "description": "",
            "description_tooltip": null,
            "layout": "IPY_MODEL_ecead0ffae47494e9c22c05eb87569bc",
            "max": 450,
            "min": 0,
            "orientation": "horizontal",
            "style": "IPY_MODEL_221952c4d17b4bab9cb3de9a6ac657b6",
            "value": 450
          }
        },
        "d0aeb84ff06a4968b27a70cc05ee8b18": {
          "model_module": "@jupyter-widgets/controls",
          "model_name": "HTMLModel",
          "model_module_version": "1.5.0",
          "state": {
            "_dom_classes": [],
            "_model_module": "@jupyter-widgets/controls",
            "_model_module_version": "1.5.0",
            "_model_name": "HTMLModel",
            "_view_count": null,
            "_view_module": "@jupyter-widgets/controls",
            "_view_module_version": "1.5.0",
            "_view_name": "HTMLView",
            "description": "",
            "description_tooltip": null,
            "layout": "IPY_MODEL_59cbc1b56ea343ff9e5e15c6626c19b9",
            "placeholder": "​",
            "style": "IPY_MODEL_42d6420c03a241079c9ddade0f6a7171",
            "value": " 450/450 [00:03&lt;00:00, 215.94it/s]"
          }
        },
        "65321c1f77b34991a0be8d0cc9a83d2b": {
          "model_module": "@jupyter-widgets/base",
          "model_name": "LayoutModel",
          "model_module_version": "1.2.0",
          "state": {
            "_model_module": "@jupyter-widgets/base",
            "_model_module_version": "1.2.0",
            "_model_name": "LayoutModel",
            "_view_count": null,
            "_view_module": "@jupyter-widgets/base",
            "_view_module_version": "1.2.0",
            "_view_name": "LayoutView",
            "align_content": null,
            "align_items": null,
            "align_self": null,
            "border": null,
            "bottom": null,
            "display": null,
            "flex": null,
            "flex_flow": null,
            "grid_area": null,
            "grid_auto_columns": null,
            "grid_auto_flow": null,
            "grid_auto_rows": null,
            "grid_column": null,
            "grid_gap": null,
            "grid_row": null,
            "grid_template_areas": null,
            "grid_template_columns": null,
            "grid_template_rows": null,
            "height": null,
            "justify_content": null,
            "justify_items": null,
            "left": null,
            "margin": null,
            "max_height": null,
            "max_width": null,
            "min_height": null,
            "min_width": null,
            "object_fit": null,
            "object_position": null,
            "order": null,
            "overflow": null,
            "overflow_x": null,
            "overflow_y": null,
            "padding": null,
            "right": null,
            "top": null,
            "visibility": null,
            "width": null
          }
        },
        "93279540661a493a8e72a82c224cd5ba": {
          "model_module": "@jupyter-widgets/base",
          "model_name": "LayoutModel",
          "model_module_version": "1.2.0",
          "state": {
            "_model_module": "@jupyter-widgets/base",
            "_model_module_version": "1.2.0",
            "_model_name": "LayoutModel",
            "_view_count": null,
            "_view_module": "@jupyter-widgets/base",
            "_view_module_version": "1.2.0",
            "_view_name": "LayoutView",
            "align_content": null,
            "align_items": null,
            "align_self": null,
            "border": null,
            "bottom": null,
            "display": null,
            "flex": null,
            "flex_flow": null,
            "grid_area": null,
            "grid_auto_columns": null,
            "grid_auto_flow": null,
            "grid_auto_rows": null,
            "grid_column": null,
            "grid_gap": null,
            "grid_row": null,
            "grid_template_areas": null,
            "grid_template_columns": null,
            "grid_template_rows": null,
            "height": null,
            "justify_content": null,
            "justify_items": null,
            "left": null,
            "margin": null,
            "max_height": null,
            "max_width": null,
            "min_height": null,
            "min_width": null,
            "object_fit": null,
            "object_position": null,
            "order": null,
            "overflow": null,
            "overflow_x": null,
            "overflow_y": null,
            "padding": null,
            "right": null,
            "top": null,
            "visibility": null,
            "width": null
          }
        },
        "658ad3bdc2d94b3eb55e389d766abe11": {
          "model_module": "@jupyter-widgets/controls",
          "model_name": "DescriptionStyleModel",
          "model_module_version": "1.5.0",
          "state": {
            "_model_module": "@jupyter-widgets/controls",
            "_model_module_version": "1.5.0",
            "_model_name": "DescriptionStyleModel",
            "_view_count": null,
            "_view_module": "@jupyter-widgets/base",
            "_view_module_version": "1.2.0",
            "_view_name": "StyleView",
            "description_width": ""
          }
        },
        "ecead0ffae47494e9c22c05eb87569bc": {
          "model_module": "@jupyter-widgets/base",
          "model_name": "LayoutModel",
          "model_module_version": "1.2.0",
          "state": {
            "_model_module": "@jupyter-widgets/base",
            "_model_module_version": "1.2.0",
            "_model_name": "LayoutModel",
            "_view_count": null,
            "_view_module": "@jupyter-widgets/base",
            "_view_module_version": "1.2.0",
            "_view_name": "LayoutView",
            "align_content": null,
            "align_items": null,
            "align_self": null,
            "border": null,
            "bottom": null,
            "display": null,
            "flex": null,
            "flex_flow": null,
            "grid_area": null,
            "grid_auto_columns": null,
            "grid_auto_flow": null,
            "grid_auto_rows": null,
            "grid_column": null,
            "grid_gap": null,
            "grid_row": null,
            "grid_template_areas": null,
            "grid_template_columns": null,
            "grid_template_rows": null,
            "height": null,
            "justify_content": null,
            "justify_items": null,
            "left": null,
            "margin": null,
            "max_height": null,
            "max_width": null,
            "min_height": null,
            "min_width": null,
            "object_fit": null,
            "object_position": null,
            "order": null,
            "overflow": null,
            "overflow_x": null,
            "overflow_y": null,
            "padding": null,
            "right": null,
            "top": null,
            "visibility": null,
            "width": null
          }
        },
        "221952c4d17b4bab9cb3de9a6ac657b6": {
          "model_module": "@jupyter-widgets/controls",
          "model_name": "ProgressStyleModel",
          "model_module_version": "1.5.0",
          "state": {
            "_model_module": "@jupyter-widgets/controls",
            "_model_module_version": "1.5.0",
            "_model_name": "ProgressStyleModel",
            "_view_count": null,
            "_view_module": "@jupyter-widgets/base",
            "_view_module_version": "1.2.0",
            "_view_name": "StyleView",
            "bar_color": null,
            "description_width": ""
          }
        },
        "59cbc1b56ea343ff9e5e15c6626c19b9": {
          "model_module": "@jupyter-widgets/base",
          "model_name": "LayoutModel",
          "model_module_version": "1.2.0",
          "state": {
            "_model_module": "@jupyter-widgets/base",
            "_model_module_version": "1.2.0",
            "_model_name": "LayoutModel",
            "_view_count": null,
            "_view_module": "@jupyter-widgets/base",
            "_view_module_version": "1.2.0",
            "_view_name": "LayoutView",
            "align_content": null,
            "align_items": null,
            "align_self": null,
            "border": null,
            "bottom": null,
            "display": null,
            "flex": null,
            "flex_flow": null,
            "grid_area": null,
            "grid_auto_columns": null,
            "grid_auto_flow": null,
            "grid_auto_rows": null,
            "grid_column": null,
            "grid_gap": null,
            "grid_row": null,
            "grid_template_areas": null,
            "grid_template_columns": null,
            "grid_template_rows": null,
            "height": null,
            "justify_content": null,
            "justify_items": null,
            "left": null,
            "margin": null,
            "max_height": null,
            "max_width": null,
            "min_height": null,
            "min_width": null,
            "object_fit": null,
            "object_position": null,
            "order": null,
            "overflow": null,
            "overflow_x": null,
            "overflow_y": null,
            "padding": null,
            "right": null,
            "top": null,
            "visibility": null,
            "width": null
          }
        },
        "42d6420c03a241079c9ddade0f6a7171": {
          "model_module": "@jupyter-widgets/controls",
          "model_name": "DescriptionStyleModel",
          "model_module_version": "1.5.0",
          "state": {
            "_model_module": "@jupyter-widgets/controls",
            "_model_module_version": "1.5.0",
            "_model_name": "DescriptionStyleModel",
            "_view_count": null,
            "_view_module": "@jupyter-widgets/base",
            "_view_module_version": "1.2.0",
            "_view_name": "StyleView",
            "description_width": ""
          }
        },
        "a5d70fd2e9624057a83253b216cc15f9": {
          "model_module": "@jupyter-widgets/controls",
          "model_name": "HBoxModel",
          "model_module_version": "1.5.0",
          "state": {
            "_dom_classes": [],
            "_model_module": "@jupyter-widgets/controls",
            "_model_module_version": "1.5.0",
            "_model_name": "HBoxModel",
            "_view_count": null,
            "_view_module": "@jupyter-widgets/controls",
            "_view_module_version": "1.5.0",
            "_view_name": "HBoxView",
            "box_style": "",
            "children": [
              "IPY_MODEL_c68f0a9464aa4a9d81e9a5e56dfeddce",
              "IPY_MODEL_5ae3a2252ed5492caad2834b76bba97b",
              "IPY_MODEL_5c3445ec47cf4a1799641c797c2179e6"
            ],
            "layout": "IPY_MODEL_2c81a86767954dfeadb5aff9126a4ef3"
          }
        },
        "c68f0a9464aa4a9d81e9a5e56dfeddce": {
          "model_module": "@jupyter-widgets/controls",
          "model_name": "HTMLModel",
          "model_module_version": "1.5.0",
          "state": {
            "_dom_classes": [],
            "_model_module": "@jupyter-widgets/controls",
            "_model_module_version": "1.5.0",
            "_model_name": "HTMLModel",
            "_view_count": null,
            "_view_module": "@jupyter-widgets/controls",
            "_view_module_version": "1.5.0",
            "_view_name": "HTMLView",
            "description": "",
            "description_tooltip": null,
            "layout": "IPY_MODEL_66603583a6cf47f2a6a22ed2e6e3c1a8",
            "placeholder": "​",
            "style": "IPY_MODEL_4d79f426f0694927820a7daaf5c11302",
            "value": "100%"
          }
        },
        "5ae3a2252ed5492caad2834b76bba97b": {
          "model_module": "@jupyter-widgets/controls",
          "model_name": "FloatProgressModel",
          "model_module_version": "1.5.0",
          "state": {
            "_dom_classes": [],
            "_model_module": "@jupyter-widgets/controls",
            "_model_module_version": "1.5.0",
            "_model_name": "FloatProgressModel",
            "_view_count": null,
            "_view_module": "@jupyter-widgets/controls",
            "_view_module_version": "1.5.0",
            "_view_name": "ProgressView",
            "bar_style": "success",
            "description": "",
            "description_tooltip": null,
            "layout": "IPY_MODEL_bb909b47f75641068b18a46c711a6c6e",
            "max": 4500,
            "min": 0,
            "orientation": "horizontal",
            "style": "IPY_MODEL_3a2465f4027f457a9cfa4180ecbd1df9",
            "value": 4500
          }
        },
        "5c3445ec47cf4a1799641c797c2179e6": {
          "model_module": "@jupyter-widgets/controls",
          "model_name": "HTMLModel",
          "model_module_version": "1.5.0",
          "state": {
            "_dom_classes": [],
            "_model_module": "@jupyter-widgets/controls",
            "_model_module_version": "1.5.0",
            "_model_name": "HTMLModel",
            "_view_count": null,
            "_view_module": "@jupyter-widgets/controls",
            "_view_module_version": "1.5.0",
            "_view_name": "HTMLView",
            "description": "",
            "description_tooltip": null,
            "layout": "IPY_MODEL_9bbc12266480457db03f54db5ea4203b",
            "placeholder": "​",
            "style": "IPY_MODEL_40015dff7033414eb68d8233d1caf8f2",
            "value": " 4500/4500 [00:34&lt;00:00, 157.44it/s]"
          }
        },
        "2c81a86767954dfeadb5aff9126a4ef3": {
          "model_module": "@jupyter-widgets/base",
          "model_name": "LayoutModel",
          "model_module_version": "1.2.0",
          "state": {
            "_model_module": "@jupyter-widgets/base",
            "_model_module_version": "1.2.0",
            "_model_name": "LayoutModel",
            "_view_count": null,
            "_view_module": "@jupyter-widgets/base",
            "_view_module_version": "1.2.0",
            "_view_name": "LayoutView",
            "align_content": null,
            "align_items": null,
            "align_self": null,
            "border": null,
            "bottom": null,
            "display": null,
            "flex": null,
            "flex_flow": null,
            "grid_area": null,
            "grid_auto_columns": null,
            "grid_auto_flow": null,
            "grid_auto_rows": null,
            "grid_column": null,
            "grid_gap": null,
            "grid_row": null,
            "grid_template_areas": null,
            "grid_template_columns": null,
            "grid_template_rows": null,
            "height": null,
            "justify_content": null,
            "justify_items": null,
            "left": null,
            "margin": null,
            "max_height": null,
            "max_width": null,
            "min_height": null,
            "min_width": null,
            "object_fit": null,
            "object_position": null,
            "order": null,
            "overflow": null,
            "overflow_x": null,
            "overflow_y": null,
            "padding": null,
            "right": null,
            "top": null,
            "visibility": null,
            "width": null
          }
        },
        "66603583a6cf47f2a6a22ed2e6e3c1a8": {
          "model_module": "@jupyter-widgets/base",
          "model_name": "LayoutModel",
          "model_module_version": "1.2.0",
          "state": {
            "_model_module": "@jupyter-widgets/base",
            "_model_module_version": "1.2.0",
            "_model_name": "LayoutModel",
            "_view_count": null,
            "_view_module": "@jupyter-widgets/base",
            "_view_module_version": "1.2.0",
            "_view_name": "LayoutView",
            "align_content": null,
            "align_items": null,
            "align_self": null,
            "border": null,
            "bottom": null,
            "display": null,
            "flex": null,
            "flex_flow": null,
            "grid_area": null,
            "grid_auto_columns": null,
            "grid_auto_flow": null,
            "grid_auto_rows": null,
            "grid_column": null,
            "grid_gap": null,
            "grid_row": null,
            "grid_template_areas": null,
            "grid_template_columns": null,
            "grid_template_rows": null,
            "height": null,
            "justify_content": null,
            "justify_items": null,
            "left": null,
            "margin": null,
            "max_height": null,
            "max_width": null,
            "min_height": null,
            "min_width": null,
            "object_fit": null,
            "object_position": null,
            "order": null,
            "overflow": null,
            "overflow_x": null,
            "overflow_y": null,
            "padding": null,
            "right": null,
            "top": null,
            "visibility": null,
            "width": null
          }
        },
        "4d79f426f0694927820a7daaf5c11302": {
          "model_module": "@jupyter-widgets/controls",
          "model_name": "DescriptionStyleModel",
          "model_module_version": "1.5.0",
          "state": {
            "_model_module": "@jupyter-widgets/controls",
            "_model_module_version": "1.5.0",
            "_model_name": "DescriptionStyleModel",
            "_view_count": null,
            "_view_module": "@jupyter-widgets/base",
            "_view_module_version": "1.2.0",
            "_view_name": "StyleView",
            "description_width": ""
          }
        },
        "bb909b47f75641068b18a46c711a6c6e": {
          "model_module": "@jupyter-widgets/base",
          "model_name": "LayoutModel",
          "model_module_version": "1.2.0",
          "state": {
            "_model_module": "@jupyter-widgets/base",
            "_model_module_version": "1.2.0",
            "_model_name": "LayoutModel",
            "_view_count": null,
            "_view_module": "@jupyter-widgets/base",
            "_view_module_version": "1.2.0",
            "_view_name": "LayoutView",
            "align_content": null,
            "align_items": null,
            "align_self": null,
            "border": null,
            "bottom": null,
            "display": null,
            "flex": null,
            "flex_flow": null,
            "grid_area": null,
            "grid_auto_columns": null,
            "grid_auto_flow": null,
            "grid_auto_rows": null,
            "grid_column": null,
            "grid_gap": null,
            "grid_row": null,
            "grid_template_areas": null,
            "grid_template_columns": null,
            "grid_template_rows": null,
            "height": null,
            "justify_content": null,
            "justify_items": null,
            "left": null,
            "margin": null,
            "max_height": null,
            "max_width": null,
            "min_height": null,
            "min_width": null,
            "object_fit": null,
            "object_position": null,
            "order": null,
            "overflow": null,
            "overflow_x": null,
            "overflow_y": null,
            "padding": null,
            "right": null,
            "top": null,
            "visibility": null,
            "width": null
          }
        },
        "3a2465f4027f457a9cfa4180ecbd1df9": {
          "model_module": "@jupyter-widgets/controls",
          "model_name": "ProgressStyleModel",
          "model_module_version": "1.5.0",
          "state": {
            "_model_module": "@jupyter-widgets/controls",
            "_model_module_version": "1.5.0",
            "_model_name": "ProgressStyleModel",
            "_view_count": null,
            "_view_module": "@jupyter-widgets/base",
            "_view_module_version": "1.2.0",
            "_view_name": "StyleView",
            "bar_color": null,
            "description_width": ""
          }
        },
        "9bbc12266480457db03f54db5ea4203b": {
          "model_module": "@jupyter-widgets/base",
          "model_name": "LayoutModel",
          "model_module_version": "1.2.0",
          "state": {
            "_model_module": "@jupyter-widgets/base",
            "_model_module_version": "1.2.0",
            "_model_name": "LayoutModel",
            "_view_count": null,
            "_view_module": "@jupyter-widgets/base",
            "_view_module_version": "1.2.0",
            "_view_name": "LayoutView",
            "align_content": null,
            "align_items": null,
            "align_self": null,
            "border": null,
            "bottom": null,
            "display": null,
            "flex": null,
            "flex_flow": null,
            "grid_area": null,
            "grid_auto_columns": null,
            "grid_auto_flow": null,
            "grid_auto_rows": null,
            "grid_column": null,
            "grid_gap": null,
            "grid_row": null,
            "grid_template_areas": null,
            "grid_template_columns": null,
            "grid_template_rows": null,
            "height": null,
            "justify_content": null,
            "justify_items": null,
            "left": null,
            "margin": null,
            "max_height": null,
            "max_width": null,
            "min_height": null,
            "min_width": null,
            "object_fit": null,
            "object_position": null,
            "order": null,
            "overflow": null,
            "overflow_x": null,
            "overflow_y": null,
            "padding": null,
            "right": null,
            "top": null,
            "visibility": null,
            "width": null
          }
        },
        "40015dff7033414eb68d8233d1caf8f2": {
          "model_module": "@jupyter-widgets/controls",
          "model_name": "DescriptionStyleModel",
          "model_module_version": "1.5.0",
          "state": {
            "_model_module": "@jupyter-widgets/controls",
            "_model_module_version": "1.5.0",
            "_model_name": "DescriptionStyleModel",
            "_view_count": null,
            "_view_module": "@jupyter-widgets/base",
            "_view_module_version": "1.2.0",
            "_view_name": "StyleView",
            "description_width": ""
          }
        },
        "5cee8abaf16e42eca00d831f7786c80b": {
          "model_module": "@jupyter-widgets/controls",
          "model_name": "HBoxModel",
          "model_module_version": "1.5.0",
          "state": {
            "_dom_classes": [],
            "_model_module": "@jupyter-widgets/controls",
            "_model_module_version": "1.5.0",
            "_model_name": "HBoxModel",
            "_view_count": null,
            "_view_module": "@jupyter-widgets/controls",
            "_view_module_version": "1.5.0",
            "_view_name": "HBoxView",
            "box_style": "",
            "children": [
              "IPY_MODEL_9ab77afdf9db4950b556969021b48f83",
              "IPY_MODEL_97686b6494094b6ba777ed462bbf28f0",
              "IPY_MODEL_fee402911d254aa9bea6f7640ee595f9"
            ],
            "layout": "IPY_MODEL_a006515d89774f55b249a1c6db0e2469"
          }
        },
        "9ab77afdf9db4950b556969021b48f83": {
          "model_module": "@jupyter-widgets/controls",
          "model_name": "HTMLModel",
          "model_module_version": "1.5.0",
          "state": {
            "_dom_classes": [],
            "_model_module": "@jupyter-widgets/controls",
            "_model_module_version": "1.5.0",
            "_model_name": "HTMLModel",
            "_view_count": null,
            "_view_module": "@jupyter-widgets/controls",
            "_view_module_version": "1.5.0",
            "_view_name": "HTMLView",
            "description": "",
            "description_tooltip": null,
            "layout": "IPY_MODEL_12950c1c788d48c2b054d5b1f835c3bb",
            "placeholder": "​",
            "style": "IPY_MODEL_fea057b9f2da410995ba3e52cbe5f2a5",
            "value": "100%"
          }
        },
        "97686b6494094b6ba777ed462bbf28f0": {
          "model_module": "@jupyter-widgets/controls",
          "model_name": "FloatProgressModel",
          "model_module_version": "1.5.0",
          "state": {
            "_dom_classes": [],
            "_model_module": "@jupyter-widgets/controls",
            "_model_module_version": "1.5.0",
            "_model_name": "FloatProgressModel",
            "_view_count": null,
            "_view_module": "@jupyter-widgets/controls",
            "_view_module_version": "1.5.0",
            "_view_name": "ProgressView",
            "bar_style": "success",
            "description": "",
            "description_tooltip": null,
            "layout": "IPY_MODEL_24fce77f5c7442039ec924ea6055793d",
            "max": 90,
            "min": 0,
            "orientation": "horizontal",
            "style": "IPY_MODEL_8d3afecd9ad9452592bfca591cdcadc6",
            "value": 90
          }
        },
        "fee402911d254aa9bea6f7640ee595f9": {
          "model_module": "@jupyter-widgets/controls",
          "model_name": "HTMLModel",
          "model_module_version": "1.5.0",
          "state": {
            "_dom_classes": [],
            "_model_module": "@jupyter-widgets/controls",
            "_model_module_version": "1.5.0",
            "_model_name": "HTMLModel",
            "_view_count": null,
            "_view_module": "@jupyter-widgets/controls",
            "_view_module_version": "1.5.0",
            "_view_name": "HTMLView",
            "description": "",
            "description_tooltip": null,
            "layout": "IPY_MODEL_da318c0a0dfd4278b79f0cfff6dafd67",
            "placeholder": "​",
            "style": "IPY_MODEL_6d1d4b73e5ed4f478452e21dc8f829f1",
            "value": " 90/90 [00:00&lt;00:00, 184.71it/s]"
          }
        },
        "a006515d89774f55b249a1c6db0e2469": {
          "model_module": "@jupyter-widgets/base",
          "model_name": "LayoutModel",
          "model_module_version": "1.2.0",
          "state": {
            "_model_module": "@jupyter-widgets/base",
            "_model_module_version": "1.2.0",
            "_model_name": "LayoutModel",
            "_view_count": null,
            "_view_module": "@jupyter-widgets/base",
            "_view_module_version": "1.2.0",
            "_view_name": "LayoutView",
            "align_content": null,
            "align_items": null,
            "align_self": null,
            "border": null,
            "bottom": null,
            "display": null,
            "flex": null,
            "flex_flow": null,
            "grid_area": null,
            "grid_auto_columns": null,
            "grid_auto_flow": null,
            "grid_auto_rows": null,
            "grid_column": null,
            "grid_gap": null,
            "grid_row": null,
            "grid_template_areas": null,
            "grid_template_columns": null,
            "grid_template_rows": null,
            "height": null,
            "justify_content": null,
            "justify_items": null,
            "left": null,
            "margin": null,
            "max_height": null,
            "max_width": null,
            "min_height": null,
            "min_width": null,
            "object_fit": null,
            "object_position": null,
            "order": null,
            "overflow": null,
            "overflow_x": null,
            "overflow_y": null,
            "padding": null,
            "right": null,
            "top": null,
            "visibility": null,
            "width": null
          }
        },
        "12950c1c788d48c2b054d5b1f835c3bb": {
          "model_module": "@jupyter-widgets/base",
          "model_name": "LayoutModel",
          "model_module_version": "1.2.0",
          "state": {
            "_model_module": "@jupyter-widgets/base",
            "_model_module_version": "1.2.0",
            "_model_name": "LayoutModel",
            "_view_count": null,
            "_view_module": "@jupyter-widgets/base",
            "_view_module_version": "1.2.0",
            "_view_name": "LayoutView",
            "align_content": null,
            "align_items": null,
            "align_self": null,
            "border": null,
            "bottom": null,
            "display": null,
            "flex": null,
            "flex_flow": null,
            "grid_area": null,
            "grid_auto_columns": null,
            "grid_auto_flow": null,
            "grid_auto_rows": null,
            "grid_column": null,
            "grid_gap": null,
            "grid_row": null,
            "grid_template_areas": null,
            "grid_template_columns": null,
            "grid_template_rows": null,
            "height": null,
            "justify_content": null,
            "justify_items": null,
            "left": null,
            "margin": null,
            "max_height": null,
            "max_width": null,
            "min_height": null,
            "min_width": null,
            "object_fit": null,
            "object_position": null,
            "order": null,
            "overflow": null,
            "overflow_x": null,
            "overflow_y": null,
            "padding": null,
            "right": null,
            "top": null,
            "visibility": null,
            "width": null
          }
        },
        "fea057b9f2da410995ba3e52cbe5f2a5": {
          "model_module": "@jupyter-widgets/controls",
          "model_name": "DescriptionStyleModel",
          "model_module_version": "1.5.0",
          "state": {
            "_model_module": "@jupyter-widgets/controls",
            "_model_module_version": "1.5.0",
            "_model_name": "DescriptionStyleModel",
            "_view_count": null,
            "_view_module": "@jupyter-widgets/base",
            "_view_module_version": "1.2.0",
            "_view_name": "StyleView",
            "description_width": ""
          }
        },
        "24fce77f5c7442039ec924ea6055793d": {
          "model_module": "@jupyter-widgets/base",
          "model_name": "LayoutModel",
          "model_module_version": "1.2.0",
          "state": {
            "_model_module": "@jupyter-widgets/base",
            "_model_module_version": "1.2.0",
            "_model_name": "LayoutModel",
            "_view_count": null,
            "_view_module": "@jupyter-widgets/base",
            "_view_module_version": "1.2.0",
            "_view_name": "LayoutView",
            "align_content": null,
            "align_items": null,
            "align_self": null,
            "border": null,
            "bottom": null,
            "display": null,
            "flex": null,
            "flex_flow": null,
            "grid_area": null,
            "grid_auto_columns": null,
            "grid_auto_flow": null,
            "grid_auto_rows": null,
            "grid_column": null,
            "grid_gap": null,
            "grid_row": null,
            "grid_template_areas": null,
            "grid_template_columns": null,
            "grid_template_rows": null,
            "height": null,
            "justify_content": null,
            "justify_items": null,
            "left": null,
            "margin": null,
            "max_height": null,
            "max_width": null,
            "min_height": null,
            "min_width": null,
            "object_fit": null,
            "object_position": null,
            "order": null,
            "overflow": null,
            "overflow_x": null,
            "overflow_y": null,
            "padding": null,
            "right": null,
            "top": null,
            "visibility": null,
            "width": null
          }
        },
        "8d3afecd9ad9452592bfca591cdcadc6": {
          "model_module": "@jupyter-widgets/controls",
          "model_name": "ProgressStyleModel",
          "model_module_version": "1.5.0",
          "state": {
            "_model_module": "@jupyter-widgets/controls",
            "_model_module_version": "1.5.0",
            "_model_name": "ProgressStyleModel",
            "_view_count": null,
            "_view_module": "@jupyter-widgets/base",
            "_view_module_version": "1.2.0",
            "_view_name": "StyleView",
            "bar_color": null,
            "description_width": ""
          }
        },
        "da318c0a0dfd4278b79f0cfff6dafd67": {
          "model_module": "@jupyter-widgets/base",
          "model_name": "LayoutModel",
          "model_module_version": "1.2.0",
          "state": {
            "_model_module": "@jupyter-widgets/base",
            "_model_module_version": "1.2.0",
            "_model_name": "LayoutModel",
            "_view_count": null,
            "_view_module": "@jupyter-widgets/base",
            "_view_module_version": "1.2.0",
            "_view_name": "LayoutView",
            "align_content": null,
            "align_items": null,
            "align_self": null,
            "border": null,
            "bottom": null,
            "display": null,
            "flex": null,
            "flex_flow": null,
            "grid_area": null,
            "grid_auto_columns": null,
            "grid_auto_flow": null,
            "grid_auto_rows": null,
            "grid_column": null,
            "grid_gap": null,
            "grid_row": null,
            "grid_template_areas": null,
            "grid_template_columns": null,
            "grid_template_rows": null,
            "height": null,
            "justify_content": null,
            "justify_items": null,
            "left": null,
            "margin": null,
            "max_height": null,
            "max_width": null,
            "min_height": null,
            "min_width": null,
            "object_fit": null,
            "object_position": null,
            "order": null,
            "overflow": null,
            "overflow_x": null,
            "overflow_y": null,
            "padding": null,
            "right": null,
            "top": null,
            "visibility": null,
            "width": null
          }
        },
        "6d1d4b73e5ed4f478452e21dc8f829f1": {
          "model_module": "@jupyter-widgets/controls",
          "model_name": "DescriptionStyleModel",
          "model_module_version": "1.5.0",
          "state": {
            "_model_module": "@jupyter-widgets/controls",
            "_model_module_version": "1.5.0",
            "_model_name": "DescriptionStyleModel",
            "_view_count": null,
            "_view_module": "@jupyter-widgets/base",
            "_view_module_version": "1.2.0",
            "_view_name": "StyleView",
            "description_width": ""
          }
        }
      }
    }
  },
  "nbformat": 4,
  "nbformat_minor": 0
}